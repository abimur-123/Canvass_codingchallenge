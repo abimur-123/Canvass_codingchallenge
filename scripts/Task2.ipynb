{
 "cells": [
  {
   "cell_type": "markdown",
   "metadata": {},
   "source": [
    "# Task2"
   ]
  },
  {
   "cell_type": "markdown",
   "metadata": {},
   "source": [
    "forecasting_dataset.csv is a file that contains pollution data for a city. Your task is to create a model that, when fed with columns co_gt, nhmc, c6h6, s2, nox, s3, no2, s4, s5, t, rh, ah, and level, predicts the value of y six hours later."
   ]
  },
  {
   "cell_type": "markdown",
   "metadata": {},
   "source": [
    "## TOC\n",
    "\n",
    "1. [Yet to do](#Yet-to-do)\n",
    "1. [Assumptions](#Assumptions)\n",
    "2. [Import libraries and data](#Imports)\n",
    "2. [Feature engineering](#Feature-engineering)\n",
    "4. [Basic EDA](#EDA)\n",
    "5. [Feature selection](#Feature-scaling-and-selection)\n",
    "6. [Linear models and trees](#Modelling)"
   ]
  },
  {
   "cell_type": "markdown",
   "metadata": {},
   "source": [
    "## Yet to do\n",
    "1. Remove negative readings and try fitting\n",
    "2. Overload predict functions from sklearn class to pre-process data\n",
    "3. Handling edge-cases"
   ]
  },
  {
   "cell_type": "markdown",
   "metadata": {},
   "source": [
    "## Assumptions\n",
    "1. No break in 1hour observation of data of the parameters\n",
    "2. There are 365 rows with negative reading for pollution. Although this seems like an anomaly, ignoring it for the purpose of the analysis due to lack of domain knowledge. *Try removing these observations and predicting*"
   ]
  },
  {
   "cell_type": "markdown",
   "metadata": {},
   "source": [
    "## Imports"
   ]
  },
  {
   "cell_type": "code",
   "execution_count": 126,
   "metadata": {},
   "outputs": [],
   "source": [
    "import pandas as pd\n",
    "import numpy as np\n",
    "import os\n",
    "import matplotlib.pyplot as plt\n",
    "import seaborn as sns\n",
    "import math\n",
    "from time import time\n",
    "import pickle\n",
    "\n",
    "# scikit learn models\n",
    "from sklearn.model_selection import train_test_split, GridSearchCV, RandomizedSearchCV\n",
    "from sklearn.model_selection import cross_val_score\n",
    "from sklearn.metrics import f1_score\n",
    "from sklearn.metrics import roc_auc_score\n",
    "from sklearn.preprocessing import StandardScaler\n",
    "from sklearn.linear_model import Ridge, Lasso, BayesianRidge, ElasticNet, LinearRegression, RANSACRegressor\n",
    "from sklearn.tree import DecisionTreeRegressor\n",
    "from sklearn.ensemble import GradientBoostingRegressor, RandomForestRegressor, BaggingRegressor\n",
    "from sklearn.metrics import r2_score\n",
    "from sklearn.metrics import mean_squared_error, median_absolute_error\n",
    "from sklearn.externals import joblib\n",
    "\n",
    "from xgboost import XGBRegressor\n",
    "\n",
    "%matplotlib inline"
   ]
  },
  {
   "cell_type": "code",
   "execution_count": 127,
   "metadata": {},
   "outputs": [
    {
     "name": "stdout",
     "output_type": "stream",
     "text": [
      "(8421, 15)\n"
     ]
    },
    {
     "data": {
      "text/html": [
       "<div>\n",
       "<style>\n",
       "    .dataframe thead tr:only-child th {\n",
       "        text-align: right;\n",
       "    }\n",
       "\n",
       "    .dataframe thead th {\n",
       "        text-align: left;\n",
       "    }\n",
       "\n",
       "    .dataframe tbody tr th {\n",
       "        vertical-align: top;\n",
       "    }\n",
       "</style>\n",
       "<table border=\"1\" class=\"dataframe\">\n",
       "  <thead>\n",
       "    <tr style=\"text-align: right;\">\n",
       "      <th></th>\n",
       "      <th>date_time</th>\n",
       "      <th>y</th>\n",
       "      <th>co_gt</th>\n",
       "      <th>nhmc</th>\n",
       "      <th>c6h6</th>\n",
       "      <th>s2</th>\n",
       "      <th>nox</th>\n",
       "      <th>s3</th>\n",
       "      <th>no2</th>\n",
       "      <th>s4</th>\n",
       "      <th>s5</th>\n",
       "      <th>t</th>\n",
       "      <th>rh</th>\n",
       "      <th>ah</th>\n",
       "      <th>level</th>\n",
       "    </tr>\n",
       "  </thead>\n",
       "  <tbody>\n",
       "    <tr>\n",
       "      <th>0</th>\n",
       "      <td>2004-10-13 20:00:00</td>\n",
       "      <td>943</td>\n",
       "      <td>-200.0</td>\n",
       "      <td>-200.0</td>\n",
       "      <td>7.2</td>\n",
       "      <td>867.0</td>\n",
       "      <td>-200.0</td>\n",
       "      <td>834.0</td>\n",
       "      <td>-200.0</td>\n",
       "      <td>1314.0</td>\n",
       "      <td>891.0</td>\n",
       "      <td>14.8</td>\n",
       "      <td>57.3</td>\n",
       "      <td>0.9603</td>\n",
       "      <td>NaN</td>\n",
       "    </tr>\n",
       "    <tr>\n",
       "      <th>1</th>\n",
       "      <td>2004-08-10 03:00:00</td>\n",
       "      <td>919</td>\n",
       "      <td>0.5</td>\n",
       "      <td>-200.0</td>\n",
       "      <td>3.9</td>\n",
       "      <td>704.0</td>\n",
       "      <td>-200.0</td>\n",
       "      <td>861.0</td>\n",
       "      <td>-200.0</td>\n",
       "      <td>1603.0</td>\n",
       "      <td>860.0</td>\n",
       "      <td>24.4</td>\n",
       "      <td>65.0</td>\n",
       "      <td>1.9612</td>\n",
       "      <td>Low</td>\n",
       "    </tr>\n",
       "    <tr>\n",
       "      <th>2</th>\n",
       "      <td>2004-06-21 08:00:00</td>\n",
       "      <td>1221</td>\n",
       "      <td>3.7</td>\n",
       "      <td>-200.0</td>\n",
       "      <td>23.3</td>\n",
       "      <td>1386.0</td>\n",
       "      <td>NaN</td>\n",
       "      <td>626.0</td>\n",
       "      <td>109.0</td>\n",
       "      <td>2138.0</td>\n",
       "      <td>NaN</td>\n",
       "      <td>23.3</td>\n",
       "      <td>38.6</td>\n",
       "      <td>1.0919</td>\n",
       "      <td>High</td>\n",
       "    </tr>\n",
       "    <tr>\n",
       "      <th>3</th>\n",
       "      <td>2004-07-12 12:00:00</td>\n",
       "      <td>1024</td>\n",
       "      <td>2.1</td>\n",
       "      <td>-200.0</td>\n",
       "      <td>12.1</td>\n",
       "      <td>1052.0</td>\n",
       "      <td>183.0</td>\n",
       "      <td>779.0</td>\n",
       "      <td>NaN</td>\n",
       "      <td>1690.0</td>\n",
       "      <td>952.0</td>\n",
       "      <td>28.5</td>\n",
       "      <td>27.3</td>\n",
       "      <td>1.0479</td>\n",
       "      <td>High</td>\n",
       "    </tr>\n",
       "    <tr>\n",
       "      <th>4</th>\n",
       "      <td>2004-12-14 12:00:00</td>\n",
       "      <td>1377</td>\n",
       "      <td>4.4</td>\n",
       "      <td>-200.0</td>\n",
       "      <td>21.7</td>\n",
       "      <td>1342.0</td>\n",
       "      <td>786.0</td>\n",
       "      <td>499.0</td>\n",
       "      <td>206.0</td>\n",
       "      <td>1546.0</td>\n",
       "      <td>2006.0</td>\n",
       "      <td>12.9</td>\n",
       "      <td>54.1</td>\n",
       "      <td>0.8003</td>\n",
       "      <td>High</td>\n",
       "    </tr>\n",
       "  </tbody>\n",
       "</table>\n",
       "</div>"
      ],
      "text/plain": [
       "            date_time     y  co_gt   nhmc  c6h6      s2    nox     s3    no2  \\\n",
       "0 2004-10-13 20:00:00   943 -200.0 -200.0   7.2   867.0 -200.0  834.0 -200.0   \n",
       "1 2004-08-10 03:00:00   919    0.5 -200.0   3.9   704.0 -200.0  861.0 -200.0   \n",
       "2 2004-06-21 08:00:00  1221    3.7 -200.0  23.3  1386.0    NaN  626.0  109.0   \n",
       "3 2004-07-12 12:00:00  1024    2.1 -200.0  12.1  1052.0  183.0  779.0    NaN   \n",
       "4 2004-12-14 12:00:00  1377    4.4 -200.0  21.7  1342.0  786.0  499.0  206.0   \n",
       "\n",
       "       s4      s5     t    rh      ah level  \n",
       "0  1314.0   891.0  14.8  57.3  0.9603   NaN  \n",
       "1  1603.0   860.0  24.4  65.0  1.9612   Low  \n",
       "2  2138.0     NaN  23.3  38.6  1.0919  High  \n",
       "3  1690.0   952.0  28.5  27.3  1.0479  High  \n",
       "4  1546.0  2006.0  12.9  54.1  0.8003  High  "
      ]
     },
     "execution_count": 127,
     "metadata": {},
     "output_type": "execute_result"
    }
   ],
   "source": [
    "fore_data = pd.read_csv('../data/forecasting_dataset.csv', parse_dates=[['date', 'time']])\n",
    "print(fore_data.shape)\n",
    "fore_data.head()"
   ]
  },
  {
   "cell_type": "code",
   "execution_count": 128,
   "metadata": {},
   "outputs": [
    {
     "data": {
      "text/html": [
       "<div>\n",
       "<style>\n",
       "    .dataframe thead tr:only-child th {\n",
       "        text-align: right;\n",
       "    }\n",
       "\n",
       "    .dataframe thead th {\n",
       "        text-align: left;\n",
       "    }\n",
       "\n",
       "    .dataframe tbody tr th {\n",
       "        vertical-align: top;\n",
       "    }\n",
       "</style>\n",
       "<table border=\"1\" class=\"dataframe\">\n",
       "  <thead>\n",
       "    <tr style=\"text-align: right;\">\n",
       "      <th></th>\n",
       "      <th>date_time</th>\n",
       "      <th>y</th>\n",
       "      <th>co_gt</th>\n",
       "      <th>nhmc</th>\n",
       "      <th>c6h6</th>\n",
       "      <th>s2</th>\n",
       "      <th>nox</th>\n",
       "      <th>s3</th>\n",
       "      <th>no2</th>\n",
       "      <th>s4</th>\n",
       "      <th>s5</th>\n",
       "      <th>t</th>\n",
       "      <th>rh</th>\n",
       "      <th>ah</th>\n",
       "      <th>level</th>\n",
       "    </tr>\n",
       "  </thead>\n",
       "  <tbody>\n",
       "    <tr>\n",
       "      <th>0</th>\n",
       "      <td>2004-03-10 18:00:00</td>\n",
       "      <td>1360</td>\n",
       "      <td>2.6</td>\n",
       "      <td>150.0</td>\n",
       "      <td>11.9</td>\n",
       "      <td>NaN</td>\n",
       "      <td>166.0</td>\n",
       "      <td>1056.0</td>\n",
       "      <td>113.0</td>\n",
       "      <td>1692.0</td>\n",
       "      <td>NaN</td>\n",
       "      <td>13.6</td>\n",
       "      <td>48.9</td>\n",
       "      <td>0.7578</td>\n",
       "      <td>High</td>\n",
       "    </tr>\n",
       "    <tr>\n",
       "      <th>1</th>\n",
       "      <td>2004-03-10 19:00:00</td>\n",
       "      <td>1292</td>\n",
       "      <td>2.0</td>\n",
       "      <td>112.0</td>\n",
       "      <td>9.4</td>\n",
       "      <td>955.0</td>\n",
       "      <td>103.0</td>\n",
       "      <td>1174.0</td>\n",
       "      <td>92.0</td>\n",
       "      <td>1559.0</td>\n",
       "      <td>972.0</td>\n",
       "      <td>13.3</td>\n",
       "      <td>47.7</td>\n",
       "      <td>0.7255</td>\n",
       "      <td>High</td>\n",
       "    </tr>\n",
       "    <tr>\n",
       "      <th>2</th>\n",
       "      <td>2004-03-10 20:00:00</td>\n",
       "      <td>1402</td>\n",
       "      <td>2.2</td>\n",
       "      <td>88.0</td>\n",
       "      <td>9.0</td>\n",
       "      <td>939.0</td>\n",
       "      <td>131.0</td>\n",
       "      <td>1140.0</td>\n",
       "      <td>114.0</td>\n",
       "      <td>1555.0</td>\n",
       "      <td>1074.0</td>\n",
       "      <td>11.9</td>\n",
       "      <td>NaN</td>\n",
       "      <td>0.7502</td>\n",
       "      <td>NaN</td>\n",
       "    </tr>\n",
       "    <tr>\n",
       "      <th>3</th>\n",
       "      <td>2004-03-10 21:00:00</td>\n",
       "      <td>1376</td>\n",
       "      <td>2.2</td>\n",
       "      <td>80.0</td>\n",
       "      <td>9.2</td>\n",
       "      <td>948.0</td>\n",
       "      <td>172.0</td>\n",
       "      <td>1092.0</td>\n",
       "      <td>122.0</td>\n",
       "      <td>1584.0</td>\n",
       "      <td>1203.0</td>\n",
       "      <td>11.0</td>\n",
       "      <td>60.0</td>\n",
       "      <td>0.7867</td>\n",
       "      <td>High</td>\n",
       "    </tr>\n",
       "    <tr>\n",
       "      <th>4</th>\n",
       "      <td>2004-03-10 22:00:00</td>\n",
       "      <td>1272</td>\n",
       "      <td>1.6</td>\n",
       "      <td>51.0</td>\n",
       "      <td>6.5</td>\n",
       "      <td>836.0</td>\n",
       "      <td>131.0</td>\n",
       "      <td>1205.0</td>\n",
       "      <td>116.0</td>\n",
       "      <td>NaN</td>\n",
       "      <td>1110.0</td>\n",
       "      <td>NaN</td>\n",
       "      <td>59.6</td>\n",
       "      <td>0.7888</td>\n",
       "      <td>High</td>\n",
       "    </tr>\n",
       "    <tr>\n",
       "      <th>5</th>\n",
       "      <td>2004-03-10 23:00:00</td>\n",
       "      <td>1197</td>\n",
       "      <td>1.2</td>\n",
       "      <td>38.0</td>\n",
       "      <td>4.7</td>\n",
       "      <td>750.0</td>\n",
       "      <td>89.0</td>\n",
       "      <td>1337.0</td>\n",
       "      <td>96.0</td>\n",
       "      <td>1393.0</td>\n",
       "      <td>949.0</td>\n",
       "      <td>11.2</td>\n",
       "      <td>59.2</td>\n",
       "      <td>0.7848</td>\n",
       "      <td>High</td>\n",
       "    </tr>\n",
       "  </tbody>\n",
       "</table>\n",
       "</div>"
      ],
      "text/plain": [
       "            date_time     y  co_gt   nhmc  c6h6     s2    nox      s3    no2  \\\n",
       "0 2004-03-10 18:00:00  1360    2.6  150.0  11.9    NaN  166.0  1056.0  113.0   \n",
       "1 2004-03-10 19:00:00  1292    2.0  112.0   9.4  955.0  103.0  1174.0   92.0   \n",
       "2 2004-03-10 20:00:00  1402    2.2   88.0   9.0  939.0  131.0  1140.0  114.0   \n",
       "3 2004-03-10 21:00:00  1376    2.2   80.0   9.2  948.0  172.0  1092.0  122.0   \n",
       "4 2004-03-10 22:00:00  1272    1.6   51.0   6.5  836.0  131.0  1205.0  116.0   \n",
       "5 2004-03-10 23:00:00  1197    1.2   38.0   4.7  750.0   89.0  1337.0   96.0   \n",
       "\n",
       "       s4      s5     t    rh      ah level  \n",
       "0  1692.0     NaN  13.6  48.9  0.7578  High  \n",
       "1  1559.0   972.0  13.3  47.7  0.7255  High  \n",
       "2  1555.0  1074.0  11.9   NaN  0.7502   NaN  \n",
       "3  1584.0  1203.0  11.0  60.0  0.7867  High  \n",
       "4     NaN  1110.0   NaN  59.6  0.7888  High  \n",
       "5  1393.0   949.0  11.2  59.2  0.7848  High  "
      ]
     },
     "execution_count": 128,
     "metadata": {},
     "output_type": "execute_result"
    }
   ],
   "source": [
    "fore_data.sort_values(['date_time'], inplace=True)\n",
    "fore_data.reset_index(drop = True).head(6)"
   ]
  },
  {
   "cell_type": "code",
   "execution_count": 129,
   "metadata": {},
   "outputs": [
    {
     "data": {
      "text/html": [
       "<div>\n",
       "<style>\n",
       "    .dataframe thead tr:only-child th {\n",
       "        text-align: right;\n",
       "    }\n",
       "\n",
       "    .dataframe thead th {\n",
       "        text-align: left;\n",
       "    }\n",
       "\n",
       "    .dataframe tbody tr th {\n",
       "        vertical-align: top;\n",
       "    }\n",
       "</style>\n",
       "<table border=\"1\" class=\"dataframe\">\n",
       "  <thead>\n",
       "    <tr style=\"text-align: right;\">\n",
       "      <th></th>\n",
       "      <th>y</th>\n",
       "      <th>co_gt</th>\n",
       "      <th>nhmc</th>\n",
       "      <th>c6h6</th>\n",
       "      <th>s2</th>\n",
       "      <th>nox</th>\n",
       "      <th>s3</th>\n",
       "      <th>no2</th>\n",
       "      <th>s4</th>\n",
       "      <th>s5</th>\n",
       "      <th>t</th>\n",
       "      <th>rh</th>\n",
       "      <th>ah</th>\n",
       "    </tr>\n",
       "  </thead>\n",
       "  <tbody>\n",
       "    <tr>\n",
       "      <th>count</th>\n",
       "      <td>8421.000000</td>\n",
       "      <td>7980.000000</td>\n",
       "      <td>7987.000000</td>\n",
       "      <td>8008.000000</td>\n",
       "      <td>8000.000000</td>\n",
       "      <td>7996.000000</td>\n",
       "      <td>8005.000000</td>\n",
       "      <td>7966.000000</td>\n",
       "      <td>8027.000000</td>\n",
       "      <td>8021.000000</td>\n",
       "      <td>7997.000000</td>\n",
       "      <td>7985.000000</td>\n",
       "      <td>7996.000000</td>\n",
       "    </tr>\n",
       "    <tr>\n",
       "      <th>mean</th>\n",
       "      <td>1042.105926</td>\n",
       "      <td>-37.626153</td>\n",
       "      <td>-154.691373</td>\n",
       "      <td>1.134540</td>\n",
       "      <td>898.965250</td>\n",
       "      <td>156.620060</td>\n",
       "      <td>801.763398</td>\n",
       "      <td>50.172483</td>\n",
       "      <td>1414.505295</td>\n",
       "      <td>970.777709</td>\n",
       "      <td>9.904877</td>\n",
       "      <td>38.029105</td>\n",
       "      <td>-7.792764</td>\n",
       "    </tr>\n",
       "    <tr>\n",
       "      <th>std</th>\n",
       "      <td>340.287650</td>\n",
       "      <td>80.407058</td>\n",
       "      <td>147.073276</td>\n",
       "      <td>43.563292</td>\n",
       "      <td>350.196842</td>\n",
       "      <td>260.224266</td>\n",
       "      <td>328.978770</td>\n",
       "      <td>129.871132</td>\n",
       "      <td>478.101456</td>\n",
       "      <td>459.593401</td>\n",
       "      <td>44.466069</td>\n",
       "      <td>53.944638</td>\n",
       "      <td>41.250356</td>\n",
       "    </tr>\n",
       "    <tr>\n",
       "      <th>min</th>\n",
       "      <td>-200.000000</td>\n",
       "      <td>-200.000000</td>\n",
       "      <td>-200.000000</td>\n",
       "      <td>-200.000000</td>\n",
       "      <td>-200.000000</td>\n",
       "      <td>-200.000000</td>\n",
       "      <td>-200.000000</td>\n",
       "      <td>-200.000000</td>\n",
       "      <td>-200.000000</td>\n",
       "      <td>-200.000000</td>\n",
       "      <td>-200.000000</td>\n",
       "      <td>-200.000000</td>\n",
       "      <td>-200.000000</td>\n",
       "    </tr>\n",
       "    <tr>\n",
       "      <th>25%</th>\n",
       "      <td>915.000000</td>\n",
       "      <td>0.500000</td>\n",
       "      <td>-200.000000</td>\n",
       "      <td>4.100000</td>\n",
       "      <td>719.000000</td>\n",
       "      <td>42.000000</td>\n",
       "      <td>647.000000</td>\n",
       "      <td>47.000000</td>\n",
       "      <td>1235.000000</td>\n",
       "      <td>702.000000</td>\n",
       "      <td>11.400000</td>\n",
       "      <td>33.400000</td>\n",
       "      <td>0.727475</td>\n",
       "    </tr>\n",
       "    <tr>\n",
       "      <th>50%</th>\n",
       "      <td>1050.000000</td>\n",
       "      <td>1.500000</td>\n",
       "      <td>-200.000000</td>\n",
       "      <td>8.100000</td>\n",
       "      <td>903.000000</td>\n",
       "      <td>128.000000</td>\n",
       "      <td>802.000000</td>\n",
       "      <td>92.000000</td>\n",
       "      <td>1476.000000</td>\n",
       "      <td>939.000000</td>\n",
       "      <td>18.000000</td>\n",
       "      <td>48.100000</td>\n",
       "      <td>1.005100</td>\n",
       "    </tr>\n",
       "    <tr>\n",
       "      <th>75%</th>\n",
       "      <td>1220.000000</td>\n",
       "      <td>2.600000</td>\n",
       "      <td>-200.000000</td>\n",
       "      <td>13.900000</td>\n",
       "      <td>1113.000000</td>\n",
       "      <td>269.000000</td>\n",
       "      <td>973.000000</td>\n",
       "      <td>128.000000</td>\n",
       "      <td>1684.000000</td>\n",
       "      <td>1250.000000</td>\n",
       "      <td>24.700000</td>\n",
       "      <td>61.600000</td>\n",
       "      <td>1.338700</td>\n",
       "    </tr>\n",
       "    <tr>\n",
       "      <th>max</th>\n",
       "      <td>2040.000000</td>\n",
       "      <td>11.900000</td>\n",
       "      <td>1189.000000</td>\n",
       "      <td>63.700000</td>\n",
       "      <td>2214.000000</td>\n",
       "      <td>1479.000000</td>\n",
       "      <td>2683.000000</td>\n",
       "      <td>340.000000</td>\n",
       "      <td>2775.000000</td>\n",
       "      <td>2523.000000</td>\n",
       "      <td>44.600000</td>\n",
       "      <td>88.700000</td>\n",
       "      <td>2.231000</td>\n",
       "    </tr>\n",
       "  </tbody>\n",
       "</table>\n",
       "</div>"
      ],
      "text/plain": [
       "                 y        co_gt         nhmc         c6h6           s2  \\\n",
       "count  8421.000000  7980.000000  7987.000000  8008.000000  8000.000000   \n",
       "mean   1042.105926   -37.626153  -154.691373     1.134540   898.965250   \n",
       "std     340.287650    80.407058   147.073276    43.563292   350.196842   \n",
       "min    -200.000000  -200.000000  -200.000000  -200.000000  -200.000000   \n",
       "25%     915.000000     0.500000  -200.000000     4.100000   719.000000   \n",
       "50%    1050.000000     1.500000  -200.000000     8.100000   903.000000   \n",
       "75%    1220.000000     2.600000  -200.000000    13.900000  1113.000000   \n",
       "max    2040.000000    11.900000  1189.000000    63.700000  2214.000000   \n",
       "\n",
       "               nox           s3          no2           s4           s5  \\\n",
       "count  7996.000000  8005.000000  7966.000000  8027.000000  8021.000000   \n",
       "mean    156.620060   801.763398    50.172483  1414.505295   970.777709   \n",
       "std     260.224266   328.978770   129.871132   478.101456   459.593401   \n",
       "min    -200.000000  -200.000000  -200.000000  -200.000000  -200.000000   \n",
       "25%      42.000000   647.000000    47.000000  1235.000000   702.000000   \n",
       "50%     128.000000   802.000000    92.000000  1476.000000   939.000000   \n",
       "75%     269.000000   973.000000   128.000000  1684.000000  1250.000000   \n",
       "max    1479.000000  2683.000000   340.000000  2775.000000  2523.000000   \n",
       "\n",
       "                 t           rh           ah  \n",
       "count  7997.000000  7985.000000  7996.000000  \n",
       "mean      9.904877    38.029105    -7.792764  \n",
       "std      44.466069    53.944638    41.250356  \n",
       "min    -200.000000  -200.000000  -200.000000  \n",
       "25%      11.400000    33.400000     0.727475  \n",
       "50%      18.000000    48.100000     1.005100  \n",
       "75%      24.700000    61.600000     1.338700  \n",
       "max      44.600000    88.700000     2.231000  "
      ]
     },
     "execution_count": 129,
     "metadata": {},
     "output_type": "execute_result"
    }
   ],
   "source": [
    "fore_data.describe()"
   ]
  },
  {
   "cell_type": "code",
   "execution_count": 130,
   "metadata": {},
   "outputs": [
    {
     "data": {
      "text/plain": [
       "date_time      0\n",
       "y              0\n",
       "co_gt        441\n",
       "nhmc         434\n",
       "c6h6         413\n",
       "s2           421\n",
       "nox          425\n",
       "s3           416\n",
       "no2          455\n",
       "s4           394\n",
       "s5           400\n",
       "t            424\n",
       "rh           436\n",
       "ah           425\n",
       "level        418\n",
       "dtype: int64"
      ]
     },
     "execution_count": 130,
     "metadata": {},
     "output_type": "execute_result"
    }
   ],
   "source": [
    "fore_data.isnull().sum(axis=0)"
   ]
  },
  {
   "cell_type": "markdown",
   "metadata": {},
   "source": [
    "## Feature engineering"
   ]
  },
  {
   "cell_type": "code",
   "execution_count": 131,
   "metadata": {},
   "outputs": [
    {
     "data": {
      "text/html": [
       "<div>\n",
       "<style>\n",
       "    .dataframe thead tr:only-child th {\n",
       "        text-align: right;\n",
       "    }\n",
       "\n",
       "    .dataframe thead th {\n",
       "        text-align: left;\n",
       "    }\n",
       "\n",
       "    .dataframe tbody tr th {\n",
       "        vertical-align: top;\n",
       "    }\n",
       "</style>\n",
       "<table border=\"1\" class=\"dataframe\">\n",
       "  <thead>\n",
       "    <tr style=\"text-align: right;\">\n",
       "      <th></th>\n",
       "      <th>date_time</th>\n",
       "      <th>y</th>\n",
       "      <th>co_gt</th>\n",
       "      <th>nhmc</th>\n",
       "      <th>c6h6</th>\n",
       "      <th>s2</th>\n",
       "      <th>nox</th>\n",
       "      <th>s3</th>\n",
       "      <th>no2</th>\n",
       "      <th>s4</th>\n",
       "      <th>s5</th>\n",
       "      <th>t</th>\n",
       "      <th>rh</th>\n",
       "      <th>ah</th>\n",
       "      <th>level</th>\n",
       "      <th>y_later</th>\n",
       "    </tr>\n",
       "  </thead>\n",
       "  <tbody>\n",
       "    <tr>\n",
       "      <th>0</th>\n",
       "      <td>2004-03-10 18:00:00</td>\n",
       "      <td>1360</td>\n",
       "      <td>2.6</td>\n",
       "      <td>150.0</td>\n",
       "      <td>11.9</td>\n",
       "      <td>NaN</td>\n",
       "      <td>166.0</td>\n",
       "      <td>1056.0</td>\n",
       "      <td>113.0</td>\n",
       "      <td>1692.0</td>\n",
       "      <td>NaN</td>\n",
       "      <td>13.6</td>\n",
       "      <td>48.9</td>\n",
       "      <td>0.7578</td>\n",
       "      <td>High</td>\n",
       "      <td>1185.0</td>\n",
       "    </tr>\n",
       "    <tr>\n",
       "      <th>1</th>\n",
       "      <td>2004-03-10 19:00:00</td>\n",
       "      <td>1292</td>\n",
       "      <td>2.0</td>\n",
       "      <td>112.0</td>\n",
       "      <td>9.4</td>\n",
       "      <td>955.0</td>\n",
       "      <td>103.0</td>\n",
       "      <td>1174.0</td>\n",
       "      <td>92.0</td>\n",
       "      <td>1559.0</td>\n",
       "      <td>972.0</td>\n",
       "      <td>13.3</td>\n",
       "      <td>47.7</td>\n",
       "      <td>0.7255</td>\n",
       "      <td>High</td>\n",
       "      <td>1136.0</td>\n",
       "    </tr>\n",
       "    <tr>\n",
       "      <th>2</th>\n",
       "      <td>2004-03-10 20:00:00</td>\n",
       "      <td>1402</td>\n",
       "      <td>2.2</td>\n",
       "      <td>88.0</td>\n",
       "      <td>9.0</td>\n",
       "      <td>939.0</td>\n",
       "      <td>131.0</td>\n",
       "      <td>1140.0</td>\n",
       "      <td>114.0</td>\n",
       "      <td>1555.0</td>\n",
       "      <td>1074.0</td>\n",
       "      <td>11.9</td>\n",
       "      <td>NaN</td>\n",
       "      <td>0.7502</td>\n",
       "      <td>NaN</td>\n",
       "      <td>1094.0</td>\n",
       "    </tr>\n",
       "    <tr>\n",
       "      <th>3</th>\n",
       "      <td>2004-03-10 21:00:00</td>\n",
       "      <td>1376</td>\n",
       "      <td>2.2</td>\n",
       "      <td>80.0</td>\n",
       "      <td>9.2</td>\n",
       "      <td>948.0</td>\n",
       "      <td>172.0</td>\n",
       "      <td>1092.0</td>\n",
       "      <td>122.0</td>\n",
       "      <td>1584.0</td>\n",
       "      <td>1203.0</td>\n",
       "      <td>11.0</td>\n",
       "      <td>60.0</td>\n",
       "      <td>0.7867</td>\n",
       "      <td>High</td>\n",
       "      <td>1010.0</td>\n",
       "    </tr>\n",
       "    <tr>\n",
       "      <th>4</th>\n",
       "      <td>2004-03-10 22:00:00</td>\n",
       "      <td>1272</td>\n",
       "      <td>1.6</td>\n",
       "      <td>51.0</td>\n",
       "      <td>6.5</td>\n",
       "      <td>836.0</td>\n",
       "      <td>131.0</td>\n",
       "      <td>1205.0</td>\n",
       "      <td>116.0</td>\n",
       "      <td>NaN</td>\n",
       "      <td>1110.0</td>\n",
       "      <td>NaN</td>\n",
       "      <td>59.6</td>\n",
       "      <td>0.7888</td>\n",
       "      <td>High</td>\n",
       "      <td>1011.0</td>\n",
       "    </tr>\n",
       "    <tr>\n",
       "      <th>5</th>\n",
       "      <td>2004-03-10 23:00:00</td>\n",
       "      <td>1197</td>\n",
       "      <td>1.2</td>\n",
       "      <td>38.0</td>\n",
       "      <td>4.7</td>\n",
       "      <td>750.0</td>\n",
       "      <td>89.0</td>\n",
       "      <td>1337.0</td>\n",
       "      <td>96.0</td>\n",
       "      <td>1393.0</td>\n",
       "      <td>949.0</td>\n",
       "      <td>11.2</td>\n",
       "      <td>59.2</td>\n",
       "      <td>0.7848</td>\n",
       "      <td>High</td>\n",
       "      <td>1066.0</td>\n",
       "    </tr>\n",
       "    <tr>\n",
       "      <th>6</th>\n",
       "      <td>2004-03-11 00:00:00</td>\n",
       "      <td>1185</td>\n",
       "      <td>1.2</td>\n",
       "      <td>31.0</td>\n",
       "      <td>3.6</td>\n",
       "      <td>690.0</td>\n",
       "      <td>62.0</td>\n",
       "      <td>1462.0</td>\n",
       "      <td>77.0</td>\n",
       "      <td>1333.0</td>\n",
       "      <td>733.0</td>\n",
       "      <td>11.3</td>\n",
       "      <td>56.8</td>\n",
       "      <td>0.7603</td>\n",
       "      <td>High</td>\n",
       "      <td>1052.0</td>\n",
       "    </tr>\n",
       "    <tr>\n",
       "      <th>7</th>\n",
       "      <td>2004-03-11 01:00:00</td>\n",
       "      <td>1136</td>\n",
       "      <td>NaN</td>\n",
       "      <td>31.0</td>\n",
       "      <td>3.3</td>\n",
       "      <td>672.0</td>\n",
       "      <td>NaN</td>\n",
       "      <td>1453.0</td>\n",
       "      <td>76.0</td>\n",
       "      <td>1333.0</td>\n",
       "      <td>730.0</td>\n",
       "      <td>10.7</td>\n",
       "      <td>60.0</td>\n",
       "      <td>NaN</td>\n",
       "      <td>Moderate</td>\n",
       "      <td>1144.0</td>\n",
       "    </tr>\n",
       "    <tr>\n",
       "      <th>8</th>\n",
       "      <td>2004-03-11 02:00:00</td>\n",
       "      <td>1094</td>\n",
       "      <td>0.9</td>\n",
       "      <td>24.0</td>\n",
       "      <td>2.3</td>\n",
       "      <td>609.0</td>\n",
       "      <td>45.0</td>\n",
       "      <td>1579.0</td>\n",
       "      <td>60.0</td>\n",
       "      <td>1276.0</td>\n",
       "      <td>620.0</td>\n",
       "      <td>10.7</td>\n",
       "      <td>59.7</td>\n",
       "      <td>0.7648</td>\n",
       "      <td>Low</td>\n",
       "      <td>1333.0</td>\n",
       "    </tr>\n",
       "    <tr>\n",
       "      <th>9</th>\n",
       "      <td>2004-03-11 03:00:00</td>\n",
       "      <td>1010</td>\n",
       "      <td>0.6</td>\n",
       "      <td>19.0</td>\n",
       "      <td>1.7</td>\n",
       "      <td>561.0</td>\n",
       "      <td>-200.0</td>\n",
       "      <td>1705.0</td>\n",
       "      <td>-200.0</td>\n",
       "      <td>1235.0</td>\n",
       "      <td>501.0</td>\n",
       "      <td>10.3</td>\n",
       "      <td>60.2</td>\n",
       "      <td>0.7517</td>\n",
       "      <td>Low</td>\n",
       "      <td>1351.0</td>\n",
       "    </tr>\n",
       "  </tbody>\n",
       "</table>\n",
       "</div>"
      ],
      "text/plain": [
       "            date_time     y  co_gt   nhmc  c6h6     s2    nox      s3    no2  \\\n",
       "0 2004-03-10 18:00:00  1360    2.6  150.0  11.9    NaN  166.0  1056.0  113.0   \n",
       "1 2004-03-10 19:00:00  1292    2.0  112.0   9.4  955.0  103.0  1174.0   92.0   \n",
       "2 2004-03-10 20:00:00  1402    2.2   88.0   9.0  939.0  131.0  1140.0  114.0   \n",
       "3 2004-03-10 21:00:00  1376    2.2   80.0   9.2  948.0  172.0  1092.0  122.0   \n",
       "4 2004-03-10 22:00:00  1272    1.6   51.0   6.5  836.0  131.0  1205.0  116.0   \n",
       "5 2004-03-10 23:00:00  1197    1.2   38.0   4.7  750.0   89.0  1337.0   96.0   \n",
       "6 2004-03-11 00:00:00  1185    1.2   31.0   3.6  690.0   62.0  1462.0   77.0   \n",
       "7 2004-03-11 01:00:00  1136    NaN   31.0   3.3  672.0    NaN  1453.0   76.0   \n",
       "8 2004-03-11 02:00:00  1094    0.9   24.0   2.3  609.0   45.0  1579.0   60.0   \n",
       "9 2004-03-11 03:00:00  1010    0.6   19.0   1.7  561.0 -200.0  1705.0 -200.0   \n",
       "\n",
       "       s4      s5     t    rh      ah     level  y_later  \n",
       "0  1692.0     NaN  13.6  48.9  0.7578      High   1185.0  \n",
       "1  1559.0   972.0  13.3  47.7  0.7255      High   1136.0  \n",
       "2  1555.0  1074.0  11.9   NaN  0.7502       NaN   1094.0  \n",
       "3  1584.0  1203.0  11.0  60.0  0.7867      High   1010.0  \n",
       "4     NaN  1110.0   NaN  59.6  0.7888      High   1011.0  \n",
       "5  1393.0   949.0  11.2  59.2  0.7848      High   1066.0  \n",
       "6  1333.0   733.0  11.3  56.8  0.7603      High   1052.0  \n",
       "7  1333.0   730.0  10.7  60.0     NaN  Moderate   1144.0  \n",
       "8  1276.0   620.0  10.7  59.7  0.7648       Low   1333.0  \n",
       "9  1235.0   501.0  10.3  60.2  0.7517       Low   1351.0  "
      ]
     },
     "execution_count": 131,
     "metadata": {},
     "output_type": "execute_result"
    }
   ],
   "source": [
    "shift_y = fore_data.copy()\n",
    "shift_y['y_later'] = fore_data.y.shift(-6)\n",
    "shift_y.reset_index(drop = True, inplace = True)\n",
    "fore_data = shift_y.copy()\n",
    "fore_data.head(10)"
   ]
  },
  {
   "cell_type": "code",
   "execution_count": 132,
   "metadata": {},
   "outputs": [],
   "source": [
    "# removing last 6 rows as there are no 6 hour ahead forecast\n",
    "fore_data = fore_data.head(-6)"
   ]
  },
  {
   "cell_type": "code",
   "execution_count": 133,
   "metadata": {},
   "outputs": [],
   "source": [
    "depen_cols = ['y','y_later']"
   ]
  },
  {
   "cell_type": "code",
   "execution_count": 134,
   "metadata": {},
   "outputs": [],
   "source": [
    "numeric_cols = list(fore_data.select_dtypes(include=[np.number]).columns)"
   ]
  },
  {
   "cell_type": "code",
   "execution_count": 135,
   "metadata": {},
   "outputs": [],
   "source": [
    "num_features = list(set(numeric_cols).difference(depen_cols))"
   ]
  },
  {
   "cell_type": "code",
   "execution_count": 136,
   "metadata": {},
   "outputs": [],
   "source": [
    "fore_data.loc[:,num_features] = fore_data.loc[:,num_features].apply(lambda x: x.fillna(x.mean()).astype(\"float\"),\n",
    "                                                                    axis=0)"
   ]
  },
  {
   "cell_type": "code",
   "execution_count": 137,
   "metadata": {},
   "outputs": [
    {
     "data": {
      "text/plain": [
       "date_time    0\n",
       "y            0\n",
       "co_gt        0\n",
       "nhmc         0\n",
       "c6h6         0\n",
       "s2           0\n",
       "nox          0\n",
       "s3           0\n",
       "no2          0\n",
       "s4           0\n",
       "s5           0\n",
       "t            0\n",
       "rh           0\n",
       "ah           0\n",
       "level        0\n",
       "y_later      0\n",
       "dtype: int64"
      ]
     },
     "execution_count": 137,
     "metadata": {},
     "output_type": "execute_result"
    }
   ],
   "source": [
    "fore_data['level'].fillna(fore_data['level'].mode()[0],\n",
    "                         inplace=True)\n",
    "fore_data.isnull().sum(axis=0)"
   ]
  },
  {
   "cell_type": "code",
   "execution_count": 138,
   "metadata": {},
   "outputs": [],
   "source": [
    "fore_data = pd.concat([fore_data.drop(['level'],axis = 1),\n",
    "          pd.get_dummies(fore_data.level,prefix = 'level')],\n",
    "          axis = 1,\n",
    "         )\n",
    "\n",
    "fore_data.columns = [\"\".join(s.split()) for s in fore_data.columns] #remove all whitespace in string"
   ]
  },
  {
   "cell_type": "code",
   "execution_count": 139,
   "metadata": {},
   "outputs": [],
   "source": [
    "cat_features = [s for s in fore_data.columns if \"level\" in s]"
   ]
  },
  {
   "cell_type": "markdown",
   "metadata": {},
   "source": [
    "## EDA"
   ]
  },
  {
   "cell_type": "code",
   "execution_count": 140,
   "metadata": {},
   "outputs": [
    {
     "data": {
      "image/png": "[encoded data removed]",
      "text/plain": [
       "<matplotlib.figure.Figure at 0x7f9338360198>"
      ]
     },
     "metadata": {},
     "output_type": "display_data"
    }
   ],
   "source": [
    "#dist of features\n",
    "fore_data.loc[:,num_features].hist(figsize = (10,10))\n",
    "plt.show()"
   ]
  },
  {
   "cell_type": "code",
   "execution_count": 141,
   "metadata": {},
   "outputs": [
    {
     "data": {
      "image/png": "[encoded data removed]",
      "text/plain": [
       "<matplotlib.figure.Figure at 0x7f9338444630>"
      ]
     },
     "metadata": {},
     "output_type": "display_data"
    }
   ],
   "source": [
    "plt.scatter(fore_data.date_time.dt.hour.values,\n",
    "            fore_data.y_later.values,\n",
    "            marker='o', \n",
    "            alpha = 0.25)\n",
    "plt.plot((0,fore_data.date_time.dt.hour.values.max()),\n",
    "         (fore_data.y_later.values.mean(),fore_data.y_later.values.mean()), \n",
    "         'r--', \n",
    "         label='Average y')\n",
    "plt.xlabel(\"Hour of the day\")\n",
    "plt.ylabel(\"y value 6 hours later\")\n",
    "plt.title('y over hour of day')\n",
    "plt.legend()\n",
    "plt.show()"
   ]
  },
  {
   "cell_type": "code",
   "execution_count": 142,
   "metadata": {},
   "outputs": [
    {
     "data": {
      "image/png": "[encoded data removed]",
      "text/plain": [
       "<matplotlib.figure.Figure at 0x7f93366693c8>"
      ]
     },
     "metadata": {},
     "output_type": "display_data"
    }
   ],
   "source": [
    "plt.scatter(fore_data.date_time.dt.day.values,\n",
    "            fore_data.y_later.values,\n",
    "            marker='o', \n",
    "            alpha = 0.25)\n",
    "plt.plot((0,fore_data.date_time.dt.day.values.max()),\n",
    "         (fore_data.y_later.values.mean(),fore_data.y_later.values.mean()), \n",
    "         'r--', \n",
    "         label='Average y')\n",
    "plt.xlabel(\"Day of the month\")\n",
    "plt.ylabel(\"y value 6 hours later\")\n",
    "plt.title('y over day of the month')\n",
    "plt.legend()\n",
    "plt.show()"
   ]
  },
  {
   "cell_type": "code",
   "execution_count": 143,
   "metadata": {},
   "outputs": [
    {
     "data": {
      "text/plain": [
       "Text(0.5,1,'Distribution of pollution data')"
      ]
     },
     "execution_count": 143,
     "metadata": {},
     "output_type": "execute_result"
    },
    {
     "data": {
      "image/png": "[encoded data removed]",
      "text/plain": [
       "<matplotlib.figure.Figure at 0x7f9338d41080>"
      ]
     },
     "metadata": {},
     "output_type": "display_data"
    }
   ],
   "source": [
    "(sns.kdeplot(fore_data['y_later'], shade=True)\n",
    "   .set_title(\"Distribution of pollution data\")\n",
    ")"
   ]
  },
  {
   "cell_type": "code",
   "execution_count": 144,
   "metadata": {},
   "outputs": [
    {
     "name": "stdout",
     "output_type": "stream",
     "text": [
      "Rows with negative readings 365\n"
     ]
    }
   ],
   "source": [
    "print(\"Rows with negative readings\",fore_data[fore_data.y_later < 0].shape[0])"
   ]
  },
  {
   "cell_type": "code",
   "execution_count": 145,
   "metadata": {},
   "outputs": [
    {
     "data": {
      "image/png": "[encoded data removed]",
      "text/plain": [
       "<matplotlib.figure.Figure at 0x7f93366a81d0>"
      ]
     },
     "metadata": {},
     "output_type": "display_data"
    }
   ],
   "source": [
    "# dist of features for negative y-values\n",
    "fore_data[fore_data.y_later < 0].loc[:,num_features].hist(figsize = (10,10))\n",
    "plt.show()"
   ]
  },
  {
   "cell_type": "code",
   "execution_count": 146,
   "metadata": {},
   "outputs": [
    {
     "data": {
      "text/plain": [
       "Text(0.5,1,'Pairwise correlation')"
      ]
     },
     "execution_count": 146,
     "metadata": {},
     "output_type": "execute_result"
    },
    {
     "data": {
      "image/png": "[encoded data removed]",
      "text/plain": [
       "<matplotlib.figure.Figure at 0x7f933c717518>"
      ]
     },
     "metadata": {},
     "output_type": "display_data"
    }
   ],
   "source": [
    "# source for code: https://seaborn.pydata.org/examples/many_pairwise_correlations.html\n",
    "d = fore_data.loc[:,numeric_cols]\n",
    "corr = d.corr()\n",
    "\n",
    "# Generate a mask for the upper triangle\n",
    "mask = np.zeros_like(corr, dtype=np.bool)\n",
    "mask[np.triu_indices_from(mask)] = True\n",
    "\n",
    "# Set up the matplotlib figure\n",
    "f, ax = plt.subplots(figsize=(11, 9))\n",
    "\n",
    "# Generate a custom diverging colormap\n",
    "cmap = sns.diverging_palette(220, 10, as_cmap=True)\n",
    "\n",
    "# Draw the heatmap with the mask and correct aspect ratio\n",
    "sns.heatmap(corr, mask=mask, cmap=cmap, vmax=.3, center=0,\n",
    "            square=True, linewidths=.5, cbar_kws={\"shrink\": .5}).set_title('Pairwise correlation')"
   ]
  },
  {
   "cell_type": "code",
   "execution_count": 147,
   "metadata": {},
   "outputs": [],
   "source": [
    "fore_data.to_csv('../results/processed_task2.csv')"
   ]
  },
  {
   "cell_type": "markdown",
   "metadata": {},
   "source": [
    "## Assumptions\n",
    "1. Assuming -200 values are valid in this case. Do not have enough knowledge to classify them as anomalies"
   ]
  },
  {
   "cell_type": "markdown",
   "metadata": {},
   "source": [
    "## Feature scaling and selection"
   ]
  },
  {
   "cell_type": "code",
   "execution_count": 148,
   "metadata": {},
   "outputs": [],
   "source": [
    "X_train, X_test, y_train, y_test = train_test_split(\n",
    "                                                    fore_data.drop(['date_time','y','y_later'], axis = 1),\n",
    "                                                    fore_data.y,\n",
    "                                                    test_size=0.20)"
   ]
  },
  {
   "cell_type": "code",
   "execution_count": 149,
   "metadata": {},
   "outputs": [
    {
     "data": {
      "text/plain": [
       "['nhmc',\n",
       " 's3',\n",
       " 'no2',\n",
       " 's2',\n",
       " 's4',\n",
       " 'ah',\n",
       " 'nox',\n",
       " 't',\n",
       " 'rh',\n",
       " 'c6h6',\n",
       " 's5',\n",
       " 'co_gt']"
      ]
     },
     "execution_count": 149,
     "metadata": {},
     "output_type": "execute_result"
    }
   ],
   "source": [
    "num_features"
   ]
  },
  {
   "cell_type": "code",
   "execution_count": 150,
   "metadata": {},
   "outputs": [],
   "source": [
    "# X_train=X_train.values\n",
    "X_std=np.asarray(X_train.loc[:,num_features])\n",
    "\n",
    "# Finding normalised array of X_Train\n",
    "std = StandardScaler()\n",
    "X_std=std.fit_transform(X_std)"
   ]
  },
  {
   "cell_type": "code",
   "execution_count": 151,
   "metadata": {},
   "outputs": [
    {
     "data": {
      "text/plain": [
       "['../models/task2_scaler.pkl']"
      ]
     },
     "execution_count": 151,
     "metadata": {},
     "output_type": "execute_result"
    }
   ],
   "source": [
    "joblib.dump(std, '../models/task2_scaler.pkl') "
   ]
  },
  {
   "cell_type": "code",
   "execution_count": 152,
   "metadata": {},
   "outputs": [
    {
     "data": {
      "text/plain": [
       "(6732, 12)"
      ]
     },
     "execution_count": 152,
     "metadata": {},
     "output_type": "execute_result"
    }
   ],
   "source": [
    "X_std.shape"
   ]
  },
  {
   "cell_type": "code",
   "execution_count": 153,
   "metadata": {},
   "outputs": [
    {
     "data": {
      "text/plain": [
       "Text(0.5,1,'Variance explained vs components')"
      ]
     },
     "execution_count": 153,
     "metadata": {},
     "output_type": "execute_result"
    },
    {
     "data": {
      "image/png": "[encoded data removed]",
      "text/plain": [
       "<matplotlib.figure.Figure at 0x7f9338afca58>"
      ]
     },
     "metadata": {},
     "output_type": "display_data"
    }
   ],
   "source": [
    "from sklearn.decomposition import PCA\n",
    "pca = PCA().fit(X_std)\n",
    "plt.plot(np.cumsum(pca.explained_variance_ratio_))\n",
    "plt.xlim(0,11,1)\n",
    "plt.xlabel('Components')\n",
    "plt.ylabel('Cumulative variance explained by components')\n",
    "plt.title('Variance explained vs components')"
   ]
  },
  {
   "cell_type": "markdown",
   "metadata": {},
   "source": [
    "**We can explain close to 90% of the variance in the model with 3 components**"
   ]
  },
  {
   "cell_type": "code",
   "execution_count": 154,
   "metadata": {},
   "outputs": [
    {
     "data": {
      "text/html": [
       "<div>\n",
       "<style>\n",
       "    .dataframe thead tr:only-child th {\n",
       "        text-align: right;\n",
       "    }\n",
       "\n",
       "    .dataframe thead th {\n",
       "        text-align: left;\n",
       "    }\n",
       "\n",
       "    .dataframe tbody tr th {\n",
       "        vertical-align: top;\n",
       "    }\n",
       "</style>\n",
       "<table border=\"1\" class=\"dataframe\">\n",
       "  <thead>\n",
       "    <tr style=\"text-align: right;\">\n",
       "      <th></th>\n",
       "      <th>comp_1</th>\n",
       "      <th>comp_2</th>\n",
       "      <th>comp_3</th>\n",
       "      <th>comp_4</th>\n",
       "      <th>comp_5</th>\n",
       "      <th>level_High</th>\n",
       "      <th>level_Low</th>\n",
       "      <th>level_Moderate</th>\n",
       "      <th>level_VeryHigh</th>\n",
       "      <th>level_Verylow</th>\n",
       "    </tr>\n",
       "  </thead>\n",
       "  <tbody>\n",
       "    <tr>\n",
       "      <th>0</th>\n",
       "      <td>-0.292513</td>\n",
       "      <td>-2.597205</td>\n",
       "      <td>1.801381</td>\n",
       "      <td>0.005110</td>\n",
       "      <td>0.307880</td>\n",
       "      <td>0</td>\n",
       "      <td>0</td>\n",
       "      <td>0</td>\n",
       "      <td>0</td>\n",
       "      <td>1</td>\n",
       "    </tr>\n",
       "    <tr>\n",
       "      <th>1</th>\n",
       "      <td>-2.043551</td>\n",
       "      <td>2.058216</td>\n",
       "      <td>1.082973</td>\n",
       "      <td>-0.230449</td>\n",
       "      <td>-0.746004</td>\n",
       "      <td>1</td>\n",
       "      <td>0</td>\n",
       "      <td>0</td>\n",
       "      <td>0</td>\n",
       "      <td>0</td>\n",
       "    </tr>\n",
       "    <tr>\n",
       "      <th>2</th>\n",
       "      <td>-0.443314</td>\n",
       "      <td>-0.050689</td>\n",
       "      <td>-0.505732</td>\n",
       "      <td>0.036127</td>\n",
       "      <td>-0.401788</td>\n",
       "      <td>1</td>\n",
       "      <td>0</td>\n",
       "      <td>0</td>\n",
       "      <td>0</td>\n",
       "      <td>0</td>\n",
       "    </tr>\n",
       "    <tr>\n",
       "      <th>3</th>\n",
       "      <td>0.672258</td>\n",
       "      <td>-0.008864</td>\n",
       "      <td>-1.309956</td>\n",
       "      <td>-0.532115</td>\n",
       "      <td>0.280831</td>\n",
       "      <td>0</td>\n",
       "      <td>1</td>\n",
       "      <td>0</td>\n",
       "      <td>0</td>\n",
       "      <td>0</td>\n",
       "    </tr>\n",
       "    <tr>\n",
       "      <th>4</th>\n",
       "      <td>-0.581949</td>\n",
       "      <td>0.570511</td>\n",
       "      <td>-0.030324</td>\n",
       "      <td>-0.383751</td>\n",
       "      <td>-0.371781</td>\n",
       "      <td>1</td>\n",
       "      <td>0</td>\n",
       "      <td>0</td>\n",
       "      <td>0</td>\n",
       "      <td>0</td>\n",
       "    </tr>\n",
       "  </tbody>\n",
       "</table>\n",
       "</div>"
      ],
      "text/plain": [
       "     comp_1    comp_2    comp_3    comp_4    comp_5  level_High  level_Low  \\\n",
       "0 -0.292513 -2.597205  1.801381  0.005110  0.307880           0          0   \n",
       "1 -2.043551  2.058216  1.082973 -0.230449 -0.746004           1          0   \n",
       "2 -0.443314 -0.050689 -0.505732  0.036127 -0.401788           1          0   \n",
       "3  0.672258 -0.008864 -1.309956 -0.532115  0.280831           0          1   \n",
       "4 -0.581949  0.570511 -0.030324 -0.383751 -0.371781           1          0   \n",
       "\n",
       "   level_Moderate  level_VeryHigh  level_Verylow  \n",
       "0               0               0              1  \n",
       "1               0               0              0  \n",
       "2               0               0              0  \n",
       "3               0               0              0  \n",
       "4               0               0              0  "
      ]
     },
     "execution_count": 154,
     "metadata": {},
     "output_type": "execute_result"
    }
   ],
   "source": [
    "pca = PCA(n_components=5)\n",
    "X_pca_std = pca.fit_transform(X_std)\n",
    "X_pca_std = pd.DataFrame(X_pca_std, columns = ['comp_' + str(i + 1) for i in range(X_pca_std.shape[1])])\n",
    "X_tr = pd.concat([X_pca_std,\n",
    "                   X_train.loc[:,cat_features].reset_index(drop = True)\n",
    "                 ], axis = 1\n",
    "                )\n",
    "X_tr.head()"
   ]
  },
  {
   "cell_type": "code",
   "execution_count": 155,
   "metadata": {},
   "outputs": [
    {
     "data": {
      "text/plain": [
       "['../models/task2_PCA.pkl']"
      ]
     },
     "execution_count": 155,
     "metadata": {},
     "output_type": "execute_result"
    }
   ],
   "source": [
    "joblib.dump(pca, '../models/task2_PCA.pkl') "
   ]
  },
  {
   "cell_type": "markdown",
   "metadata": {},
   "source": [
    "## Modelling"
   ]
  },
  {
   "cell_type": "code",
   "execution_count": 156,
   "metadata": {},
   "outputs": [],
   "source": [
    "# define function to compute adjusted R^2\n",
    "def report_adjR2(model, X, y, Xv, yv):\n",
    "    N = X.shape[0]\n",
    "    d_f = X.shape[1]\n",
    "    adjR2 = lambda y, yhat: 1.0 - (N-1.0)/(N-d_f-1.0) * np.mean((y-yhat)**2)/np.var(y)\n",
    "    score = [adjR2(y, model.predict(X)),adjR2(yv, model.predict(Xv))]\n",
    "    return score"
   ]
  },
  {
   "cell_type": "code",
   "execution_count": 157,
   "metadata": {},
   "outputs": [],
   "source": [
    "models = {\n",
    "    'Ridge Regression': Ridge(alpha = 0.1),\n",
    "    'Lasso Regression': Lasso(alpha = 0.1),\n",
    "    'Bayesian Regression': BayesianRidge(),\n",
    "    'Elastic Net': ElasticNet(alpha = 0.01, l1_ratio = 0.5),\n",
    "    'RANSAV': RANSACRegressor(),\n",
    "    'Linear regression': LinearRegression(), \n",
    "    'Gradient boosting': GradientBoostingRegressor(),\n",
    "    'Random Forest': RandomForestRegressor(n_estimators=10, max_depth=20, \n",
    "                               criterion='mse', \n",
    "                               random_state=1234, \n",
    "                               n_jobs=-1),\n",
    "    'xgboost regressor': XGBRegressor(),\n",
    "    'Bagging regressor': BaggingRegressor(n_estimators=10)\n",
    "}"
   ]
  },
  {
   "cell_type": "code",
   "execution_count": 158,
   "metadata": {},
   "outputs": [
    {
     "data": {
      "text/html": [
       "<div>\n",
       "<style>\n",
       "    .dataframe thead tr:only-child th {\n",
       "        text-align: right;\n",
       "    }\n",
       "\n",
       "    .dataframe thead th {\n",
       "        text-align: left;\n",
       "    }\n",
       "\n",
       "    .dataframe tbody tr th {\n",
       "        vertical-align: top;\n",
       "    }\n",
       "</style>\n",
       "<table border=\"1\" class=\"dataframe\">\n",
       "  <thead>\n",
       "    <tr style=\"text-align: right;\">\n",
       "      <th></th>\n",
       "      <th>comp_1</th>\n",
       "      <th>comp_2</th>\n",
       "      <th>comp_3</th>\n",
       "      <th>comp_4</th>\n",
       "      <th>comp_5</th>\n",
       "      <th>level_High</th>\n",
       "      <th>level_Low</th>\n",
       "      <th>level_Moderate</th>\n",
       "      <th>level_VeryHigh</th>\n",
       "      <th>level_Verylow</th>\n",
       "    </tr>\n",
       "  </thead>\n",
       "  <tbody>\n",
       "    <tr>\n",
       "      <th>0</th>\n",
       "      <td>-0.647679</td>\n",
       "      <td>0.524932</td>\n",
       "      <td>-0.017018</td>\n",
       "      <td>-0.360859</td>\n",
       "      <td>-0.463906</td>\n",
       "      <td>1</td>\n",
       "      <td>0</td>\n",
       "      <td>0</td>\n",
       "      <td>0</td>\n",
       "      <td>0</td>\n",
       "    </tr>\n",
       "    <tr>\n",
       "      <th>1</th>\n",
       "      <td>0.958281</td>\n",
       "      <td>-0.578719</td>\n",
       "      <td>-1.505909</td>\n",
       "      <td>-0.556518</td>\n",
       "      <td>0.728279</td>\n",
       "      <td>0</td>\n",
       "      <td>0</td>\n",
       "      <td>1</td>\n",
       "      <td>0</td>\n",
       "      <td>0</td>\n",
       "    </tr>\n",
       "    <tr>\n",
       "      <th>2</th>\n",
       "      <td>-0.930778</td>\n",
       "      <td>1.448245</td>\n",
       "      <td>0.534173</td>\n",
       "      <td>-0.444277</td>\n",
       "      <td>-0.232993</td>\n",
       "      <td>1</td>\n",
       "      <td>0</td>\n",
       "      <td>0</td>\n",
       "      <td>0</td>\n",
       "      <td>0</td>\n",
       "    </tr>\n",
       "    <tr>\n",
       "      <th>3</th>\n",
       "      <td>0.644815</td>\n",
       "      <td>-0.463758</td>\n",
       "      <td>-1.458763</td>\n",
       "      <td>-0.466374</td>\n",
       "      <td>0.188227</td>\n",
       "      <td>0</td>\n",
       "      <td>0</td>\n",
       "      <td>1</td>\n",
       "      <td>0</td>\n",
       "      <td>0</td>\n",
       "    </tr>\n",
       "    <tr>\n",
       "      <th>4</th>\n",
       "      <td>10.229953</td>\n",
       "      <td>1.806257</td>\n",
       "      <td>2.041172</td>\n",
       "      <td>0.395937</td>\n",
       "      <td>-0.996709</td>\n",
       "      <td>1</td>\n",
       "      <td>0</td>\n",
       "      <td>0</td>\n",
       "      <td>0</td>\n",
       "      <td>0</td>\n",
       "    </tr>\n",
       "  </tbody>\n",
       "</table>\n",
       "</div>"
      ],
      "text/plain": [
       "      comp_1    comp_2    comp_3    comp_4    comp_5  level_High  level_Low  \\\n",
       "0  -0.647679  0.524932 -0.017018 -0.360859 -0.463906           1          0   \n",
       "1   0.958281 -0.578719 -1.505909 -0.556518  0.728279           0          0   \n",
       "2  -0.930778  1.448245  0.534173 -0.444277 -0.232993           1          0   \n",
       "3   0.644815 -0.463758 -1.458763 -0.466374  0.188227           0          0   \n",
       "4  10.229953  1.806257  2.041172  0.395937 -0.996709           1          0   \n",
       "\n",
       "   level_Moderate  level_VeryHigh  level_Verylow  \n",
       "0               0               0              0  \n",
       "1               1               0              0  \n",
       "2               0               0              0  \n",
       "3               1               0              0  \n",
       "4               0               0              0  "
      ]
     },
     "execution_count": 158,
     "metadata": {},
     "output_type": "execute_result"
    }
   ],
   "source": [
    "X_test_std = std.transform(X_test.loc[:,num_features])\n",
    "# print(X_test_std)\n",
    "\n",
    "X_test_std = pca.transform(X_test_std)\n",
    "\n",
    "X_test_std = pd.DataFrame(X_test_std, columns = ['comp_' + str(i + 1) for i in range(X_test_std.shape[1])])\n",
    "X_test_std = pd.concat([X_test_std,\n",
    "                   X_test.loc[:,cat_features].reset_index(drop = True)\n",
    "                 ], axis = 1\n",
    "                )\n",
    "X_test_std.head()"
   ]
  },
  {
   "cell_type": "code",
   "execution_count": 159,
   "metadata": {},
   "outputs": [
    {
     "name": "stdout",
     "output_type": "stream",
     "text": [
      "Completed predicting for Ridge Regression model\n",
      "Completed predicting for Lasso Regression model\n",
      "Completed predicting for Bayesian Regression model\n",
      "Completed predicting for Elastic Net model\n",
      "Completed predicting for RANSAV model\n",
      "Completed predicting for Linear regression model\n",
      "Completed predicting for Gradient boosting model\n",
      "Completed predicting for Random Forest model\n",
      "Completed predicting for xgboost regressor model\n",
      "Completed predicting for Bagging regressor model\n",
      "Completed prediction in 6.37 seconds\n"
     ]
    }
   ],
   "source": [
    "import collections\n",
    "X_tr = X_tr[sorted(X_tr.columns)].values\n",
    "X_test_std = X_test_std[sorted(X_test_std.columns)].values\n",
    "\n",
    "r2s = collections.defaultdict(dict)\n",
    "t0 = time()\n",
    "for name, model in models.items():\n",
    "    model.fit(X_tr,y_train)\n",
    "\n",
    "    r2s[name]['r2_train'] = r2_score(model.predict(X_tr), y_train)\n",
    "    r2s[name]['r2_test'] = r2_score(model.predict(X_test_std), y_test)\n",
    "    \n",
    "    r2s[name]['adj_r2_train'] = report_adjR2(model, X_tr, y_train, X_tr, y_train)[1]\n",
    "    r2s[name]['adj_r2_test'] = report_adjR2(model, X_tr, y_train, X_test_std, y_test)[1]\n",
    "    \n",
    "    r2s[name]['mse_train'] = mean_squared_error(y_train,model.predict(X_tr))\n",
    "    r2s[name]['mse_test'] = mean_squared_error(y_test,model.predict(X_test_std))\n",
    "    \n",
    "    print('Completed predicting for {} model'.format(name))\n",
    "    \n",
    "print('Completed prediction in {:.2f} seconds'.format(time() - t0))"
   ]
  },
  {
   "cell_type": "code",
   "execution_count": 160,
   "metadata": {},
   "outputs": [
    {
     "data": {
      "text/html": [
       "<div>\n",
       "<style>\n",
       "    .dataframe thead tr:only-child th {\n",
       "        text-align: right;\n",
       "    }\n",
       "\n",
       "    .dataframe thead th {\n",
       "        text-align: left;\n",
       "    }\n",
       "\n",
       "    .dataframe tbody tr th {\n",
       "        vertical-align: top;\n",
       "    }\n",
       "</style>\n",
       "<table border=\"1\" class=\"dataframe\">\n",
       "  <thead>\n",
       "    <tr style=\"text-align: right;\">\n",
       "      <th></th>\n",
       "      <th>Bagging regressor</th>\n",
       "      <th>Bayesian Regression</th>\n",
       "      <th>Elastic Net</th>\n",
       "      <th>Gradient boosting</th>\n",
       "      <th>Lasso Regression</th>\n",
       "      <th>Linear regression</th>\n",
       "      <th>RANSAV</th>\n",
       "      <th>Random Forest</th>\n",
       "      <th>Ridge Regression</th>\n",
       "      <th>xgboost regressor</th>\n",
       "    </tr>\n",
       "  </thead>\n",
       "  <tbody>\n",
       "    <tr>\n",
       "      <th>adj_r2_test</th>\n",
       "      <td>0.958063</td>\n",
       "      <td>0.946382</td>\n",
       "      <td>0.946406</td>\n",
       "      <td>0.957014</td>\n",
       "      <td>0.946425</td>\n",
       "      <td>0.946354</td>\n",
       "      <td>0.915455</td>\n",
       "      <td>0.957263</td>\n",
       "      <td>0.946356</td>\n",
       "      <td>0.957041</td>\n",
       "    </tr>\n",
       "    <tr>\n",
       "      <th>adj_r2_train</th>\n",
       "      <td>0.991463</td>\n",
       "      <td>0.937415</td>\n",
       "      <td>0.937309</td>\n",
       "      <td>0.956283</td>\n",
       "      <td>0.937341</td>\n",
       "      <td>0.937417</td>\n",
       "      <td>0.906236</td>\n",
       "      <td>0.990959</td>\n",
       "      <td>0.937417</td>\n",
       "      <td>0.955760</td>\n",
       "    </tr>\n",
       "    <tr>\n",
       "      <th>mse_test</th>\n",
       "      <td>5238.551949</td>\n",
       "      <td>6697.761296</td>\n",
       "      <td>6694.737904</td>\n",
       "      <td>5369.642041</td>\n",
       "      <td>6692.418274</td>\n",
       "      <td>6701.275728</td>\n",
       "      <td>10561.023258</td>\n",
       "      <td>5338.527634</td>\n",
       "      <td>6701.026627</td>\n",
       "      <td>5366.284076</td>\n",
       "    </tr>\n",
       "    <tr>\n",
       "      <th>mse_train</th>\n",
       "      <td>967.862438</td>\n",
       "      <td>7095.070618</td>\n",
       "      <td>7107.027168</td>\n",
       "      <td>4955.999590</td>\n",
       "      <td>7103.376421</td>\n",
       "      <td>7094.750013</td>\n",
       "      <td>10629.711889</td>\n",
       "      <td>1024.916807</td>\n",
       "      <td>7094.751305</td>\n",
       "      <td>5015.280145</td>\n",
       "    </tr>\n",
       "    <tr>\n",
       "      <th>r2_test</th>\n",
       "      <td>0.956110</td>\n",
       "      <td>0.943544</td>\n",
       "      <td>0.943460</td>\n",
       "      <td>0.954222</td>\n",
       "      <td>0.943582</td>\n",
       "      <td>0.943518</td>\n",
       "      <td>0.913598</td>\n",
       "      <td>0.955482</td>\n",
       "      <td>0.943520</td>\n",
       "      <td>0.954176</td>\n",
       "    </tr>\n",
       "    <tr>\n",
       "      <th>r2_train</th>\n",
       "      <td>0.991239</td>\n",
       "      <td>0.933330</td>\n",
       "      <td>0.933050</td>\n",
       "      <td>0.953859</td>\n",
       "      <td>0.933210</td>\n",
       "      <td>0.933345</td>\n",
       "      <td>0.902724</td>\n",
       "      <td>0.990766</td>\n",
       "      <td>0.933344</td>\n",
       "      <td>0.953209</td>\n",
       "    </tr>\n",
       "  </tbody>\n",
       "</table>\n",
       "</div>"
      ],
      "text/plain": [
       "              Bagging regressor  Bayesian Regression  Elastic Net  \\\n",
       "adj_r2_test            0.958063             0.946382     0.946406   \n",
       "adj_r2_train           0.991463             0.937415     0.937309   \n",
       "mse_test            5238.551949          6697.761296  6694.737904   \n",
       "mse_train            967.862438          7095.070618  7107.027168   \n",
       "r2_test                0.956110             0.943544     0.943460   \n",
       "r2_train               0.991239             0.933330     0.933050   \n",
       "\n",
       "              Gradient boosting  Lasso Regression  Linear regression  \\\n",
       "adj_r2_test            0.957014          0.946425           0.946354   \n",
       "adj_r2_train           0.956283          0.937341           0.937417   \n",
       "mse_test            5369.642041       6692.418274        6701.275728   \n",
       "mse_train           4955.999590       7103.376421        7094.750013   \n",
       "r2_test                0.954222          0.943582           0.943518   \n",
       "r2_train               0.953859          0.933210           0.933345   \n",
       "\n",
       "                    RANSAV  Random Forest  Ridge Regression  xgboost regressor  \n",
       "adj_r2_test       0.915455       0.957263          0.946356           0.957041  \n",
       "adj_r2_train      0.906236       0.990959          0.937417           0.955760  \n",
       "mse_test      10561.023258    5338.527634       6701.026627        5366.284076  \n",
       "mse_train     10629.711889    1024.916807       7094.751305        5015.280145  \n",
       "r2_test           0.913598       0.955482          0.943520           0.954176  \n",
       "r2_train          0.902724       0.990766          0.933344           0.953209  "
      ]
     },
     "execution_count": 160,
     "metadata": {},
     "output_type": "execute_result"
    }
   ],
   "source": [
    "pd.DataFrame(r2s)"
   ]
  },
  {
   "cell_type": "code",
   "execution_count": 161,
   "metadata": {},
   "outputs": [
    {
     "data": {
      "text/plain": [
       "['../models/task2_model.pkl']"
      ]
     },
     "execution_count": 161,
     "metadata": {},
     "output_type": "execute_result"
    }
   ],
   "source": [
    "joblib.dump(models['xgboost regressor'], '../models/task2_model.pkl') "
   ]
  },
  {
   "cell_type": "markdown",
   "metadata": {},
   "source": [
    "## Predict class testing"
   ]
  },
  {
   "cell_type": "code",
   "execution_count": 1,
   "metadata": {},
   "outputs": [],
   "source": [
    "from Task2 import XGBoostWrapper"
   ]
  },
  {
   "cell_type": "code",
   "execution_count": 2,
   "metadata": {},
   "outputs": [],
   "source": [
    "t2 = XGBoostWrapper()"
   ]
  },
  {
   "cell_type": "code",
   "execution_count": 3,
   "metadata": {},
   "outputs": [
    {
     "name": "stdout",
     "output_type": "stream",
     "text": [
      "Creating one-hot encoding vector for operational setting 3 column\n",
      "level_High\n",
      "level_Low\n",
      "level_Moderate\n",
      "level_VeryHigh\n",
      "level_Verylow\n",
      "Index(['co_gt', 'nhmc', 'c6h6', 's2', 'nox', 's3', 'no2', 's4', 's5', 't',\n",
      "       'rh', 'ah', 'level_High', 'level_Low', 'level_Very low',\n",
      "       'level_Moderate', 'level_VeryHigh', 'level_Verylow'],\n",
      "      dtype='object')\n"
     ]
    },
    {
     "data": {
      "text/plain": [
       "array([ 1382.12072754,  1392.89257812,  1476.04345703,  1387.80554199,\n",
       "        1377.32202148,  1403.39306641], dtype=float32)"
      ]
     },
     "execution_count": 3,
     "metadata": {},
     "output_type": "execute_result"
    }
   ],
   "source": [
    "import pandas as pd\n",
    "dummy_data = pd.read_csv('../data/forecasting_dataset.csv', parse_dates=[['date', 'time']]).sample(10)\n",
    "dt = dummy_data.dropna().drop(['date_time','y'],axis = 1)\n",
    "t2.predict(dt)"
   ]
  }
 ],
 "metadata": {
  "kernelspec": {
   "display_name": "Python 3",
   "language": "python",
   "name": "python3"
  },
  "language_info": {
   "codemirror_mode": {
    "name": "ipython",
    "version": 3
   },
   "file_extension": ".py",
   "mimetype": "text/x-python",
   "name": "python",
   "nbconvert_exporter": "python",
   "pygments_lexer": "ipython3",
   "version": "3.6.3"
  }
 },
 "nbformat": 4,
 "nbformat_minor": 2
}
