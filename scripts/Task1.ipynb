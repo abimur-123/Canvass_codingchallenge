{
 "cells": [
  {
   "cell_type": "markdown",
   "metadata": {},
   "source": [
    "# Task 1\n",
    "\n",
    "`predictive_maintenance_dataset.csv` is a file that contains parameters and settings (`operational_setting_1`, `operational_setting_2`, `sensor_measurement_1`, `sensor_measurement_2`, etc.) for many wind turbines. There is a column called `unit_number` which specifies which turbine it is, and one called `status`, in which a value of 1 means the turbine broke down that day, and 0 means it didn't. Your task is to create a model that, when fed with operational settings and sensor measurements (`unit_number` and `time_stamp` will *not* be fed in), outputs 1 if the turbine will break down within the next 40 days, and 0 if not."
   ]
  },
  {
   "cell_type": "markdown",
   "metadata": {},
   "source": [
    "## TOC\n",
    "\n",
    "1. [Ideas](#Ideas)\n",
    "2. [Assumption](#Assumptions)\n",
    "1. [Importing libraries and dataset](#Importing-libraries-and-dataset)\n",
    "3. [Explore dataset](#Explore-data)\n",
    "2. [Feature engineering](#Feature-engineering)\n",
    "3. [Feature scaling](#Feature-scaling)\n",
    "4. [Basic EDA](#Basic-EDA)\n",
    "5. [Prepare dataset -- balancing](#Dataset-for-model-selection)\n",
    "5. [LSTM](#Fit-LSTM)\n",
    "6. [Linear models, trees, balanced approach and multi-label problem](#Trying-Linear-models,-trees...)"
   ]
  },
  {
   "cell_type": "markdown",
   "metadata": {},
   "source": [
    "## Ideas\n"
   ]
  },
  {
   "cell_type": "markdown",
   "metadata": {},
   "source": [
    "1. **Feature engineering** -- create a column that says `possible_failure`, and mark it as 1 if there is failure within a 40 day window prior to the current observation for a turbine. This might make it easy to predict if the model might fail within 40 days.\n",
    "1. LSTM using keras\n",
    "2. Basic multi-label ensemble models using sci-kit learn  (https://arxiv.org/pdf/1609.08349.pdf) - Explore hamming distance to evaluate models and scikit learn functions (http://scikit.ml/api/classify.html#ensemble-approaches)\n",
    "2. Survival analysis - Kaplan meir estimates"
   ]
  },
  {
   "cell_type": "markdown",
   "metadata": {},
   "source": [
    "## Assumptions\n",
    "1. For few turbines there are readings beyond today's date (18th July 2018). For the interest of this analysis, I am going to assume these are valid readings\n",
    "2. Dealing with NAs in the dataset - Mean value imputation?\n",
    "2. **NOT** assuming a continuous date range. If the manufacturers wanted to record readings every 2nd day instead of every day this method of prediction would still work. I use a column to capture date between observations for all readings.\n",
    "4. If the window length of 40 isn't satisfied, is padding with 0's the best approach?\n",
    "3. Dataset is imbalanced. Not certain if creating a balanced set is the best approach in this case. Might end up losing information from sensor data when I try undersampling, and oversampling will cause sensor value distribution to become skewed. Maybe trying ensemble might help (explore if you have time)"
   ]
  },
  {
   "cell_type": "markdown",
   "metadata": {},
   "source": [
    "## Yet to do\n",
    "\n",
    "1. Missing value imputation\n",
    "2. Edge cases\n",
    "2. More hyperparameter optimization\n",
    "3. Overload predict function\n",
    "3. More multi-label approaches"
   ]
  },
  {
   "cell_type": "markdown",
   "metadata": {},
   "source": [
    "## Importing libraries and dataset"
   ]
  },
  {
   "cell_type": "code",
   "execution_count": 67,
   "metadata": {},
   "outputs": [],
   "source": [
    "import pandas as pd\n",
    "import numpy as np\n",
    "import os\n",
    "import matplotlib.pyplot as plt\n",
    "import seaborn as sns\n",
    "import math\n",
    "from time import time\n",
    "import missingno as msno\n",
    "from collections import Counter\n",
    "from itertools import product\n",
    "from IPython.display import display, Markdown, Latex\n",
    "\n",
    "# scikit learn models\n",
    "from sklearn.model_selection import train_test_split\n",
    "from sklearn.tree import DecisionTreeClassifier\n",
    "from sklearn.model_selection import cross_val_score\n",
    "from sklearn.metrics import f1_score\n",
    "from sklearn.metrics import roc_auc_score\n",
    "from sklearn.preprocessing import StandardScaler\n",
    "from sklearn.neural_network import MLPClassifier\n",
    "from sklearn.linear_model import LogisticRegression\n",
    "from sklearn.neighbors import KNeighborsClassifier\n",
    "from sklearn.svm import LinearSVC\n",
    "from sklearn.gaussian_process import GaussianProcessClassifier\n",
    "from sklearn.gaussian_process.kernels import RBF\n",
    "from sklearn.tree import DecisionTreeClassifier\n",
    "from sklearn.ensemble import RandomForestClassifier, AdaBoostClassifier\n",
    "from sklearn.naive_bayes import GaussianNB\n",
    "from xgboost import XGBClassifier\n",
    "from sklearn.metrics import classification_report\n",
    "from sklearn.preprocessing import Imputer\n",
    "\n",
    "from imblearn.over_sampling import SMOTE\n",
    "from imblearn.under_sampling import RandomUnderSampler\n",
    "\n",
    "#keras models\n",
    "import keras\n",
    "from keras.layers import *\n",
    "from keras.models import *\n",
    "from keras.optimizers import *\n",
    "%matplotlib inline\n",
    "\n",
    "RANDOM_STATE = 42 # setting seed"
   ]
  },
  {
   "cell_type": "code",
   "execution_count": 2,
   "metadata": {
    "collapsed": true
   },
   "outputs": [
    {
     "data": {
      "text/plain": [
       "'/home/mojo/Github_personal/Canvass_codingchallenge/scripts'"
      ]
     },
     "execution_count": 2,
     "metadata": {},
     "output_type": "execute_result"
    }
   ],
   "source": [
    "os.getcwd()"
   ]
  },
  {
   "cell_type": "code",
   "execution_count": 3,
   "metadata": {},
   "outputs": [
    {
     "name": "stdout",
     "output_type": "stream",
     "text": [
      "(144203, 27)\n"
     ]
    },
    {
     "data": {
      "text/html": [
       "<div>\n",
       "<style>\n",
       "    .dataframe thead tr:only-child th {\n",
       "        text-align: right;\n",
       "    }\n",
       "\n",
       "    .dataframe thead th {\n",
       "        text-align: left;\n",
       "    }\n",
       "\n",
       "    .dataframe tbody tr th {\n",
       "        vertical-align: top;\n",
       "    }\n",
       "</style>\n",
       "<table border=\"1\" class=\"dataframe\">\n",
       "  <thead>\n",
       "    <tr style=\"text-align: right;\">\n",
       "      <th></th>\n",
       "      <th>unit_number</th>\n",
       "      <th>time_stamp</th>\n",
       "      <th>status</th>\n",
       "      <th>operational_setting_1</th>\n",
       "      <th>operational_setting_2</th>\n",
       "      <th>operational_setting_3</th>\n",
       "      <th>sensor_measurement_1</th>\n",
       "      <th>sensor_measurement_2</th>\n",
       "      <th>sensor_measurement_3</th>\n",
       "      <th>sensor_measurement_4</th>\n",
       "      <th>...</th>\n",
       "      <th>sensor_measurement_12</th>\n",
       "      <th>sensor_measurement_13</th>\n",
       "      <th>sensor_measurement_14</th>\n",
       "      <th>sensor_measurement_15</th>\n",
       "      <th>sensor_measurement_16</th>\n",
       "      <th>sensor_measurement_17</th>\n",
       "      <th>sensor_measurement_18</th>\n",
       "      <th>sensor_measurement_19</th>\n",
       "      <th>sensor_measurement_20</th>\n",
       "      <th>sensor_measurement_21</th>\n",
       "    </tr>\n",
       "  </thead>\n",
       "  <tbody>\n",
       "    <tr>\n",
       "      <th>0</th>\n",
       "      <td>540</td>\n",
       "      <td>2017-02-19 12:00:00</td>\n",
       "      <td>0</td>\n",
       "      <td>42.0007</td>\n",
       "      <td>0.8415</td>\n",
       "      <td>High</td>\n",
       "      <td>445.00</td>\n",
       "      <td>NaN</td>\n",
       "      <td>1362.47</td>\n",
       "      <td>1143.17</td>\n",
       "      <td>...</td>\n",
       "      <td>133.75</td>\n",
       "      <td>2388.50</td>\n",
       "      <td>8129.92</td>\n",
       "      <td>9.1182</td>\n",
       "      <td>NaN</td>\n",
       "      <td>332.0</td>\n",
       "      <td>2212.0</td>\n",
       "      <td>100.00</td>\n",
       "      <td>10.77</td>\n",
       "      <td>6.5717</td>\n",
       "    </tr>\n",
       "    <tr>\n",
       "      <th>1</th>\n",
       "      <td>396</td>\n",
       "      <td>2017-11-21 12:00:00</td>\n",
       "      <td>0</td>\n",
       "      <td>-0.0023</td>\n",
       "      <td>0.0004</td>\n",
       "      <td>High</td>\n",
       "      <td>518.67</td>\n",
       "      <td>642.33</td>\n",
       "      <td>1581.03</td>\n",
       "      <td>1400.06</td>\n",
       "      <td>...</td>\n",
       "      <td>522.19</td>\n",
       "      <td>2388.00</td>\n",
       "      <td>8135.70</td>\n",
       "      <td>8.3817</td>\n",
       "      <td>0.03</td>\n",
       "      <td>393.0</td>\n",
       "      <td>2388.0</td>\n",
       "      <td>100.00</td>\n",
       "      <td>39.07</td>\n",
       "      <td>23.3958</td>\n",
       "    </tr>\n",
       "    <tr>\n",
       "      <th>2</th>\n",
       "      <td>513</td>\n",
       "      <td>2017-02-12 12:00:00</td>\n",
       "      <td>0</td>\n",
       "      <td>NaN</td>\n",
       "      <td>0.6216</td>\n",
       "      <td>Low</td>\n",
       "      <td>462.54</td>\n",
       "      <td>536.71</td>\n",
       "      <td>1250.87</td>\n",
       "      <td>1037.52</td>\n",
       "      <td>...</td>\n",
       "      <td>163.11</td>\n",
       "      <td>2028.06</td>\n",
       "      <td>7867.90</td>\n",
       "      <td>10.8827</td>\n",
       "      <td>NaN</td>\n",
       "      <td>306.0</td>\n",
       "      <td>1915.0</td>\n",
       "      <td>84.93</td>\n",
       "      <td>14.33</td>\n",
       "      <td>8.6202</td>\n",
       "    </tr>\n",
       "    <tr>\n",
       "      <th>3</th>\n",
       "      <td>211</td>\n",
       "      <td>2014-06-05 12:00:00</td>\n",
       "      <td>0</td>\n",
       "      <td>42.0006</td>\n",
       "      <td>NaN</td>\n",
       "      <td>High</td>\n",
       "      <td>NaN</td>\n",
       "      <td>549.28</td>\n",
       "      <td>1349.42</td>\n",
       "      <td>1114.02</td>\n",
       "      <td>...</td>\n",
       "      <td>130.58</td>\n",
       "      <td>2387.71</td>\n",
       "      <td>8074.81</td>\n",
       "      <td>9.3776</td>\n",
       "      <td>0.02</td>\n",
       "      <td>NaN</td>\n",
       "      <td>2212.0</td>\n",
       "      <td>100.00</td>\n",
       "      <td>10.60</td>\n",
       "      <td>6.2614</td>\n",
       "    </tr>\n",
       "    <tr>\n",
       "      <th>4</th>\n",
       "      <td>460</td>\n",
       "      <td>2014-11-27 12:00:00</td>\n",
       "      <td>0</td>\n",
       "      <td>-0.0016</td>\n",
       "      <td>0.0004</td>\n",
       "      <td>High</td>\n",
       "      <td>518.67</td>\n",
       "      <td>643.84</td>\n",
       "      <td>1604.53</td>\n",
       "      <td>1431.41</td>\n",
       "      <td>...</td>\n",
       "      <td>519.44</td>\n",
       "      <td>2388.24</td>\n",
       "      <td>8135.95</td>\n",
       "      <td>8.5223</td>\n",
       "      <td>0.03</td>\n",
       "      <td>396.0</td>\n",
       "      <td>2388.0</td>\n",
       "      <td>100.00</td>\n",
       "      <td>38.39</td>\n",
       "      <td>23.0682</td>\n",
       "    </tr>\n",
       "  </tbody>\n",
       "</table>\n",
       "<p>5 rows × 27 columns</p>\n",
       "</div>"
      ],
      "text/plain": [
       "   unit_number           time_stamp  status  operational_setting_1  \\\n",
       "0          540  2017-02-19 12:00:00       0                42.0007   \n",
       "1          396  2017-11-21 12:00:00       0                -0.0023   \n",
       "2          513  2017-02-12 12:00:00       0                    NaN   \n",
       "3          211  2014-06-05 12:00:00       0                42.0006   \n",
       "4          460  2014-11-27 12:00:00       0                -0.0016   \n",
       "\n",
       "   operational_setting_2 operational_setting_3  sensor_measurement_1  \\\n",
       "0                 0.8415                  High                445.00   \n",
       "1                 0.0004                  High                518.67   \n",
       "2                 0.6216                   Low                462.54   \n",
       "3                    NaN                  High                   NaN   \n",
       "4                 0.0004                  High                518.67   \n",
       "\n",
       "   sensor_measurement_2  sensor_measurement_3  sensor_measurement_4  \\\n",
       "0                   NaN               1362.47               1143.17   \n",
       "1                642.33               1581.03               1400.06   \n",
       "2                536.71               1250.87               1037.52   \n",
       "3                549.28               1349.42               1114.02   \n",
       "4                643.84               1604.53               1431.41   \n",
       "\n",
       "           ...            sensor_measurement_12  sensor_measurement_13  \\\n",
       "0          ...                           133.75                2388.50   \n",
       "1          ...                           522.19                2388.00   \n",
       "2          ...                           163.11                2028.06   \n",
       "3          ...                           130.58                2387.71   \n",
       "4          ...                           519.44                2388.24   \n",
       "\n",
       "   sensor_measurement_14  sensor_measurement_15  sensor_measurement_16  \\\n",
       "0                8129.92                 9.1182                    NaN   \n",
       "1                8135.70                 8.3817                   0.03   \n",
       "2                7867.90                10.8827                    NaN   \n",
       "3                8074.81                 9.3776                   0.02   \n",
       "4                8135.95                 8.5223                   0.03   \n",
       "\n",
       "   sensor_measurement_17  sensor_measurement_18  sensor_measurement_19  \\\n",
       "0                  332.0                 2212.0                 100.00   \n",
       "1                  393.0                 2388.0                 100.00   \n",
       "2                  306.0                 1915.0                  84.93   \n",
       "3                    NaN                 2212.0                 100.00   \n",
       "4                  396.0                 2388.0                 100.00   \n",
       "\n",
       "   sensor_measurement_20  sensor_measurement_21  \n",
       "0                  10.77                 6.5717  \n",
       "1                  39.07                23.3958  \n",
       "2                  14.33                 8.6202  \n",
       "3                  10.60                 6.2614  \n",
       "4                  38.39                23.0682  \n",
       "\n",
       "[5 rows x 27 columns]"
      ]
     },
     "execution_count": 3,
     "metadata": {},
     "output_type": "execute_result"
    }
   ],
   "source": [
    "pm_data = pd.read_csv('../data/predictive_maintenance_dataset.csv')\n",
    "print(pm_data.shape)\n",
    "pm_data.head()"
   ]
  },
  {
   "cell_type": "markdown",
   "metadata": {},
   "source": [
    "## Explore data"
   ]
  },
  {
   "cell_type": "markdown",
   "metadata": {},
   "source": [
    "### Imputation"
   ]
  },
  {
   "cell_type": "code",
   "execution_count": 4,
   "metadata": {},
   "outputs": [],
   "source": [
    "numeric_cols = list(pm_data.select_dtypes(include=[np.number]).columns)\n",
    "depend_cols = ['status']\n",
    "drop_cols = ['unit_number','time_stamp']\n",
    "cat_cols = ['operational_setting_3']\n",
    "numeric_features = list(set(numeric_cols).difference(depend_cols + drop_cols + cat_cols))"
   ]
  },
  {
   "cell_type": "code",
   "execution_count": 5,
   "metadata": {},
   "outputs": [
    {
     "data": {
      "text/plain": [
       "<matplotlib.axes._subplots.AxesSubplot at 0x7fc7fb496cc0>"
      ]
     },
     "execution_count": 5,
     "metadata": {},
     "output_type": "execute_result"
    },
    {
     "data": {
      "image/png": "[encoded data removed]",
      "text/plain": [
       "<matplotlib.figure.Figure at 0x7fc7fb5b45f8>"
      ]
     },
     "metadata": {},
     "output_type": "display_data"
    }
   ],
   "source": [
    "missingdata_df = pm_data.columns[pm_data.isnull().any()].tolist()\n",
    "msno.matrix(pm_data[missingdata_df])"
   ]
  },
  {
   "cell_type": "code",
   "execution_count": 6,
   "metadata": {},
   "outputs": [
    {
     "data": {
      "text/plain": [
       "<matplotlib.axes._subplots.AxesSubplot at 0x7fc7fac37978>"
      ]
     },
     "execution_count": 6,
     "metadata": {},
     "output_type": "execute_result"
    },
    {
     "data": {
      "image/png": "[encoded data removed]",
      "text/plain": [
       "<matplotlib.figure.Figure at 0x7fc7fb5b4358>"
      ]
     },
     "metadata": {},
     "output_type": "display_data"
    }
   ],
   "source": [
    "msno.bar(pm_data[missingdata_df], color=\"blue\", log=True, figsize=(30,18))"
   ]
  },
  {
   "cell_type": "markdown",
   "metadata": {},
   "source": [
    "**Trying to understand the source of missing data, it does not appear as if these records were excluded on purpose to affect results. Could be due to a sensor failure, or someone just forgetting to record readings. This would classify the missing data as Missing Completely at Random (MCAR) or Missing at Random (MAR).**\n",
    "\n",
    "**Imputing values with median to avoid effect of outliers, and replacing categorical with the mode**"
   ]
  },
  {
   "cell_type": "code",
   "execution_count": 7,
   "metadata": {},
   "outputs": [],
   "source": [
    "imp = Imputer(missing_values=np.nan, strategy='median', axis=0)\n",
    "imp_pm = pd.DataFrame(imp.fit_transform(pm_data.loc[:,numeric_features]))\n",
    "imp_pm.columns = pm_data.loc[:,numeric_features].columns"
   ]
  },
  {
   "cell_type": "code",
   "execution_count": 8,
   "metadata": {},
   "outputs": [
    {
     "data": {
      "text/plain": [
       "unit_number              False\n",
       "time_stamp               False\n",
       "status                   False\n",
       "operational_setting_1    False\n",
       "operational_setting_2    False\n",
       "operational_setting_3     True\n",
       "sensor_measurement_1     False\n",
       "sensor_measurement_2     False\n",
       "sensor_measurement_3     False\n",
       "sensor_measurement_4     False\n",
       "sensor_measurement_5     False\n",
       "sensor_measurement_6     False\n",
       "sensor_measurement_7     False\n",
       "sensor_measurement_8     False\n",
       "sensor_measurement_9     False\n",
       "sensor_measurement_10    False\n",
       "sensor_measurement_11    False\n",
       "sensor_measurement_12    False\n",
       "sensor_measurement_13    False\n",
       "sensor_measurement_14    False\n",
       "sensor_measurement_15    False\n",
       "sensor_measurement_16    False\n",
       "sensor_measurement_17    False\n",
       "sensor_measurement_18    False\n",
       "sensor_measurement_19    False\n",
       "sensor_measurement_20    False\n",
       "sensor_measurement_21    False\n",
       "dtype: bool"
      ]
     },
     "execution_count": 8,
     "metadata": {},
     "output_type": "execute_result"
    }
   ],
   "source": [
    "pm_data.update(imp_pm,\n",
    "              overwrite = False,\n",
    "              raise_conflict = False)\n",
    "pm_data.isnull().any()"
   ]
  },
  {
   "cell_type": "code",
   "execution_count": 9,
   "metadata": {},
   "outputs": [
    {
     "name": "stdout",
     "output_type": "stream",
     "text": [
      "Replacing NAs with mode: High\n"
     ]
    },
    {
     "data": {
      "text/plain": [
       "array(['High', 'Low'], dtype=object)"
      ]
     },
     "execution_count": 9,
     "metadata": {},
     "output_type": "execute_result"
    }
   ],
   "source": [
    "#replace categorical column with mode of columns, which is High in this case\n",
    "op3_mode = pm_data['operational_setting_3'].mode()[0]\n",
    "if not pd.isnull(op3_mode):\n",
    "    print('Replacing NAs with mode:', op3_mode)\n",
    "    pm_data['operational_setting_3'].fillna(op3_mode, inplace=True)\n",
    "pm_data['operational_setting_3'].unique()"
   ]
  },
  {
   "cell_type": "code",
   "execution_count": 10,
   "metadata": {},
   "outputs": [
    {
     "data": {
      "text/plain": [
       "unit_number              False\n",
       "time_stamp               False\n",
       "status                   False\n",
       "operational_setting_1    False\n",
       "operational_setting_2    False\n",
       "operational_setting_3    False\n",
       "sensor_measurement_1     False\n",
       "sensor_measurement_2     False\n",
       "sensor_measurement_3     False\n",
       "sensor_measurement_4     False\n",
       "sensor_measurement_5     False\n",
       "sensor_measurement_6     False\n",
       "sensor_measurement_7     False\n",
       "sensor_measurement_8     False\n",
       "sensor_measurement_9     False\n",
       "sensor_measurement_10    False\n",
       "sensor_measurement_11    False\n",
       "sensor_measurement_12    False\n",
       "sensor_measurement_13    False\n",
       "sensor_measurement_14    False\n",
       "sensor_measurement_15    False\n",
       "sensor_measurement_16    False\n",
       "sensor_measurement_17    False\n",
       "sensor_measurement_18    False\n",
       "sensor_measurement_19    False\n",
       "sensor_measurement_20    False\n",
       "sensor_measurement_21    False\n",
       "dtype: bool"
      ]
     },
     "execution_count": 10,
     "metadata": {},
     "output_type": "execute_result"
    }
   ],
   "source": [
    "pm_data.isnull().any()"
   ]
  },
  {
   "cell_type": "markdown",
   "metadata": {},
   "source": [
    "### Analyze output"
   ]
  },
  {
   "cell_type": "code",
   "execution_count": 11,
   "metadata": {},
   "outputs": [
    {
     "data": {
      "text/plain": [
       "array([[<matplotlib.axes._subplots.AxesSubplot object at 0x7fc7fb5dcc88>]], dtype=object)"
      ]
     },
     "execution_count": 11,
     "metadata": {},
     "output_type": "execute_result"
    },
    {
     "data": {
      "image/png": "[encoded data removed]",
      "text/plain": [
       "<matplotlib.figure.Figure at 0x7fc7fb34d6d8>"
      ]
     },
     "metadata": {},
     "output_type": "display_data"
    }
   ],
   "source": [
    "pm_data.loc[:,depend_cols].hist()"
   ]
  },
  {
   "cell_type": "code",
   "execution_count": 12,
   "metadata": {},
   "outputs": [
    {
     "data": {
      "text/plain": [
       "0    143570\n",
       "1       633\n",
       "Name: status, dtype: int64"
      ]
     },
     "execution_count": 12,
     "metadata": {},
     "output_type": "execute_result"
    }
   ],
   "source": [
    "pm_data.status.value_counts()"
   ]
  },
  {
   "cell_type": "code",
   "execution_count": 13,
   "metadata": {},
   "outputs": [
    {
     "name": "stdout",
     "output_type": "stream",
     "text": [
      "Ratio of minority to majority class is 0.441%\n"
     ]
    }
   ],
   "source": [
    "print(\"Ratio of minority to majority class is {:.3f}%\".format(633/143570 * 100))"
   ]
  },
  {
   "cell_type": "markdown",
   "metadata": {},
   "source": [
    "**We notice the imbalance in the dataset. This is expected because failures of turbines are usually far and few. To fit machine learning models that can accurately predict failure this dataset would have to be balanced.**\n",
    "\n",
    "**This [paper](http://www.ele.uri.edu/faculty/he/PDFfiles/ImbalancedLearning.pdf) explains the concept of imbalance and how it might be beneficial to create a balanced dataset to improve classification accuracy. Also, it explains metrics such as recall and precision that can be used to help evaluate performance of a model, instead of the accuracy.**\n",
    "\n",
    "**The paper also delves into Cost-sensitive method for imbalanced datasets. In this method, instead of creating balanced data distributions through different sampling strategies, cost=sensitive learning targets the imbalanced learning problem by using different cost matrices that describe the costs for misclassifying any particular data example. This can be achieved using parameters in the sci-kit learn model.**\n",
    "\n",
    "**One-class learning method is something that has worked in the past as well. This involves learning feature importance for a single class rather than differentiating between classes like traditional approaches. This might be particularly useful in dealing with extremely imbalanced data sets with high feature space dimensionality.**\n",
    "\n",
    "**After Feature engineering, check if there is still a class imbalance in the dataset.**\n"
   ]
  },
  {
   "cell_type": "markdown",
   "metadata": {},
   "source": [
    "### Basic EDA"
   ]
  },
  {
   "cell_type": "code",
   "execution_count": 14,
   "metadata": {},
   "outputs": [
    {
     "data": {
      "image/png": "[encoded data removed]",
      "text/plain": [
       "<matplotlib.figure.Figure at 0x7fc7fb22d2e8>"
      ]
     },
     "metadata": {},
     "output_type": "display_data"
    }
   ],
   "source": [
    "#dist of features\n",
    "pm_data.loc[:,(numeric_features)].hist(figsize = (15,15))\n",
    "plt.show()"
   ]
  },
  {
   "cell_type": "code",
   "execution_count": 15,
   "metadata": {},
   "outputs": [
    {
     "data": {
      "text/plain": [
       "Text(0.5,1,'Pairwise correlation')"
      ]
     },
     "execution_count": 15,
     "metadata": {},
     "output_type": "execute_result"
    },
    {
     "data": {
      "image/png": "[encoded data removed]",
      "text/plain": [
       "<matplotlib.figure.Figure at 0x7fc7fb1595c0>"
      ]
     },
     "metadata": {},
     "output_type": "display_data"
    }
   ],
   "source": [
    "# source for code: https://seaborn.pydata.org/examples/many_pairwise_correlations.html\n",
    "d = pm_data.loc[:,numeric_features]\n",
    "corr = d.corr()\n",
    "\n",
    "# Generate a mask for the upper triangle\n",
    "mask = np.zeros_like(corr, dtype=np.bool)\n",
    "mask[np.triu_indices_from(mask)] = True\n",
    "\n",
    "# Set up the matplotlib figure\n",
    "f, ax = plt.subplots(figsize=(11, 9))\n",
    "\n",
    "# Generate a custom diverging colormap\n",
    "cmap = sns.diverging_palette(220, 10, as_cmap=True)\n",
    "\n",
    "# Draw the heatmap with the mask and correct aspect ratio\n",
    "sns.heatmap(corr, mask=mask, cmap=cmap, vmax=.3, center=0,\n",
    "            square=True, linewidths=.5, cbar_kws={\"shrink\": .5}).set_title('Pairwise correlation')"
   ]
  },
  {
   "cell_type": "markdown",
   "metadata": {},
   "source": [
    "**We notice 3 columns that stand out in this graph - Operational settings 1, settings 2 and sensor measurement 15 columns. Worth exploring how these columns affect the results, and checking for possible collinearity issues.**"
   ]
  },
  {
   "cell_type": "code",
   "execution_count": 16,
   "metadata": {},
   "outputs": [],
   "source": [
    "# # removing NAs drastically drops count. Try imputation with mean value of sensor\n",
    "# # check if operation needs to be performed. Losing out on valuable information\n",
    "# pm_data.dropna(inplace = True)\n",
    "# pm_data.shape"
   ]
  },
  {
   "cell_type": "markdown",
   "metadata": {},
   "source": [
    "## Feature engineering"
   ]
  },
  {
   "cell_type": "markdown",
   "metadata": {},
   "source": [
    "#### Calculate lag dates"
   ]
  },
  {
   "cell_type": "code",
   "execution_count": 17,
   "metadata": {
    "collapsed": true
   },
   "outputs": [],
   "source": [
    "pm_data['time_stamp'] = pd.to_datetime(pm_data.time_stamp)\n",
    "pm_data.sort_values(['unit_number','time_stamp'], inplace=True)\n",
    "pm_data.reset_index(inplace=True)"
   ]
  },
  {
   "cell_type": "code",
   "execution_count": 18,
   "metadata": {
    "collapsed": true
   },
   "outputs": [],
   "source": [
    "# feature engineering of categorical variable\n",
    "pm_data = pd.concat([pm_data.drop('operational_setting_3', axis = 1),\n",
    "                    pd.get_dummies(pm_data.operational_setting_3,\n",
    "                                   prefix = 'operational_setting_3')[['operational_setting_3_High']]],\n",
    "                    axis = 1).drop('index', axis = 1)"
   ]
  },
  {
   "cell_type": "code",
   "execution_count": 19,
   "metadata": {
    "collapsed": true
   },
   "outputs": [],
   "source": [
    "# take 2 dates and compute the difference\n",
    "pm_data.sort_values(['unit_number','time_stamp'], inplace=True)\n",
    "def get_date(date):\n",
    "    \n",
    "    date1 = date['time_stamp']\n",
    "    date2 = date['time_stamp_lag']\n",
    "    \n",
    "    # first day\n",
    "    if str(date2) == 'NaT':\n",
    "        return 1\n",
    "    \n",
    "    # change of year\n",
    "    if date1 < date2:\n",
    "        return (date1 + 365) - date2\n",
    "    \n",
    "    return (date1 - date2).days"
   ]
  },
  {
   "cell_type": "code",
   "execution_count": 20,
   "metadata": {
    "collapsed": true
   },
   "outputs": [],
   "source": [
    "# record observation count for each sensor\n",
    "pm_data = pd.concat([pm_data,\n",
    "                     pd.DataFrame(pm_data.groupby('unit_number').cumcount(), columns = ['obs_count'])]\n",
    "                    , axis = 1)"
   ]
  },
  {
   "cell_type": "code",
   "execution_count": 21,
   "metadata": {
    "collapsed": true
   },
   "outputs": [],
   "source": [
    "# create lag dates\n",
    "lag_dates = (pm_data[['unit_number','time_stamp']]\n",
    "             .groupby('unit_number')\n",
    "             .shift(1))\n",
    "lag_dates = pm_data.join(lag_dates.rename(columns=lambda x: x+\"_lag\"))\n",
    "\n",
    "# compute difference in days\n",
    "time_diff = pd.DataFrame(lag_dates[['time_stamp','time_stamp_lag']].apply(get_date, axis = 1),\n",
    "                         columns = ['obs_date'])\n",
    "\n",
    "# append lag_dates to actual data\n",
    "pm_data = pd.concat([pm_data, time_diff], axis = 1)"
   ]
  },
  {
   "cell_type": "code",
   "execution_count": 22,
   "metadata": {
    "scrolled": false
   },
   "outputs": [
    {
     "data": {
      "text/html": [
       "<div>\n",
       "<style>\n",
       "    .dataframe thead tr:only-child th {\n",
       "        text-align: right;\n",
       "    }\n",
       "\n",
       "    .dataframe thead th {\n",
       "        text-align: left;\n",
       "    }\n",
       "\n",
       "    .dataframe tbody tr th {\n",
       "        vertical-align: top;\n",
       "    }\n",
       "</style>\n",
       "<table border=\"1\" class=\"dataframe\">\n",
       "  <thead>\n",
       "    <tr style=\"text-align: right;\">\n",
       "      <th></th>\n",
       "      <th>obs_date</th>\n",
       "      <th>unit_number</th>\n",
       "      <th>time_stamp</th>\n",
       "      <th>status</th>\n",
       "      <th>operational_setting_1</th>\n",
       "      <th>operational_setting_2</th>\n",
       "      <th>sensor_measurement_1</th>\n",
       "      <th>sensor_measurement_2</th>\n",
       "      <th>sensor_measurement_3</th>\n",
       "      <th>sensor_measurement_4</th>\n",
       "      <th>...</th>\n",
       "      <th>sensor_measurement_15</th>\n",
       "      <th>sensor_measurement_16</th>\n",
       "      <th>sensor_measurement_17</th>\n",
       "      <th>sensor_measurement_18</th>\n",
       "      <th>sensor_measurement_19</th>\n",
       "      <th>sensor_measurement_20</th>\n",
       "      <th>sensor_measurement_21</th>\n",
       "      <th>operational_setting_3_High</th>\n",
       "      <th>obs_count</th>\n",
       "      <th>date_bw_obs</th>\n",
       "    </tr>\n",
       "  </thead>\n",
       "  <tbody>\n",
       "    <tr>\n",
       "      <th>0</th>\n",
       "      <td>1</td>\n",
       "      <td>2</td>\n",
       "      <td>2017-04-01 12:00:00</td>\n",
       "      <td>0</td>\n",
       "      <td>-0.0018</td>\n",
       "      <td>0.0006</td>\n",
       "      <td>518.67</td>\n",
       "      <td>641.89</td>\n",
       "      <td>1583.84</td>\n",
       "      <td>1391.28</td>\n",
       "      <td>...</td>\n",
       "      <td>8.39050</td>\n",
       "      <td>0.03</td>\n",
       "      <td>391.0</td>\n",
       "      <td>2388.0</td>\n",
       "      <td>100.0</td>\n",
       "      <td>38.94</td>\n",
       "      <td>23.4585</td>\n",
       "      <td>1</td>\n",
       "      <td>0</td>\n",
       "      <td>1</td>\n",
       "    </tr>\n",
       "    <tr>\n",
       "      <th>1</th>\n",
       "      <td>2</td>\n",
       "      <td>2</td>\n",
       "      <td>2017-04-02 12:00:00</td>\n",
       "      <td>0</td>\n",
       "      <td>0.0043</td>\n",
       "      <td>-0.0003</td>\n",
       "      <td>518.67</td>\n",
       "      <td>641.82</td>\n",
       "      <td>1587.05</td>\n",
       "      <td>1393.13</td>\n",
       "      <td>...</td>\n",
       "      <td>8.41670</td>\n",
       "      <td>0.03</td>\n",
       "      <td>368.0</td>\n",
       "      <td>2388.0</td>\n",
       "      <td>100.0</td>\n",
       "      <td>39.06</td>\n",
       "      <td>23.4085</td>\n",
       "      <td>1</td>\n",
       "      <td>1</td>\n",
       "      <td>1</td>\n",
       "    </tr>\n",
       "    <tr>\n",
       "      <th>2</th>\n",
       "      <td>3</td>\n",
       "      <td>2</td>\n",
       "      <td>2017-04-03 12:00:00</td>\n",
       "      <td>0</td>\n",
       "      <td>0.0018</td>\n",
       "      <td>0.0003</td>\n",
       "      <td>518.67</td>\n",
       "      <td>641.55</td>\n",
       "      <td>1588.32</td>\n",
       "      <td>1398.96</td>\n",
       "      <td>...</td>\n",
       "      <td>8.38020</td>\n",
       "      <td>0.03</td>\n",
       "      <td>391.0</td>\n",
       "      <td>2388.0</td>\n",
       "      <td>100.0</td>\n",
       "      <td>39.11</td>\n",
       "      <td>23.4250</td>\n",
       "      <td>1</td>\n",
       "      <td>2</td>\n",
       "      <td>1</td>\n",
       "    </tr>\n",
       "    <tr>\n",
       "      <th>3</th>\n",
       "      <td>4</td>\n",
       "      <td>2</td>\n",
       "      <td>2017-04-04 12:00:00</td>\n",
       "      <td>0</td>\n",
       "      <td>0.0035</td>\n",
       "      <td>-0.0004</td>\n",
       "      <td>518.67</td>\n",
       "      <td>641.68</td>\n",
       "      <td>1584.15</td>\n",
       "      <td>1396.08</td>\n",
       "      <td>...</td>\n",
       "      <td>8.40180</td>\n",
       "      <td>0.03</td>\n",
       "      <td>391.0</td>\n",
       "      <td>2388.0</td>\n",
       "      <td>100.0</td>\n",
       "      <td>39.13</td>\n",
       "      <td>23.5027</td>\n",
       "      <td>1</td>\n",
       "      <td>3</td>\n",
       "      <td>1</td>\n",
       "    </tr>\n",
       "    <tr>\n",
       "      <th>4</th>\n",
       "      <td>5</td>\n",
       "      <td>2</td>\n",
       "      <td>2017-04-05 12:00:00</td>\n",
       "      <td>0</td>\n",
       "      <td>0.0005</td>\n",
       "      <td>0.0004</td>\n",
       "      <td>518.67</td>\n",
       "      <td>641.73</td>\n",
       "      <td>1579.03</td>\n",
       "      <td>1402.52</td>\n",
       "      <td>...</td>\n",
       "      <td>8.38670</td>\n",
       "      <td>0.03</td>\n",
       "      <td>390.0</td>\n",
       "      <td>2388.0</td>\n",
       "      <td>100.0</td>\n",
       "      <td>39.18</td>\n",
       "      <td>23.4234</td>\n",
       "      <td>1</td>\n",
       "      <td>4</td>\n",
       "      <td>1</td>\n",
       "    </tr>\n",
       "    <tr>\n",
       "      <th>5</th>\n",
       "      <td>6</td>\n",
       "      <td>2</td>\n",
       "      <td>2017-04-06 12:00:00</td>\n",
       "      <td>0</td>\n",
       "      <td>-0.0010</td>\n",
       "      <td>0.0004</td>\n",
       "      <td>518.67</td>\n",
       "      <td>641.30</td>\n",
       "      <td>1577.50</td>\n",
       "      <td>1396.76</td>\n",
       "      <td>...</td>\n",
       "      <td>8.38000</td>\n",
       "      <td>0.03</td>\n",
       "      <td>392.0</td>\n",
       "      <td>2388.0</td>\n",
       "      <td>100.0</td>\n",
       "      <td>39.15</td>\n",
       "      <td>23.4270</td>\n",
       "      <td>1</td>\n",
       "      <td>5</td>\n",
       "      <td>1</td>\n",
       "    </tr>\n",
       "    <tr>\n",
       "      <th>6</th>\n",
       "      <td>7</td>\n",
       "      <td>2</td>\n",
       "      <td>2017-04-07 12:00:00</td>\n",
       "      <td>0</td>\n",
       "      <td>0.0001</td>\n",
       "      <td>-0.0002</td>\n",
       "      <td>518.67</td>\n",
       "      <td>642.03</td>\n",
       "      <td>1587.49</td>\n",
       "      <td>1400.65</td>\n",
       "      <td>...</td>\n",
       "      <td>8.39410</td>\n",
       "      <td>0.03</td>\n",
       "      <td>391.0</td>\n",
       "      <td>2388.0</td>\n",
       "      <td>100.0</td>\n",
       "      <td>39.10</td>\n",
       "      <td>23.4718</td>\n",
       "      <td>1</td>\n",
       "      <td>6</td>\n",
       "      <td>1</td>\n",
       "    </tr>\n",
       "    <tr>\n",
       "      <th>7</th>\n",
       "      <td>8</td>\n",
       "      <td>2</td>\n",
       "      <td>2017-04-08 12:00:00</td>\n",
       "      <td>0</td>\n",
       "      <td>0.0015</td>\n",
       "      <td>-0.0004</td>\n",
       "      <td>518.67</td>\n",
       "      <td>642.55</td>\n",
       "      <td>1590.41</td>\n",
       "      <td>1293.97</td>\n",
       "      <td>...</td>\n",
       "      <td>8.38610</td>\n",
       "      <td>0.03</td>\n",
       "      <td>391.0</td>\n",
       "      <td>2388.0</td>\n",
       "      <td>100.0</td>\n",
       "      <td>28.25</td>\n",
       "      <td>23.4381</td>\n",
       "      <td>1</td>\n",
       "      <td>7</td>\n",
       "      <td>1</td>\n",
       "    </tr>\n",
       "    <tr>\n",
       "      <th>8</th>\n",
       "      <td>9</td>\n",
       "      <td>2</td>\n",
       "      <td>2017-04-09 12:00:00</td>\n",
       "      <td>0</td>\n",
       "      <td>0.0017</td>\n",
       "      <td>-0.0004</td>\n",
       "      <td>518.67</td>\n",
       "      <td>641.98</td>\n",
       "      <td>1581.99</td>\n",
       "      <td>1395.01</td>\n",
       "      <td>...</td>\n",
       "      <td>8.38680</td>\n",
       "      <td>0.03</td>\n",
       "      <td>390.0</td>\n",
       "      <td>2388.0</td>\n",
       "      <td>100.0</td>\n",
       "      <td>39.06</td>\n",
       "      <td>23.4875</td>\n",
       "      <td>1</td>\n",
       "      <td>8</td>\n",
       "      <td>1</td>\n",
       "    </tr>\n",
       "    <tr>\n",
       "      <th>9</th>\n",
       "      <td>10</td>\n",
       "      <td>2</td>\n",
       "      <td>2017-04-10 12:00:00</td>\n",
       "      <td>0</td>\n",
       "      <td>10.0078</td>\n",
       "      <td>0.0002</td>\n",
       "      <td>518.67</td>\n",
       "      <td>606.52</td>\n",
       "      <td>1586.37</td>\n",
       "      <td>1394.86</td>\n",
       "      <td>...</td>\n",
       "      <td>8.39820</td>\n",
       "      <td>0.03</td>\n",
       "      <td>391.0</td>\n",
       "      <td>2388.0</td>\n",
       "      <td>100.0</td>\n",
       "      <td>28.25</td>\n",
       "      <td>23.6005</td>\n",
       "      <td>1</td>\n",
       "      <td>9</td>\n",
       "      <td>1</td>\n",
       "    </tr>\n",
       "    <tr>\n",
       "      <th>10</th>\n",
       "      <td>11</td>\n",
       "      <td>2</td>\n",
       "      <td>2017-04-11 12:00:00</td>\n",
       "      <td>0</td>\n",
       "      <td>0.0006</td>\n",
       "      <td>0.0004</td>\n",
       "      <td>518.67</td>\n",
       "      <td>642.26</td>\n",
       "      <td>1589.21</td>\n",
       "      <td>1401.29</td>\n",
       "      <td>...</td>\n",
       "      <td>8.41880</td>\n",
       "      <td>0.03</td>\n",
       "      <td>392.0</td>\n",
       "      <td>2388.0</td>\n",
       "      <td>100.0</td>\n",
       "      <td>39.23</td>\n",
       "      <td>23.3888</td>\n",
       "      <td>1</td>\n",
       "      <td>10</td>\n",
       "      <td>1</td>\n",
       "    </tr>\n",
       "    <tr>\n",
       "      <th>11</th>\n",
       "      <td>12</td>\n",
       "      <td>2</td>\n",
       "      <td>2017-04-12 12:00:00</td>\n",
       "      <td>0</td>\n",
       "      <td>0.0002</td>\n",
       "      <td>0.0006</td>\n",
       "      <td>518.67</td>\n",
       "      <td>641.64</td>\n",
       "      <td>1579.99</td>\n",
       "      <td>1401.90</td>\n",
       "      <td>...</td>\n",
       "      <td>8.74135</td>\n",
       "      <td>0.03</td>\n",
       "      <td>392.0</td>\n",
       "      <td>2388.0</td>\n",
       "      <td>100.0</td>\n",
       "      <td>39.12</td>\n",
       "      <td>23.4201</td>\n",
       "      <td>1</td>\n",
       "      <td>11</td>\n",
       "      <td>1</td>\n",
       "    </tr>\n",
       "    <tr>\n",
       "      <th>12</th>\n",
       "      <td>13</td>\n",
       "      <td>2</td>\n",
       "      <td>2017-04-13 12:00:00</td>\n",
       "      <td>0</td>\n",
       "      <td>0.0007</td>\n",
       "      <td>0.0005</td>\n",
       "      <td>518.67</td>\n",
       "      <td>641.78</td>\n",
       "      <td>1586.77</td>\n",
       "      <td>1401.53</td>\n",
       "      <td>...</td>\n",
       "      <td>8.37420</td>\n",
       "      <td>0.03</td>\n",
       "      <td>391.0</td>\n",
       "      <td>2388.0</td>\n",
       "      <td>100.0</td>\n",
       "      <td>38.88</td>\n",
       "      <td>23.4317</td>\n",
       "      <td>1</td>\n",
       "      <td>12</td>\n",
       "      <td>1</td>\n",
       "    </tr>\n",
       "  </tbody>\n",
       "</table>\n",
       "<p>13 rows × 30 columns</p>\n",
       "</div>"
      ],
      "text/plain": [
       "    obs_date  unit_number          time_stamp  status  operational_setting_1  \\\n",
       "0          1            2 2017-04-01 12:00:00       0                -0.0018   \n",
       "1          2            2 2017-04-02 12:00:00       0                 0.0043   \n",
       "2          3            2 2017-04-03 12:00:00       0                 0.0018   \n",
       "3          4            2 2017-04-04 12:00:00       0                 0.0035   \n",
       "4          5            2 2017-04-05 12:00:00       0                 0.0005   \n",
       "5          6            2 2017-04-06 12:00:00       0                -0.0010   \n",
       "6          7            2 2017-04-07 12:00:00       0                 0.0001   \n",
       "7          8            2 2017-04-08 12:00:00       0                 0.0015   \n",
       "8          9            2 2017-04-09 12:00:00       0                 0.0017   \n",
       "9         10            2 2017-04-10 12:00:00       0                10.0078   \n",
       "10        11            2 2017-04-11 12:00:00       0                 0.0006   \n",
       "11        12            2 2017-04-12 12:00:00       0                 0.0002   \n",
       "12        13            2 2017-04-13 12:00:00       0                 0.0007   \n",
       "\n",
       "    operational_setting_2  sensor_measurement_1  sensor_measurement_2  \\\n",
       "0                  0.0006                518.67                641.89   \n",
       "1                 -0.0003                518.67                641.82   \n",
       "2                  0.0003                518.67                641.55   \n",
       "3                 -0.0004                518.67                641.68   \n",
       "4                  0.0004                518.67                641.73   \n",
       "5                  0.0004                518.67                641.30   \n",
       "6                 -0.0002                518.67                642.03   \n",
       "7                 -0.0004                518.67                642.55   \n",
       "8                 -0.0004                518.67                641.98   \n",
       "9                  0.0002                518.67                606.52   \n",
       "10                 0.0004                518.67                642.26   \n",
       "11                 0.0006                518.67                641.64   \n",
       "12                 0.0005                518.67                641.78   \n",
       "\n",
       "    sensor_measurement_3  sensor_measurement_4     ...       \\\n",
       "0                1583.84               1391.28     ...        \n",
       "1                1587.05               1393.13     ...        \n",
       "2                1588.32               1398.96     ...        \n",
       "3                1584.15               1396.08     ...        \n",
       "4                1579.03               1402.52     ...        \n",
       "5                1577.50               1396.76     ...        \n",
       "6                1587.49               1400.65     ...        \n",
       "7                1590.41               1293.97     ...        \n",
       "8                1581.99               1395.01     ...        \n",
       "9                1586.37               1394.86     ...        \n",
       "10               1589.21               1401.29     ...        \n",
       "11               1579.99               1401.90     ...        \n",
       "12               1586.77               1401.53     ...        \n",
       "\n",
       "    sensor_measurement_15  sensor_measurement_16  sensor_measurement_17  \\\n",
       "0                 8.39050                   0.03                  391.0   \n",
       "1                 8.41670                   0.03                  368.0   \n",
       "2                 8.38020                   0.03                  391.0   \n",
       "3                 8.40180                   0.03                  391.0   \n",
       "4                 8.38670                   0.03                  390.0   \n",
       "5                 8.38000                   0.03                  392.0   \n",
       "6                 8.39410                   0.03                  391.0   \n",
       "7                 8.38610                   0.03                  391.0   \n",
       "8                 8.38680                   0.03                  390.0   \n",
       "9                 8.39820                   0.03                  391.0   \n",
       "10                8.41880                   0.03                  392.0   \n",
       "11                8.74135                   0.03                  392.0   \n",
       "12                8.37420                   0.03                  391.0   \n",
       "\n",
       "    sensor_measurement_18  sensor_measurement_19  sensor_measurement_20  \\\n",
       "0                  2388.0                  100.0                  38.94   \n",
       "1                  2388.0                  100.0                  39.06   \n",
       "2                  2388.0                  100.0                  39.11   \n",
       "3                  2388.0                  100.0                  39.13   \n",
       "4                  2388.0                  100.0                  39.18   \n",
       "5                  2388.0                  100.0                  39.15   \n",
       "6                  2388.0                  100.0                  39.10   \n",
       "7                  2388.0                  100.0                  28.25   \n",
       "8                  2388.0                  100.0                  39.06   \n",
       "9                  2388.0                  100.0                  28.25   \n",
       "10                 2388.0                  100.0                  39.23   \n",
       "11                 2388.0                  100.0                  39.12   \n",
       "12                 2388.0                  100.0                  38.88   \n",
       "\n",
       "    sensor_measurement_21  operational_setting_3_High  obs_count  date_bw_obs  \n",
       "0                 23.4585                           1          0            1  \n",
       "1                 23.4085                           1          1            1  \n",
       "2                 23.4250                           1          2            1  \n",
       "3                 23.5027                           1          3            1  \n",
       "4                 23.4234                           1          4            1  \n",
       "5                 23.4270                           1          5            1  \n",
       "6                 23.4718                           1          6            1  \n",
       "7                 23.4381                           1          7            1  \n",
       "8                 23.4875                           1          8            1  \n",
       "9                 23.6005                           1          9            1  \n",
       "10                23.3888                           1         10            1  \n",
       "11                23.4201                           1         11            1  \n",
       "12                23.4317                           1         12            1  \n",
       "\n",
       "[13 rows x 30 columns]"
      ]
     },
     "execution_count": 22,
     "metadata": {},
     "output_type": "execute_result"
    }
   ],
   "source": [
    "pm_final = pd.concat([\n",
    "            (pm_data[['unit_number','time_stamp','obs_date']]\n",
    "            .groupby(['unit_number','time_stamp'])\n",
    "            .sum()\n",
    "            .groupby(level=[0])\n",
    "            .cumsum()\n",
    "            .reset_index()[['obs_date']]),\n",
    "            pm_data.rename(columns = {'obs_date':'date_bw_obs'}).reset_index().drop('index', axis = 1)\n",
    "          ], axis = 1\n",
    "         )\n",
    "pm_final.head(13)"
   ]
  },
  {
   "cell_type": "markdown",
   "metadata": {},
   "source": [
    "#### Generate label `status_within_40days` (This give possibility of failure within 40 days label)"
   ]
  },
  {
   "cell_type": "code",
   "execution_count": 23,
   "metadata": {
    "collapsed": true
   },
   "outputs": [],
   "source": [
    "# Check if there is a better method to generate this label..3 loops seems like overkill!\n",
    "# Sample case: pm_final[pm_final.unit_number == 4]\n",
    "window_size = 40\n",
    "Status = [] # hold status\n",
    "for i,j in pm_final[['unit_number','obs_date','status']].groupby('unit_number'):\n",
    "\n",
    "    status = j['status'].values # store status for every turbine\n",
    "    date_bw_obs = j['obs_date'].values # store observed date for a reading\n",
    "    failure_status = status.copy() # update to 1 if it obs has occured within 40 days of failure\n",
    "    failures = np.where(status)[0].tolist() # retrieve position of status = 1\n",
    "    \n",
    "    if any(failures):\n",
    "        # in case of multiple failures, loop through all failures. set indicator of last failure and only \n",
    "        # start from there. Avoid overlapping!\n",
    "        for i in failures:\n",
    "            # Loop through dates between observations to check if it falls within 40 days of failure. \n",
    "            for date in range(min(i,window_size)):\n",
    "                    if (date_bw_obs[i] - date_bw_obs[i - date]) < window_size:\n",
    "                        failure_status[i - date] = 1\n",
    "            \n",
    "    Status = Status + failure_status.tolist()"
   ]
  },
  {
   "cell_type": "code",
   "execution_count": 24,
   "metadata": {},
   "outputs": [
    {
     "data": {
      "text/html": [
       "<div>\n",
       "<style>\n",
       "    .dataframe thead tr:only-child th {\n",
       "        text-align: right;\n",
       "    }\n",
       "\n",
       "    .dataframe thead th {\n",
       "        text-align: left;\n",
       "    }\n",
       "\n",
       "    .dataframe tbody tr th {\n",
       "        vertical-align: top;\n",
       "    }\n",
       "</style>\n",
       "<table border=\"1\" class=\"dataframe\">\n",
       "  <thead>\n",
       "    <tr style=\"text-align: right;\">\n",
       "      <th></th>\n",
       "      <th>obs_date</th>\n",
       "      <th>unit_number</th>\n",
       "      <th>time_stamp</th>\n",
       "      <th>status</th>\n",
       "      <th>operational_setting_1</th>\n",
       "      <th>operational_setting_2</th>\n",
       "      <th>sensor_measurement_1</th>\n",
       "      <th>sensor_measurement_2</th>\n",
       "      <th>sensor_measurement_3</th>\n",
       "      <th>sensor_measurement_4</th>\n",
       "      <th>...</th>\n",
       "      <th>sensor_measurement_16</th>\n",
       "      <th>sensor_measurement_17</th>\n",
       "      <th>sensor_measurement_18</th>\n",
       "      <th>sensor_measurement_19</th>\n",
       "      <th>sensor_measurement_20</th>\n",
       "      <th>sensor_measurement_21</th>\n",
       "      <th>operational_setting_3_High</th>\n",
       "      <th>obs_count</th>\n",
       "      <th>date_bw_obs</th>\n",
       "      <th>status_within_40</th>\n",
       "    </tr>\n",
       "  </thead>\n",
       "  <tbody>\n",
       "    <tr>\n",
       "      <th>0</th>\n",
       "      <td>1</td>\n",
       "      <td>2</td>\n",
       "      <td>2017-04-01 12:00:00</td>\n",
       "      <td>0</td>\n",
       "      <td>-0.0018</td>\n",
       "      <td>0.0006</td>\n",
       "      <td>518.67</td>\n",
       "      <td>641.89</td>\n",
       "      <td>1583.84</td>\n",
       "      <td>1391.28</td>\n",
       "      <td>...</td>\n",
       "      <td>0.03</td>\n",
       "      <td>391.0</td>\n",
       "      <td>2388.0</td>\n",
       "      <td>100.0</td>\n",
       "      <td>38.94</td>\n",
       "      <td>23.4585</td>\n",
       "      <td>1</td>\n",
       "      <td>0</td>\n",
       "      <td>1</td>\n",
       "      <td>0</td>\n",
       "    </tr>\n",
       "    <tr>\n",
       "      <th>1</th>\n",
       "      <td>2</td>\n",
       "      <td>2</td>\n",
       "      <td>2017-04-02 12:00:00</td>\n",
       "      <td>0</td>\n",
       "      <td>0.0043</td>\n",
       "      <td>-0.0003</td>\n",
       "      <td>518.67</td>\n",
       "      <td>641.82</td>\n",
       "      <td>1587.05</td>\n",
       "      <td>1393.13</td>\n",
       "      <td>...</td>\n",
       "      <td>0.03</td>\n",
       "      <td>368.0</td>\n",
       "      <td>2388.0</td>\n",
       "      <td>100.0</td>\n",
       "      <td>39.06</td>\n",
       "      <td>23.4085</td>\n",
       "      <td>1</td>\n",
       "      <td>1</td>\n",
       "      <td>1</td>\n",
       "      <td>0</td>\n",
       "    </tr>\n",
       "    <tr>\n",
       "      <th>2</th>\n",
       "      <td>3</td>\n",
       "      <td>2</td>\n",
       "      <td>2017-04-03 12:00:00</td>\n",
       "      <td>0</td>\n",
       "      <td>0.0018</td>\n",
       "      <td>0.0003</td>\n",
       "      <td>518.67</td>\n",
       "      <td>641.55</td>\n",
       "      <td>1588.32</td>\n",
       "      <td>1398.96</td>\n",
       "      <td>...</td>\n",
       "      <td>0.03</td>\n",
       "      <td>391.0</td>\n",
       "      <td>2388.0</td>\n",
       "      <td>100.0</td>\n",
       "      <td>39.11</td>\n",
       "      <td>23.4250</td>\n",
       "      <td>1</td>\n",
       "      <td>2</td>\n",
       "      <td>1</td>\n",
       "      <td>0</td>\n",
       "    </tr>\n",
       "    <tr>\n",
       "      <th>3</th>\n",
       "      <td>4</td>\n",
       "      <td>2</td>\n",
       "      <td>2017-04-04 12:00:00</td>\n",
       "      <td>0</td>\n",
       "      <td>0.0035</td>\n",
       "      <td>-0.0004</td>\n",
       "      <td>518.67</td>\n",
       "      <td>641.68</td>\n",
       "      <td>1584.15</td>\n",
       "      <td>1396.08</td>\n",
       "      <td>...</td>\n",
       "      <td>0.03</td>\n",
       "      <td>391.0</td>\n",
       "      <td>2388.0</td>\n",
       "      <td>100.0</td>\n",
       "      <td>39.13</td>\n",
       "      <td>23.5027</td>\n",
       "      <td>1</td>\n",
       "      <td>3</td>\n",
       "      <td>1</td>\n",
       "      <td>0</td>\n",
       "    </tr>\n",
       "    <tr>\n",
       "      <th>4</th>\n",
       "      <td>5</td>\n",
       "      <td>2</td>\n",
       "      <td>2017-04-05 12:00:00</td>\n",
       "      <td>0</td>\n",
       "      <td>0.0005</td>\n",
       "      <td>0.0004</td>\n",
       "      <td>518.67</td>\n",
       "      <td>641.73</td>\n",
       "      <td>1579.03</td>\n",
       "      <td>1402.52</td>\n",
       "      <td>...</td>\n",
       "      <td>0.03</td>\n",
       "      <td>390.0</td>\n",
       "      <td>2388.0</td>\n",
       "      <td>100.0</td>\n",
       "      <td>39.18</td>\n",
       "      <td>23.4234</td>\n",
       "      <td>1</td>\n",
       "      <td>4</td>\n",
       "      <td>1</td>\n",
       "      <td>0</td>\n",
       "    </tr>\n",
       "  </tbody>\n",
       "</table>\n",
       "<p>5 rows × 31 columns</p>\n",
       "</div>"
      ],
      "text/plain": [
       "   obs_date  unit_number          time_stamp  status  operational_setting_1  \\\n",
       "0         1            2 2017-04-01 12:00:00       0                -0.0018   \n",
       "1         2            2 2017-04-02 12:00:00       0                 0.0043   \n",
       "2         3            2 2017-04-03 12:00:00       0                 0.0018   \n",
       "3         4            2 2017-04-04 12:00:00       0                 0.0035   \n",
       "4         5            2 2017-04-05 12:00:00       0                 0.0005   \n",
       "\n",
       "   operational_setting_2  sensor_measurement_1  sensor_measurement_2  \\\n",
       "0                 0.0006                518.67                641.89   \n",
       "1                -0.0003                518.67                641.82   \n",
       "2                 0.0003                518.67                641.55   \n",
       "3                -0.0004                518.67                641.68   \n",
       "4                 0.0004                518.67                641.73   \n",
       "\n",
       "   sensor_measurement_3  sensor_measurement_4        ...         \\\n",
       "0               1583.84               1391.28        ...          \n",
       "1               1587.05               1393.13        ...          \n",
       "2               1588.32               1398.96        ...          \n",
       "3               1584.15               1396.08        ...          \n",
       "4               1579.03               1402.52        ...          \n",
       "\n",
       "   sensor_measurement_16  sensor_measurement_17  sensor_measurement_18  \\\n",
       "0                   0.03                  391.0                 2388.0   \n",
       "1                   0.03                  368.0                 2388.0   \n",
       "2                   0.03                  391.0                 2388.0   \n",
       "3                   0.03                  391.0                 2388.0   \n",
       "4                   0.03                  390.0                 2388.0   \n",
       "\n",
       "   sensor_measurement_19  sensor_measurement_20  sensor_measurement_21  \\\n",
       "0                  100.0                  38.94                23.4585   \n",
       "1                  100.0                  39.06                23.4085   \n",
       "2                  100.0                  39.11                23.4250   \n",
       "3                  100.0                  39.13                23.5027   \n",
       "4                  100.0                  39.18                23.4234   \n",
       "\n",
       "   operational_setting_3_High  obs_count  date_bw_obs  status_within_40  \n",
       "0                           1          0            1                 0  \n",
       "1                           1          1            1                 0  \n",
       "2                           1          2            1                 0  \n",
       "3                           1          3            1                 0  \n",
       "4                           1          4            1                 0  \n",
       "\n",
       "[5 rows x 31 columns]"
      ]
     },
     "execution_count": 24,
     "metadata": {},
     "output_type": "execute_result"
    }
   ],
   "source": [
    "pm_final['status_within_40'] = Status\n",
    "pm_final.head()"
   ]
  },
  {
   "cell_type": "code",
   "execution_count": 25,
   "metadata": {},
   "outputs": [
    {
     "data": {
      "text/plain": [
       "Text(0.5,1,'Distribution of cumulative date for readings')"
      ]
     },
     "execution_count": 25,
     "metadata": {},
     "output_type": "execute_result"
    },
    {
     "data": {
      "image/png": "[encoded data removed]",
      "text/plain": [
       "<matplotlib.figure.Figure at 0x7fc7f979ff28>"
      ]
     },
     "metadata": {},
     "output_type": "display_data"
    }
   ],
   "source": [
    "(sns.kdeplot(pm_final['obs_date'], shade=True)\n",
    "    .set_title(\"Distribution of cumulative date for readings\")\n",
    ")"
   ]
  },
  {
   "cell_type": "code",
   "execution_count": 26,
   "metadata": {},
   "outputs": [
    {
     "data": {
      "text/plain": [
       "Text(0.5,1,'Distribution of reading counts for turbines')"
      ]
     },
     "execution_count": 26,
     "metadata": {},
     "output_type": "execute_result"
    },
    {
     "data": {
      "image/png": "[encoded data removed]",
      "text/plain": [
       "<matplotlib.figure.Figure at 0x7fc7f95ee208>"
      ]
     },
     "metadata": {},
     "output_type": "display_data"
    }
   ],
   "source": [
    "(sns.kdeplot(pm_final['obs_count'], shade=True)\n",
    "   .set_title(\"Distribution of reading counts for turbines\")\n",
    ")"
   ]
  },
  {
   "cell_type": "code",
   "execution_count": 27,
   "metadata": {},
   "outputs": [
    {
     "data": {
      "image/png": "[encoded data removed]",
      "text/plain": [
       "<matplotlib.figure.Figure at 0x7fc7f95ee358>"
      ]
     },
     "metadata": {},
     "output_type": "display_data"
    }
   ],
   "source": [
    "plt.scatter(\"obs_date\",\"status\", data=pm_final,marker='o', alpha = 0.25)\n",
    "plt.xlabel(\"Cumulative date for readings\")\n",
    "plt.ylabel(\"Status\")\n",
    "plt.title('Failure over time')\n",
    "plt.show()"
   ]
  },
  {
   "cell_type": "code",
   "execution_count": 28,
   "metadata": {},
   "outputs": [
    {
     "data": {
      "image/png": "[encoded data removed]",
      "text/plain": [
       "<matplotlib.figure.Figure at 0x7fc7f9535390>"
      ]
     },
     "metadata": {},
     "output_type": "display_data"
    }
   ],
   "source": [
    "plt.scatter(\"obs_count\",\"status\", data=pm_final,marker='o', alpha = 0.25)\n",
    "plt.xlabel(\"Cumulative number of readings\")\n",
    "plt.ylabel(\"Status\")\n",
    "plt.title('Failure over time')\n",
    "plt.show()"
   ]
  },
  {
   "cell_type": "markdown",
   "metadata": {},
   "source": [
    "## Feature scaling"
   ]
  },
  {
   "cell_type": "code",
   "execution_count": 29,
   "metadata": {},
   "outputs": [
    {
     "name": "stdout",
     "output_type": "stream",
     "text": [
      "['operational_setting_1', 'operational_setting_2', 'sensor_measurement_1', 'sensor_measurement_2', 'sensor_measurement_3', 'sensor_measurement_4', 'sensor_measurement_5', 'sensor_measurement_6', 'sensor_measurement_7', 'sensor_measurement_8', 'sensor_measurement_9', 'sensor_measurement_10', 'sensor_measurement_11', 'sensor_measurement_12', 'sensor_measurement_13', 'sensor_measurement_14', 'sensor_measurement_15', 'sensor_measurement_16', 'sensor_measurement_17', 'sensor_measurement_18', 'sensor_measurement_19', 'sensor_measurement_20', 'sensor_measurement_21']\n",
      "\n",
      "['obs_date', 'unit_number', 'time_stamp', 'operational_setting_3_High', 'obs_count', 'date_bw_obs']\n"
     ]
    }
   ],
   "source": [
    "# pick the feature columns \n",
    "source = ['operational', 'sensor']\n",
    "target = list(pm_final.columns)\n",
    "feature_names = [colname for colname in target \n",
    "                    if any(i in colname for i in source)] # check if there is a better way of doing this\n",
    "\n",
    "scaling_features = feature_names.copy()\n",
    "if 'operational_setting_3_High' in scaling_features: scaling_features.remove('operational_setting_3_High')\n",
    "\n",
    "unscaled_features = [col for col in target if col not in scaling_features + ['status','status_within_40']]\n",
    "print(scaling_features)\n",
    "print()\n",
    "print(unscaled_features)\n",
    "        \n",
    "stdsc = StandardScaler() # fit this on training data when encountered"
   ]
  },
  {
   "cell_type": "code",
   "execution_count": 30,
   "metadata": {},
   "outputs": [
    {
     "data": {
      "text/plain": [
       "0    118883\n",
       "1     25320\n",
       "Name: status_within_40, dtype: int64"
      ]
     },
     "execution_count": 30,
     "metadata": {},
     "output_type": "execute_result"
    }
   ],
   "source": [
    "pm_final.status_within_40.value_counts()"
   ]
  },
  {
   "cell_type": "code",
   "execution_count": 31,
   "metadata": {},
   "outputs": [
    {
     "name": "stdout",
     "output_type": "stream",
     "text": [
      "Ratio of minority to majority class is 21.298%\n"
     ]
    }
   ],
   "source": [
    "print(\"Ratio of minority to majority class is {:.3f}%\".format(25320/118883 * 100))"
   ]
  },
  {
   "cell_type": "markdown",
   "metadata": {},
   "source": [
    "**NOTE: Minority to majority class ration is 20% and not 0.44% anymore**"
   ]
  },
  {
   "cell_type": "code",
   "execution_count": 32,
   "metadata": {},
   "outputs": [],
   "source": [
    "## Export processed data\n",
    "pm_final.to_csv('../results/processed_task1.csv')"
   ]
  },
  {
   "cell_type": "markdown",
   "metadata": {},
   "source": [
    "### Findings\n",
    "1. From the `Pairwise correlation` graph, there seems to be high correlation with sensor measurement 15 and the other sensor values\n",
    "2. Operation setting 1 and 2 seem to be correlated with all the sensor values. Not aware of what readings represent to make any assumptions about the values.\n",
    "4. The `Failure Over time` graph suggests that all failures occur 100 days after the first measurement was recorded, and most of them fail within 100-300 days of the first reading of the sensor."
   ]
  },
  {
   "cell_type": "markdown",
   "metadata": {},
   "source": [
    "**In this case, failure to predict a status of 1 could be detrimental. Hence trying to design a model with a high Recall score (false positives)**"
   ]
  },
  {
   "cell_type": "markdown",
   "metadata": {},
   "source": [
    "### Should I be under sampling or over sampling? evaluate computation time and accuracy trade off "
   ]
  },
  {
   "cell_type": "markdown",
   "metadata": {},
   "source": [
    "> try using class weights first. This is computationally efficient"
   ]
  },
  {
   "cell_type": "markdown",
   "metadata": {},
   "source": [
    "## Dataset for model selection\n",
    "\n",
    "1. For LSTM, create a 3d array for the input - (samples x window_size x features) and a 2d array for the label\n",
    "2. For other ensemble models, check if using `status_within_40` or creating a sequence of `status` yields better results"
   ]
  },
  {
   "cell_type": "code",
   "execution_count": 33,
   "metadata": {
    "collapsed": true
   },
   "outputs": [],
   "source": [
    "# Make a train/test split using 20% test size\n",
    "X_train_valid, X_test, y_train_valid, y_test = train_test_split(pm_final.drop(['status','status_within_40','time_stamp'], axis = 1)\n",
    "                                                    ,pm_final[['status_within_40']],\n",
    "                                                    test_size=0.20,\n",
    "                                                    random_state=RANDOM_STATE)"
   ]
  },
  {
   "cell_type": "code",
   "execution_count": 34,
   "metadata": {},
   "outputs": [
    {
     "data": {
      "text/plain": [
       "(190166, 28)"
      ]
     },
     "execution_count": 34,
     "metadata": {},
     "output_type": "execute_result"
    }
   ],
   "source": [
    "# Balance dataset using undersampling/oversampling\n",
    "# Trying oversampling because LSTMs work better with larger than smaller datasets\n",
    "rus=SMOTE(random_state=RANDOM_STATE)\n",
    "X_resampled, y_resampled = rus.fit_sample(X_train_valid, y_train_valid.values.ravel())\n",
    "X_resampled = pd.DataFrame(X_resampled, columns=X_train_valid.columns)\n",
    "y_resampled = pd.DataFrame(y_resampled, columns=y_train_valid.columns)\n",
    "X_resampled.shape"
   ]
  },
  {
   "cell_type": "code",
   "execution_count": 35,
   "metadata": {},
   "outputs": [
    {
     "data": {
      "text/plain": [
       "1    95083\n",
       "0    95083\n",
       "Name: status_within_40, dtype: int64"
      ]
     },
     "execution_count": 35,
     "metadata": {},
     "output_type": "execute_result"
    }
   ],
   "source": [
    "y_resampled.iloc[:,0].value_counts()"
   ]
  },
  {
   "cell_type": "code",
   "execution_count": 36,
   "metadata": {
    "collapsed": true
   },
   "outputs": [],
   "source": [
    "X_train, X_valid, y_train, y_valid = train_test_split(X_resampled\n",
    "                                                    , y_resampled\n",
    "                                                    , test_size=0.20)"
   ]
  },
  {
   "cell_type": "code",
   "execution_count": 37,
   "metadata": {},
   "outputs": [
    {
     "name": "stdout",
     "output_type": "stream",
     "text": [
      "(152132, 28)\n",
      "(38034, 28)\n",
      "(28841, 28)\n"
     ]
    }
   ],
   "source": [
    "print(X_train.shape)\n",
    "print(X_valid.shape)\n",
    "print(X_test.shape)"
   ]
  },
  {
   "cell_type": "code",
   "execution_count": 38,
   "metadata": {
    "scrolled": false
   },
   "outputs": [
    {
     "name": "stdout",
     "output_type": "stream",
     "text": [
      "0    76137\n",
      "1    75995\n",
      "Name: status_within_40, dtype: int64\n",
      "1    19088\n",
      "0    18946\n",
      "Name: status_within_40, dtype: int64\n",
      "0    23800\n",
      "1     5041\n",
      "Name: status_within_40, dtype: int64\n"
     ]
    }
   ],
   "source": [
    "print(y_train['status_within_40'].value_counts())\n",
    "print(y_valid['status_within_40'].value_counts())\n",
    "print(y_test['status_within_40'].value_counts())"
   ]
  },
  {
   "cell_type": "code",
   "execution_count": 39,
   "metadata": {},
   "outputs": [],
   "source": [
    "def get_class_weights(y, smooth_factor=0):\n",
    "    \"\"\"\n",
    "    Returns the weights for each class based on the frequencies of the samples\n",
    "    :param smooth_factor: factor that smooths extremely uneven weights\n",
    "    :param y: list of true labels (the labels must be hashable)\n",
    "    :return: dictionary with the weight for each class\n",
    "    \"\"\"\n",
    "    counter = Counter(y)\n",
    "\n",
    "    if smooth_factor > 0:\n",
    "        p = max(counter.values()) * smooth_factor\n",
    "        for k in counter.keys():\n",
    "            counter[k] += p\n",
    "\n",
    "    majority = max(counter.values())\n",
    "\n",
    "    return {cls: float(majority) / count for cls, count in counter.items()}"
   ]
  },
  {
   "cell_type": "code",
   "execution_count": 40,
   "metadata": {},
   "outputs": [
    {
     "data": {
      "text/plain": [
       "{0: 1.0, 1: 4.688742048424478}"
      ]
     },
     "execution_count": 40,
     "metadata": {},
     "output_type": "execute_result"
    }
   ],
   "source": [
    "class_weights = get_class_weights(y_train_valid['status_within_40'])\n",
    "class_weights"
   ]
  },
  {
   "cell_type": "code",
   "execution_count": 41,
   "metadata": {
    "collapsed": true
   },
   "outputs": [],
   "source": [
    "def bind_scaled_non_scaled(data, scaled_feat, unscaled_feat, model):\n",
    "    \"\"\"\n",
    "    This function scales numeric features and binds other features to the matrix\n",
    "    \n",
    "    Args:\n",
    "        data: Features and label data\n",
    "        scaled_feat: Feature column names to be scaled\n",
    "        unscaled_feat: Columns which do not have to be scaled \n",
    "        model: Method to be used for scaling numeric values (default is Standard scaler)\n",
    "    \n",
    "    Output:\n",
    "        bind_data: pandas dataframe\n",
    "            Data frame consisting of scaled and unscaled features for model\n",
    "    \n",
    "    \"\"\"\n",
    "   \n",
    "    scaled_data = model.transform(data.loc[:,scaled_feat])\n",
    "    bind_data =  pd.concat([pd.DataFrame(scaled_data, columns = scaled_feat), \n",
    "                            data.loc[:,unscaled_feat].reset_index().drop(data.loc[:,unscaled_feat].columns[0], axis = 1)],\n",
    "                           axis = 1\n",
    "                          )\n",
    "    return bind_data"
   ]
  },
  {
   "cell_type": "code",
   "execution_count": 42,
   "metadata": {
    "collapsed": true,
    "scrolled": true
   },
   "outputs": [],
   "source": [
    "stdsc.fit(X_train.loc[:,scaling_features])\n",
    "\n",
    "X_train = bind_scaled_non_scaled(X_train, scaling_features, unscaled_features, stdsc)\n",
    "X_valid = bind_scaled_non_scaled(X_valid, scaling_features, unscaled_features, stdsc)\n",
    "X_test = bind_scaled_non_scaled(X_test, scaling_features, unscaled_features, stdsc)"
   ]
  },
  {
   "cell_type": "markdown",
   "metadata": {},
   "source": [
    "## Fit LSTM"
   ]
  },
  {
   "cell_type": "markdown",
   "metadata": {},
   "source": [
    "LSTM design\n",
    "1. Input dim -- input shape is equal to the window size and features(24) for this window size(40).\n",
    "2. Output dim -- probabilities of failure for 40 future days. If prob > 0.5 it can classified as 1 else 0."
   ]
  },
  {
   "cell_type": "code",
   "execution_count": 43,
   "metadata": {
    "collapsed": true
   },
   "outputs": [],
   "source": [
    "# slide a window of 40 and capture feature and status information\n",
    "# do this for total number of rows in data - size of window(40)\n",
    "# check if this should be done, or the window itself has to move by 40 per iteration\n",
    "def pre_process_data_LSTM(data, feature_columns, target_label, window_size, resample = False):\n",
    "    X,Y = [],[]\n",
    "#     data = data.reset_index()\n",
    "    for i in range(data.shape[0]-window_size-1): \n",
    "        X_block = np.array(data.loc[i:(i+window_size-1),feature_columns])\n",
    "        Y_block = np.array(data.loc[i,target_label])\n",
    "        \n",
    "        # padding\n",
    "        if X_block.shape[1] < (window_size - 1):\n",
    "            X_block[X_block.shape[1]:window_size-1] = 0\n",
    "#             Y_block[X_block.shape[1]:window_size-1] = 0\n",
    "\n",
    "        X.append(X_block)\n",
    "        Y.append(Y_block)\n",
    "    return np.array(X),np.array(Y)"
   ]
  },
  {
   "cell_type": "code",
   "execution_count": 44,
   "metadata": {
    "collapsed": true
   },
   "outputs": [
    {
     "name": "stdout",
     "output_type": "stream",
     "text": [
      "time taken: 256.265 seconds\n"
     ]
    }
   ],
   "source": [
    "window_size = 40\n",
    "t0 = time()\n",
    "\n",
    "X_tr_ls, y_tr_ls = pre_process_data_LSTM(pd.concat([X_train.reset_index(drop = True),\n",
    "                                                      y_train.reset_index(drop = True)], axis = 1), \n",
    "                                                     feature_names,\n",
    "                                                     'status_within_40',\n",
    "                                                     window_size)\n",
    "X_val_ls, y_val_ls = pre_process_data_LSTM(pd.concat([X_valid.reset_index(drop = True),\n",
    "                                                      y_valid.reset_index(drop = True)], axis = 1), \n",
    "                                                     feature_names,\n",
    "                                                     'status_within_40',\n",
    "                                                     window_size)\n",
    "X_test_ls, y_test_ls = pre_process_data_LSTM(pd.concat([X_test.reset_index(drop = True),\n",
    "                                                      y_test.reset_index(drop = True)], axis = 1), \n",
    "                                                     feature_names,\n",
    "                                                     'status_within_40',\n",
    "                                                     window_size)\n",
    "print(\"time taken: {:.3f} seconds\".format(time() - t0))"
   ]
  },
  {
   "cell_type": "code",
   "execution_count": 45,
   "metadata": {},
   "outputs": [
    {
     "name": "stdout",
     "output_type": "stream",
     "text": [
      "Shape of input (152091, 40, 24)\n",
      "Shape of output (152091,)\n"
     ]
    }
   ],
   "source": [
    "print(\"Shape of input\",X_tr_ls.shape)\n",
    "print(\"Shape of output\",y_tr_ls.shape)"
   ]
  },
  {
   "cell_type": "code",
   "execution_count": 46,
   "metadata": {
    "collapsed": true
   },
   "outputs": [],
   "source": [
    "# define roc_callback, inspired by https://github.com/keras-team/keras/issues/6050#issuecomment-329996505\n",
    "# precision and recall were removed from keras, here's the commit https://github.com/keras-team/keras/commit/a56b1a55182acf061b1eb2e2c86b48193a0e88f7\n",
    "def auc_roc(y_true, y_pred):\n",
    "    # any tensorflow metric\n",
    "    value, update_op = tf.contrib.metrics.streaming_auc(y_pred, y_true)\n",
    "\n",
    "    # find all variables created for this metric\n",
    "    metric_vars = [i for i in tf.local_variables() if 'auc_roc' in i.name.split('/')[1]]\n",
    "\n",
    "    # Add metric variables to GLOBAL_VARIABLES collection.\n",
    "    # They will be initialized for new session.\n",
    "    for v in metric_vars:\n",
    "        tf.add_to_collection(tf.GraphKeys.GLOBAL_VARIABLES, v)\n",
    "\n",
    "    # force to update metric values\n",
    "    with tf.control_dependencies([update_op]):\n",
    "        value = tf.identity(value)\n",
    "        return value\n",
    "\n",
    "def precision(y_true, y_pred):\n",
    "    \"\"\"Precision metric.\n",
    "\n",
    "    Only computes a batch-wise average of precision.\n",
    "\n",
    "    Computes the precision, a metric for multi-label classification of\n",
    "    how many selected items are relevant.\n",
    "    \"\"\"\n",
    "    true_positives = K.sum(K.round(K.clip(y_true * y_pred, 0, 1)))\n",
    "    predicted_positives = K.sum(K.round(K.clip(y_pred, 0, 1)))\n",
    "    precision = true_positives / (predicted_positives + K.epsilon())\n",
    "    return precision\n",
    "\n",
    "\n",
    "def recall(y_true, y_pred):\n",
    "    \"\"\"Recall metric.\n",
    "\n",
    "    Only computes a batch-wise average of recall.\n",
    "\n",
    "    Computes the recall, a metric for multi-label classification of\n",
    "    how many relevant items are selected.\n",
    "    \"\"\"\n",
    "    true_positives = K.sum(K.round(K.clip(y_true * y_pred, 0, 1)))\n",
    "    possible_positives = K.sum(K.round(K.clip(y_true, 0, 1)))\n",
    "    recall = true_positives / (possible_positives + K.epsilon())\n",
    "    return recall"
   ]
  },
  {
   "cell_type": "code",
   "execution_count": 47,
   "metadata": {},
   "outputs": [],
   "source": [
    "# Reference to use F1-score later - https://stackoverflow.com/questions/45411902/how-to-use-f1-score-with-keras-model"
   ]
  },
  {
   "cell_type": "code",
   "execution_count": 50,
   "metadata": {
    "scrolled": false
   },
   "outputs": [
    {
     "name": "stdout",
     "output_type": "stream",
     "text": [
      "_________________________________________________________________\n",
      "Layer (type)                 Output Shape              Param #   \n",
      "=================================================================\n",
      "lstm_7 (LSTM)                (None, 40, 50)            15000     \n",
      "_________________________________________________________________\n",
      "lstm_8 (LSTM)                (None, 200)               200800    \n",
      "_________________________________________________________________\n",
      "dense_3 (Dense)              (None, 1)                 201       \n",
      "=================================================================\n",
      "Total params: 216,001\n",
      "Trainable params: 216,001\n",
      "Non-trainable params: 0\n",
      "_________________________________________________________________\n",
      "None\n",
      "Train on 171075 samples, validate on 19009 samples\n",
      "Epoch 1/20\n",
      "171075/171075 [==============================] - 328s 2ms/step - loss: 0.6932 - acc: 0.4993 - recall: 0.4328 - precision: 0.4897 - auc_roc: 0.4983 - val_loss: 0.6932 - val_acc: 0.4970 - val_recall: 0.8400 - val_precision: 0.4975 - val_auc_roc: 0.4985\n",
      "Epoch 2/20\n",
      "171075/171075 [==============================] - 345s 2ms/step - loss: 0.6932 - acc: 0.4984 - recall: 0.4894 - precision: 0.4997 - auc_roc: 0.4993 - val_loss: 0.6931 - val_acc: 0.5007 - val_recall: 0.6014 - val_precision: 0.4997 - val_auc_roc: 0.4993\n",
      "Epoch 3/20\n",
      "171075/171075 [==============================] - 355s 2ms/step - loss: 0.6932 - acc: 0.5011 - recall: 0.5288 - precision: 0.5029 - auc_roc: 0.4999 - val_loss: 0.6931 - val_acc: 0.5014 - val_recall: 0.1145 - val_precision: 0.4984 - val_auc_roc: 0.4998\n",
      "Epoch 4/20\n",
      "171075/171075 [==============================] - 362s 2ms/step - loss: 0.6859 - acc: 0.5471 - recall: 0.4925 - precision: 0.5865 - auc_roc: 0.5109 - val_loss: 0.6899 - val_acc: 0.5465 - val_recall: 0.5373 - val_precision: 0.5463 - val_auc_roc: 0.5205\n",
      "Epoch 5/20\n",
      "171075/171075 [==============================] - 378s 2ms/step - loss: 0.6877 - acc: 0.5391 - recall: 0.3812 - precision: 0.6312 - auc_roc: 0.5269 - val_loss: 0.6860 - val_acc: 0.5688 - val_recall: 0.7444 - val_precision: 0.5503 - val_auc_roc: 0.5300\n",
      "Epoch 6/20\n",
      "171075/171075 [==============================] - 340s 2ms/step - loss: 0.6669 - acc: 0.5908 - recall: 0.5345 - precision: 0.6284 - auc_roc: 0.5378 - val_loss: 0.6971 - val_acc: 0.5920 - val_recall: 0.6193 - val_precision: 0.5867 - val_auc_roc: 0.5502\n",
      "Epoch 7/20\n",
      "171075/171075 [==============================] - 322s 2ms/step - loss: 0.6346 - acc: 0.6430 - recall: 0.5784 - precision: 0.6828 - auc_roc: 0.5633 - val_loss: 0.6130 - val_acc: 0.6680 - val_recall: 0.7371 - val_precision: 0.6466 - val_auc_roc: 0.5768\n",
      "Epoch 8/20\n",
      "171075/171075 [==============================] - 324s 2ms/step - loss: 0.6071 - acc: 0.6735 - recall: 0.6248 - precision: 0.7020 - auc_roc: 0.5902 - val_loss: 0.6490 - val_acc: 0.6194 - val_recall: 0.6397 - val_precision: 0.6137 - val_auc_roc: 0.6019\n",
      "Epoch 9/20\n",
      "171075/171075 [==============================] - 326s 2ms/step - loss: 0.5933 - acc: 0.6823 - recall: 0.6250 - precision: 0.7182 - auc_roc: 0.6114 - val_loss: 0.5786 - val_acc: 0.6985 - val_recall: 0.5642 - val_precision: 0.7708 - val_auc_roc: 0.6221\n",
      "Epoch 10/20\n",
      "171075/171075 [==============================] - 328s 2ms/step - loss: 0.5754 - acc: 0.7019 - recall: 0.6576 - precision: 0.7327 - auc_roc: 0.6319 - val_loss: 0.5771 - val_acc: 0.6945 - val_recall: 0.5174 - val_precision: 0.7999 - val_auc_roc: 0.6411\n",
      "Epoch 11/20\n",
      "171075/171075 [==============================] - 329s 2ms/step - loss: 0.5635 - acc: 0.7132 - recall: 0.6714 - precision: 0.7428 - auc_roc: 0.6494 - val_loss: 0.5518 - val_acc: 0.7229 - val_recall: 0.6071 - val_precision: 0.7890 - val_auc_roc: 0.6575\n",
      "Epoch 12/20\n",
      "171075/171075 [==============================] - 331s 2ms/step - loss: 0.5527 - acc: 0.7227 - recall: 0.6810 - precision: 0.7526 - auc_roc: 0.6648 - val_loss: 0.5389 - val_acc: 0.7366 - val_recall: 0.6648 - val_precision: 0.7755 - val_auc_roc: 0.6721\n",
      "Epoch 13/20\n",
      "171075/171075 [==============================] - 334s 2ms/step - loss: 0.5382 - acc: 0.7353 - recall: 0.6994 - precision: 0.7601 - auc_roc: 0.6789 - val_loss: 0.5819 - val_acc: 0.6949 - val_recall: 0.8962 - val_precision: 0.6381 - val_auc_roc: 0.6852\n",
      "Epoch 14/20\n",
      "171075/171075 [==============================] - 334s 2ms/step - loss: 0.5240 - acc: 0.7485 - recall: 0.7180 - precision: 0.7714 - auc_roc: 0.6912 - val_loss: 0.5032 - val_acc: 0.7673 - val_recall: 0.7400 - val_precision: 0.7821 - val_auc_roc: 0.6976\n",
      "Epoch 15/20\n",
      "171075/171075 [==============================] - 336s 2ms/step - loss: 0.5013 - acc: 0.7668 - recall: 0.7434 - precision: 0.7847 - auc_roc: 0.7038 - val_loss: 0.4825 - val_acc: 0.7807 - val_recall: 0.7159 - val_precision: 0.8221 - val_auc_roc: 0.7100\n",
      "Epoch 16/20\n",
      "171075/171075 [==============================] - 337s 2ms/step - loss: 0.4695 - acc: 0.7856 - recall: 0.7723 - precision: 0.7994 - auc_roc: 0.7161 - val_loss: 0.4413 - val_acc: 0.8028 - val_recall: 0.7492 - val_precision: 0.8381 - val_auc_roc: 0.7224\n",
      "Epoch 17/20\n",
      "171075/171075 [==============================] - 340s 2ms/step - loss: 0.4379 - acc: 0.8023 - recall: 0.7945 - precision: 0.8122 - auc_roc: 0.7287 - val_loss: 0.4092 - val_acc: 0.8200 - val_recall: 0.8393 - val_precision: 0.8069 - val_auc_roc: 0.7348\n",
      "Epoch 18/20\n",
      "171075/171075 [==============================] - 343s 2ms/step - loss: 0.4132 - acc: 0.8147 - recall: 0.8040 - precision: 0.8257 - auc_roc: 0.7408 - val_loss: 0.4283 - val_acc: 0.8043 - val_recall: 0.9042 - val_precision: 0.7525 - val_auc_roc: 0.7466\n",
      "Epoch 19/20\n",
      "171075/171075 [==============================] - 342s 2ms/step - loss: 0.3937 - acc: 0.8248 - recall: 0.8136 - precision: 0.8363 - auc_roc: 0.7521 - val_loss: 0.3700 - val_acc: 0.8414 - val_recall: 0.8153 - val_precision: 0.8588 - val_auc_roc: 0.7576\n",
      "Epoch 20/20\n",
      "171075/171075 [==============================] - 344s 2ms/step - loss: 0.3783 - acc: 0.8326 - recall: 0.8206 - precision: 0.8451 - auc_roc: 0.7629 - val_loss: 0.3616 - val_acc: 0.8435 - val_recall: 0.8402 - val_precision: 0.8444 - val_auc_roc: 0.7681\n",
      "Total time to run model 6779.958580255508\n"
     ]
    }
   ],
   "source": [
    "t0 = time()    \n",
    "\n",
    "# define Keras features\n",
    "numb_features = X_tr_ls.shape[2]\n",
    "numb_out = 1\n",
    "window_size = 40\n",
    "\n",
    "model = Sequential()\n",
    "\n",
    "model.add(LSTM(\n",
    "         input_shape=(window_size, numb_features),\n",
    "         units=50,\n",
    "         return_sequences=True))\n",
    "# model.add(Dropout(0.2))\n",
    "\n",
    "model.add(LSTM(\n",
    "          units=200,\n",
    "          return_sequences=False))\n",
    "# model.add(Dropout(0.2))\n",
    "\n",
    "model.add(Dense(units=1, activation='sigmoid'))\n",
    "# model.add(Dense(units=1, activation='sigmoid'))\n",
    "adam = keras.optimizers.Adam(lr=1e-4)\n",
    "model.compile(loss='binary_crossentropy', optimizer=adam, metrics=['accuracy',recall,precision,auc_roc])\n",
    "\n",
    "print(model.summary())\n",
    "\n",
    "# fit the network\n",
    "X_tr_val = np.concatenate((X_tr_ls,X_val_ls), axis = 0)\n",
    "y_tr_val = np.concatenate((y_tr_ls,y_val_ls), axis = 0)\n",
    "\n",
    "model.fit(X_tr_val, y_tr_val.reshape(-1,1), epochs=20, batch_size=256, verbose=1, validation_split = 0.1,\n",
    "          callbacks = [keras.callbacks.EarlyStopping(monitor='val_acc', min_delta=0, patience=2, verbose=0, mode='auto')]\n",
    "          )\n",
    "\n",
    "print(\"Total time to run model\", (time() - t0))"
   ]
  },
  {
   "cell_type": "code",
   "execution_count": 51,
   "metadata": {},
   "outputs": [],
   "source": [
    "y_pred = model.predict_classes(X_test_ls)"
   ]
  },
  {
   "cell_type": "code",
   "execution_count": 52,
   "metadata": {},
   "outputs": [
    {
     "name": "stdout",
     "output_type": "stream",
     "text": [
      "Test classifcation report\n",
      "             precision    recall  f1-score   support\n",
      "\n",
      "          0       0.96      0.86      0.91     23766\n",
      "          1       0.55      0.81      0.66      5034\n",
      "\n",
      "avg / total       0.89      0.85      0.86     28800\n",
      "\n"
     ]
    }
   ],
   "source": [
    "print('Test classifcation report')\n",
    "print(classification_report(y_test_ls,y_pred.ravel()))"
   ]
  },
  {
   "cell_type": "code",
   "execution_count": 53,
   "metadata": {},
   "outputs": [
    {
     "name": "stdout",
     "output_type": "stream",
     "text": [
      "Saved model to disk\n"
     ]
    }
   ],
   "source": [
    "from keras.models import model_from_json\n",
    "# serialize model to JSON\n",
    "model_json = model.to_json()\n",
    "with open(\"../models/model_Task1_LSTM.json\", \"w\") as json_file:\n",
    "    json_file.write(model_json)\n",
    "# serialize weights to HDF5\n",
    "model.save_weights(\"../models/model_Task1_LSTM.h5\")\n",
    "print(\"Saved model to disk\")"
   ]
  },
  {
   "cell_type": "code",
   "execution_count": null,
   "metadata": {},
   "outputs": [],
   "source": [
    "# # load json and create model\n",
    "# json_file = open('model.json', 'r')\n",
    "# loaded_model_json = json_file.read()\n",
    "# json_file.close()\n",
    "# loaded_model = model_from_json(loaded_model_json)\n",
    "# # load weights into new model\n",
    "# loaded_model.load_weights(\"model.h5\")\n",
    "# print(\"Loaded model from disk\")"
   ]
  },
  {
   "cell_type": "markdown",
   "metadata": {},
   "source": [
    "## Trying Linear models, trees..."
   ]
  },
  {
   "cell_type": "markdown",
   "metadata": {},
   "source": [
    "For `status_within_40` try Basic linear models/trees\n",
    "\n",
    "Try balancing dataset using undersampling,oversampling and both. Then try fitting the models again"
   ]
  },
  {
   "cell_type": "code",
   "execution_count": 54,
   "metadata": {},
   "outputs": [
    {
     "name": "stdout",
     "output_type": "stream",
     "text": [
      "(152132, 29)\n",
      "(38034, 29)\n",
      "(28841, 29)\n"
     ]
    }
   ],
   "source": [
    "print(X_train.shape)\n",
    "print(X_valid.shape)\n",
    "print(X_test.shape)"
   ]
  },
  {
   "cell_type": "code",
   "execution_count": 59,
   "metadata": {
    "collapsed": true
   },
   "outputs": [],
   "source": [
    "X_tr = X_train.loc[:,feature_names]\n",
    "X_val = X_valid.loc[:,feature_names]\n",
    "X_te = X_test.loc[:,feature_names]\n",
    "y_tr = np.array(y_train.iloc[:,0])\n",
    "y_val = np.array(y_valid.iloc[:,0])\n",
    "y_te = np.array(y_test.iloc[:,0])"
   ]
  },
  {
   "cell_type": "code",
   "execution_count": 60,
   "metadata": {
    "collapsed": true
   },
   "outputs": [],
   "source": [
    "names = [\"Nearest Neighbors\", \"Linear SVC\", \"Decision Tree\", \n",
    "         \"Random Forest\", \"Neural Net\", \"AdaBoost\",\n",
    "         \"Naive Bayes\", \"XG Boost\"]"
   ]
  },
  {
   "cell_type": "code",
   "execution_count": 65,
   "metadata": {
    "collapsed": true
   },
   "outputs": [],
   "source": [
    "classifiers = [\n",
    "    KNeighborsClassifier(n_neighbors= 3,n_jobs= -1),\n",
    "    LinearSVC(C=0.02, class_weight='balanced'),\n",
    "    DecisionTreeClassifier(max_depth=7, class_weight='balanced'),\n",
    "    RandomForestClassifier(max_depth=10, n_estimators=20, class_weight='balanced'),\n",
    "    MLPClassifier(hidden_layer_sizes = (50,100),activation = 'logistic', alpha=0.01),\n",
    "    AdaBoostClassifier(algorithm=\"SAMME\"),\n",
    "    GaussianNB(),\n",
    "    XGBClassifier(max_depth=7,\n",
    "                  sub_sample = 0.9, \n",
    "                  gamma=2.5,\n",
    "                  eval_metric = \"auc\",\n",
    "                  objective = \"binary:logitraw\",\n",
    "                  nthread = 4)]"
   ]
  },
  {
   "cell_type": "code",
   "execution_count": 66,
   "metadata": {
    "scrolled": true
   },
   "outputs": [
    {
     "name": "stdout",
     "output_type": "stream",
     "text": [
      "Fitting data for Nearest Neighbors model...\n",
      "Prediciting results for Nearest Neighbors model...\n",
      "Validation results\n",
      "             precision    recall  f1-score   support\n",
      "\n",
      "    Running       0.95      0.92      0.94     18946\n",
      "    Failure       0.93      0.95      0.94     19088\n",
      "\n",
      "avg / total       0.94      0.94      0.94     38034\n",
      "\n",
      "Test result\n",
      "             precision    recall  f1-score   support\n",
      "\n",
      "    Running       0.95      0.93      0.94     23800\n",
      "    Failure       0.70      0.79      0.74      5041\n",
      "\n",
      "avg / total       0.91      0.91      0.91     28841\n",
      "\n",
      "Fitting data for Linear SVC model...\n",
      "Prediciting results for Linear SVC model...\n",
      "Validation results\n",
      "             precision    recall  f1-score   support\n",
      "\n",
      "    Running       0.75      0.78      0.76     18946\n",
      "    Failure       0.77      0.74      0.76     19088\n",
      "\n",
      "avg / total       0.76      0.76      0.76     38034\n",
      "\n",
      "Test result\n",
      "             precision    recall  f1-score   support\n",
      "\n",
      "    Running       0.93      0.78      0.85     23800\n",
      "    Failure       0.41      0.72      0.52      5041\n",
      "\n",
      "avg / total       0.84      0.77      0.79     28841\n",
      "\n",
      "Fitting data for Decision Tree model...\n",
      "Prediciting results for Decision Tree model...\n",
      "Validation results\n",
      "             precision    recall  f1-score   support\n",
      "\n",
      "    Running       0.91      0.90      0.91     18946\n",
      "    Failure       0.90      0.91      0.91     19088\n",
      "\n",
      "avg / total       0.91      0.91      0.91     38034\n",
      "\n",
      "Test result\n",
      "             precision    recall  f1-score   support\n",
      "\n",
      "    Running       0.97      0.90      0.94     23800\n",
      "    Failure       0.66      0.88      0.76      5041\n",
      "\n",
      "avg / total       0.92      0.90      0.91     28841\n",
      "\n",
      "Fitting data for Random Forest model...\n",
      "Prediciting results for Random Forest model...\n",
      "Validation results\n",
      "             precision    recall  f1-score   support\n",
      "\n",
      "    Running       0.95      0.93      0.94     18946\n",
      "    Failure       0.93      0.95      0.94     19088\n",
      "\n",
      "avg / total       0.94      0.94      0.94     38034\n",
      "\n",
      "Test result\n",
      "             precision    recall  f1-score   support\n",
      "\n",
      "    Running       0.98      0.93      0.96     23800\n",
      "    Failure       0.75      0.91      0.82      5041\n",
      "\n",
      "avg / total       0.94      0.93      0.93     28841\n",
      "\n",
      "Fitting data for Neural Net model...\n",
      "Prediciting results for Neural Net model...\n",
      "Validation results\n",
      "             precision    recall  f1-score   support\n",
      "\n",
      "    Running       0.93      0.90      0.92     18946\n",
      "    Failure       0.90      0.94      0.92     19088\n",
      "\n",
      "avg / total       0.92      0.92      0.92     38034\n",
      "\n",
      "Test result\n",
      "             precision    recall  f1-score   support\n",
      "\n",
      "    Running       0.98      0.90      0.94     23800\n",
      "    Failure       0.66      0.90      0.76      5041\n",
      "\n",
      "avg / total       0.92      0.90      0.91     28841\n",
      "\n",
      "Fitting data for AdaBoost model...\n",
      "Prediciting results for AdaBoost model...\n",
      "Validation results\n",
      "             precision    recall  f1-score   support\n",
      "\n",
      "    Running       0.88      0.91      0.90     18946\n",
      "    Failure       0.91      0.88      0.89     19088\n",
      "\n",
      "avg / total       0.90      0.90      0.90     38034\n",
      "\n",
      "Test result\n",
      "             precision    recall  f1-score   support\n",
      "\n",
      "    Running       0.97      0.91      0.94     23800\n",
      "    Failure       0.67      0.85      0.75      5041\n",
      "\n",
      "avg / total       0.92      0.90      0.91     28841\n",
      "\n",
      "Fitting data for Naive Bayes model...\n",
      "Prediciting results for Naive Bayes model...\n",
      "Validation results\n",
      "             precision    recall  f1-score   support\n",
      "\n",
      "    Running       0.54      0.48      0.51     18946\n",
      "    Failure       0.54      0.60      0.57     19088\n",
      "\n",
      "avg / total       0.54      0.54      0.54     38034\n",
      "\n",
      "Test result\n",
      "             precision    recall  f1-score   support\n",
      "\n",
      "    Running       0.85      0.48      0.62     23800\n",
      "    Failure       0.20      0.59      0.29      5041\n",
      "\n",
      "avg / total       0.73      0.50      0.56     28841\n",
      "\n",
      "Fitting data for XG Boost model...\n",
      "Prediciting results for XG Boost model...\n",
      "Validation results\n",
      "             precision    recall  f1-score   support\n",
      "\n",
      "    Running       1.00      0.80      0.89     18946\n",
      "    Failure       0.83      1.00      0.91     19088\n",
      "\n",
      "avg / total       0.91      0.90      0.90     38034\n",
      "\n",
      "Test result\n",
      "             precision    recall  f1-score   support\n",
      "\n",
      "    Running       1.00      0.80      0.89     23800\n",
      "    Failure       0.51      0.98      0.67      5041\n",
      "\n",
      "avg / total       0.91      0.83      0.85     28841\n",
      "\n"
     ]
    }
   ],
   "source": [
    "import warnings\n",
    "warnings.filterwarnings('ignore')\n",
    "for name, clf in zip(names, classifiers):\n",
    "    print('Fitting data for {0} model...'.format(name))\n",
    "    clf.fit(X_tr, y_train)\n",
    "    print('Prediciting results for {0} model...'.format(name))\n",
    "    y_pred_val = clf.predict(X_val)\n",
    "    y_pred_test = clf.predict(X_te)\n",
    "    target_names = ['Running', 'Failure']\n",
    "    display(Markdown('**Validation results**'))\n",
    "    print(classification_report(y_valid, y_pred_val, target_names=target_names))\n",
    "    display(Markdown('**Validation results**'))\n",
    "    print(classification_report(y_te, y_pred_test, target_names=target_names))"
   ]
  },
  {
   "cell_type": "markdown",
   "metadata": {},
   "source": [
    "### Findings\n",
    "\n",
    "- All the models seem to perform poorly while predicting the failure class (low F1-score). I'm confident that this has to do with the imbalanced dataset. Try proceeding with Random forest after balancing the classes. Linear SVM and Random forest with `class_weights` parameter seems to yield a **high Recall**, at the cost of precision. This is better than the other models\n",
    "- Random forest without balancing classes yields an average F1-score of `.45`"
   ]
  },
  {
   "cell_type": "code",
   "execution_count": 90,
   "metadata": {},
   "outputs": [
    {
     "name": "stdout",
     "output_type": "stream",
     "text": [
      "Fitting...\n",
      "iter 1\n",
      "Fitting...\n",
      "iter 2\n",
      "Fitting...\n",
      "iter 3\n",
      "Fitting...\n",
      "iter 4\n",
      "Fitting...\n",
      "iter 5\n",
      "Fitting...\n",
      "iter 6\n"
     ]
    }
   ],
   "source": [
    "val_scores=[]\n",
    "for trees in range(5,35,5):\n",
    "    print(\"Fitting...\")\n",
    "    print(\"iter\", trees//5)\n",
    "    clf = RandomForestClassifier(max_depth=15, \n",
    "                                 n_estimators= trees,\n",
    "                                 class_weight='balanced')\n",
    "    validated = cross_val_score(clf, \n",
    "                                X_train_valid.loc[:,feature_names],\n",
    "                                y_train_valid_40, \n",
    "                                cv = 10, \n",
    "                                scoring = 'f1')\n",
    "    val_scores.append(validated)"
   ]
  },
  {
   "cell_type": "code",
   "execution_count": 91,
   "metadata": {
    "collapsed": true
   },
   "outputs": [],
   "source": [
    "val_scores = pd.DataFrame(val_scores, index= [i for i in range(5,35,5)] )"
   ]
  },
  {
   "cell_type": "code",
   "execution_count": 92,
   "metadata": {},
   "outputs": [
    {
     "data": {
      "image/png": "[encoded data removed]",
      "text/plain": [
       "<matplotlib.figure.Figure at 0x7fd1cb1a0a58>"
      ]
     },
     "metadata": {},
     "output_type": "display_data"
    }
   ],
   "source": [
    "ax = sns.boxplot(data = val_scores.T)\n",
    "ax.set(xlabel='Trees', ylabel='F1-score')\n",
    "plt.title('Variation of F1-score with number of trees')\n",
    "plt.show()"
   ]
  },
  {
   "cell_type": "code",
   "execution_count": 93,
   "metadata": {},
   "outputs": [
    {
     "data": {
      "text/plain": [
       "RandomForestClassifier(bootstrap=True, class_weight='balanced',\n",
       "            criterion='gini', max_depth=15, max_features='auto',\n",
       "            max_leaf_nodes=None, min_impurity_decrease=0.0,\n",
       "            min_impurity_split=None, min_samples_leaf=1,\n",
       "            min_samples_split=2, min_weight_fraction_leaf=0.0,\n",
       "            n_estimators=30, n_jobs=1, oob_score=False, random_state=None,\n",
       "            verbose=0, warm_start=False)"
      ]
     },
     "execution_count": 93,
     "metadata": {},
     "output_type": "execute_result"
    }
   ],
   "source": [
    "clf.fit(X_tr, y_train_40)"
   ]
  },
  {
   "cell_type": "code",
   "execution_count": 94,
   "metadata": {},
   "outputs": [
    {
     "data": {
      "text/plain": [
       "['../models/task1_random_forest.pkl']"
      ]
     },
     "execution_count": 94,
     "metadata": {},
     "output_type": "execute_result"
    }
   ],
   "source": [
    "from sklearn.externals import joblib\n",
    "joblib.dump(clf, '../models/task1_random_forest.pkl') "
   ]
  },
  {
   "cell_type": "code",
   "execution_count": 571,
   "metadata": {},
   "outputs": [],
   "source": [
    "# clf = joblib.load('../models/task2_model.pkl') "
   ]
  },
  {
   "cell_type": "markdown",
   "metadata": {},
   "source": [
    "### Using a balanced dataset"
   ]
  },
  {
   "cell_type": "code",
   "execution_count": 68,
   "metadata": {
    "collapsed": true
   },
   "outputs": [],
   "source": [
    "# source: http://contrib.scikit-learn.org/imbalanced-learn/stable/auto_examples/evaluation/plot_classification_report.html#sphx-glr-auto-examples-evaluation-plot-classification-report-py"
   ]
  },
  {
   "cell_type": "code",
   "execution_count": 73,
   "metadata": {
    "collapsed": true
   },
   "outputs": [],
   "source": [
    "from imblearn import over_sampling as os\n",
    "from imblearn.under_sampling import (ClusterCentroids, RandomUnderSampler,\n",
    "                                     NearMiss,\n",
    "                                     InstanceHardnessThreshold,\n",
    "                                     CondensedNearestNeighbour,\n",
    "                                     EditedNearestNeighbours,\n",
    "                                     RepeatedEditedNearestNeighbours,\n",
    "                                     AllKNN,\n",
    "                                     NeighbourhoodCleaningRule,\n",
    "                                     OneSidedSelection)\n",
    "from imblearn import pipeline as pl\n",
    "from imblearn.metrics import classification_report_imbalanced"
   ]
  },
  {
   "cell_type": "code",
   "execution_count": 74,
   "metadata": {
    "collapsed": true
   },
   "outputs": [
    {
     "name": "stdout",
     "output_type": "stream",
     "text": [
      "Using <class 'imblearn.under_sampling.prototype_selection.random_under_sampler.RandomUnderSampler'>\n",
      "Predicting for RandomUnderSampler(random_state=1234, ratio='auto', replacement=False,\n",
      "          return_indices=False)\n",
      "                   pre       rec       spe        f1       geo       iba       sup\n",
      "\n",
      "          0       0.93      0.74      0.75      0.82      0.74      0.55     19014\n",
      "          1       0.38      0.75      0.74      0.50      0.74      0.56      4059\n",
      "\n",
      "avg / total       0.84      0.74      0.75      0.77      0.74      0.55     23073\n",
      "\n",
      "Time elapsed: 12.66941237449646\n",
      "Using <class 'imblearn.under_sampling.prototype_selection.nearmiss.NearMiss'>\n",
      "Predicting for NearMiss(n_jobs=1, n_neighbors=3, n_neighbors_ver3=3, random_state=1234,\n",
      "     ratio='auto', return_indices=False, size_ngh=None, ver3_samp_ngh=None,\n",
      "     version=1)\n",
      "                   pre       rec       spe        f1       geo       iba       sup\n",
      "\n",
      "          0       0.93      0.80      0.70      0.86      0.75      0.57     19014\n",
      "          1       0.43      0.70      0.80      0.53      0.75      0.56      4059\n",
      "\n",
      "avg / total       0.84      0.78      0.72      0.80      0.75      0.57     23073\n",
      "\n",
      "Time elapsed: 19.339608907699585\n",
      "Using <class 'imblearn.under_sampling.prototype_selection.instance_hardness_threshold.InstanceHardnessThreshold'>\n",
      "Predicting for InstanceHardnessThreshold(cv=5, estimator=None, n_jobs=1, random_state=1234,\n",
      "             ratio='auto', return_indices=False)\n",
      "                   pre       rec       spe        f1       geo       iba       sup\n",
      "\n",
      "          0       0.83      0.96      0.08      0.89      0.28      0.08     19014\n",
      "          1       0.30      0.08      0.96      0.13      0.28      0.07      4059\n",
      "\n",
      "avg / total       0.74      0.80      0.23      0.76      0.28      0.08     23073\n",
      "\n",
      "Time elapsed: 16.915623664855957\n",
      "Using <class 'imblearn.under_sampling.prototype_selection.edited_nearest_neighbours.EditedNearestNeighbours'>\n",
      "Predicting for EditedNearestNeighbours(kind_sel='all', n_jobs=1, n_neighbors=3,\n",
      "            random_state=1234, ratio='auto', return_indices=False,\n",
      "            size_ngh=None)\n",
      "                   pre       rec       spe        f1       geo       iba       sup\n",
      "\n",
      "          0       0.83      0.98      0.04      0.90      0.21      0.05     19014\n",
      "          1       0.30      0.04      0.98      0.08      0.21      0.04      4059\n",
      "\n",
      "avg / total       0.74      0.81      0.21      0.75      0.21      0.05     23073\n",
      "\n",
      "Time elapsed: 39.52453875541687\n",
      "Using <class 'imblearn.under_sampling.prototype_selection.one_sided_selection.OneSidedSelection'>\n",
      "Predicting for OneSidedSelection(n_jobs=1, n_neighbors=None, n_seeds_S=1, random_state=1234,\n",
      "         ratio='auto', return_indices=False, size_ngh=None)\n",
      "                   pre       rec       spe        f1       geo       iba       sup\n",
      "\n",
      "          0       0.83      0.99      0.03      0.90      0.18      0.03     19014\n",
      "          1       0.33      0.03      0.99      0.06      0.18      0.03      4059\n",
      "\n",
      "avg / total       0.74      0.82      0.20      0.75      0.18      0.03     23073\n",
      "\n",
      "Time elapsed: 39.508734464645386\n",
      "Completed evaluation\n"
     ]
    }
   ],
   "source": [
    "RANDOM_STATE = 1234\n",
    "from time import time\n",
    "samplers = [RandomUnderSampler,\n",
    "             NearMiss,\n",
    "             InstanceHardnessThreshold,\n",
    "             EditedNearestNeighbours,\n",
    "             OneSidedSelection]\n",
    "\n",
    "for sampler in samplers:\n",
    "    t0 = time()\n",
    "    print(\"Using \" + str(sampler))\n",
    "    sampler = sampler(random_state= RANDOM_STATE)\n",
    "    clf = pl.make_pipeline(sampler, \n",
    "                           LogisticRegression(random_state=RANDOM_STATE))\n",
    "    clf.fit(X_tr, y_tr)\n",
    "    \n",
    "    print(\"Predicting for \" + str(sampler))\n",
    "    # Test the classifier and get the prediction\n",
    "    y_pred_val = clf.predict(X_val)\n",
    "\n",
    "    # Show the classification report\n",
    "    print(classification_report_imbalanced(y_val, y_pred_val))\n",
    "    print(\"Time elapsed:\", (time() - t0))\n",
    "\n",
    "print(\"Completed evaluation\")"
   ]
  },
  {
   "cell_type": "markdown",
   "metadata": {},
   "source": [
    "**Achieved highest recall and F1-score using Random under sampling** "
   ]
  },
  {
   "cell_type": "code",
   "execution_count": 75,
   "metadata": {
    "collapsed": true
   },
   "outputs": [
    {
     "name": "stdout",
     "output_type": "stream",
     "text": [
      "Using OneSidedSelection(n_jobs=1, n_neighbors=None, n_seeds_S=1, random_state=1234,\n",
      "         ratio='auto', return_indices=False, size_ngh=None)\n",
      "Predicting for SMOTE(k=None, k_neighbors=5, kind='regular', m=None, m_neighbors=10, n_jobs=1,\n",
      "   out_step=0.5, random_state=1234, ratio='auto', svm_estimator=None)\n",
      "                   pre       rec       spe        f1       geo       iba       sup\n",
      "\n",
      "          0       0.93      0.75      0.75      0.83      0.75      0.57     19014\n",
      "          1       0.39      0.75      0.75      0.52      0.75      0.57      4059\n",
      "\n",
      "avg / total       0.84      0.75      0.75      0.78      0.75      0.57     23073\n",
      "\n",
      "Time elapsed: 42.43821954727173\n"
     ]
    }
   ],
   "source": [
    "RANDOM_STATE = 1234\n",
    "t0 = time()\n",
    "print(\"Using \" + str(sampler))\n",
    "sampler =os.SMOTE(random_state=RANDOM_STATE)\n",
    "clf = pl.make_pipeline(sampler, \n",
    "                       LogisticRegression(random_state=RANDOM_STATE))\n",
    "clf.fit(X_tr, y_tr)\n",
    "\n",
    "print(\"Predicting for \" + str(sampler))\n",
    "# Test the classifier and get the prediction\n",
    "y_pred_bal =clf.predict(X_val)\n",
    "\n",
    "# Show the classification report\n",
    "print(classification_report_imbalanced(y_val, y_pred_bal))\n",
    "print(\"Time elapsed:\", (time() - t0))"
   ]
  },
  {
   "cell_type": "markdown",
   "metadata": {},
   "source": [
    "**Achieved a recall of 0.85 and f-1 score of 0.4 on the validation set using Over-sampling**"
   ]
  },
  {
   "cell_type": "markdown",
   "metadata": {},
   "source": [
    "## Multi-label problem approach"
   ]
  },
  {
   "cell_type": "code",
   "execution_count": 96,
   "metadata": {
    "collapsed": true
   },
   "outputs": [],
   "source": [
    "def make_y_series(data, groupby_col, target_col, window_size):\n",
    "    \"\"\"\n",
    "    This function creates a 40 window time sequence of labels (status). Pads with 0s if length < window_size\n",
    "    \n",
    "    Args:\n",
    "        data: input dataset\n",
    "        groupby_col: Column to group by labels\n",
    "        target_col: Label column\n",
    "        window_size: Size of time series window\n",
    "    \n",
    "    Output:\n",
    "        Y: numpy 2d matrix\n",
    "            Matrix consisting of time series labels for each observation\n",
    "    \n",
    "    \"\"\"\n",
    "    Y = []\n",
    "    \n",
    "    # loop through each turbine data and append next 40 values\n",
    "    for unit, value in data[[groupby_col,target_col]].groupby(groupby_col):\n",
    "        data = value.status.values.tolist()\n",
    "        \n",
    "        for i in range(len(data)):\n",
    "            Y_blocks = data[i: i + window_size]\n",
    "\n",
    "            if len(Y_blocks) < window_size: # if the next 40 values aren't present, pad with 0s. Check if this approach is the best?\n",
    "                Y_blocks[len(Y_blocks):(window_size - 1)] = [0] * (window_size - len(Y_blocks))\n",
    "            Y.append(Y_blocks)\n",
    "\n",
    "    return np.array(Y)"
   ]
  },
  {
   "cell_type": "code",
   "execution_count": 97,
   "metadata": {},
   "outputs": [
    {
     "data": {
      "text/plain": [
       "(42076, 40)"
      ]
     },
     "execution_count": 97,
     "metadata": {},
     "output_type": "execute_result"
    }
   ],
   "source": [
    "Y = make_y_series(pm_final, 'unit_number', 'status', 40)\n",
    "Y.shape"
   ]
  },
  {
   "cell_type": "code",
   "execution_count": 115,
   "metadata": {},
   "outputs": [],
   "source": [
    "# Make a train/test split using 20% test size\n",
    "X_train, X_test, y_train, y_test = train_test_split(\n",
    "                                                    pm_final.loc[:,scaling_features + ['operational_setting_3_High']],\n",
    "                                                    Y,\n",
    "                                                    test_size=0.20,\n",
    "                                                    random_state = RANDOM_STATE)"
   ]
  },
  {
   "cell_type": "code",
   "execution_count": 135,
   "metadata": {},
   "outputs": [],
   "source": [
    "# Binary relevenace..fitting separately on each column\n",
    "# Try other approaches"
   ]
  },
  {
   "cell_type": "code",
   "execution_count": 133,
   "metadata": {},
   "outputs": [],
   "source": [
    "from skmultilearn.problem_transform import BinaryRelevance\n",
    "\n",
    "# initialize binary relevance multi-label classifier\n",
    "# with a gaussian naive bayes base classifier\n",
    "classifier = BinaryRelevance(clf)\n",
    "\n",
    "# train\n",
    "classifier.fit(np.array(X_train), np.array(y_train))\n",
    "\n",
    "# predict\n",
    "predictions = classifier.predict(X_train)"
   ]
  },
  {
   "cell_type": "code",
   "execution_count": 134,
   "metadata": {},
   "outputs": [
    {
     "name": "stdout",
     "output_type": "stream",
     "text": [
      "             precision    recall  f1-score   support\n",
      "\n",
      "          0       0.81      0.97      0.88       154\n",
      "          1       0.61      1.00      0.75       152\n",
      "          2       0.42      0.99      0.59       157\n",
      "          3       0.38      0.98      0.55       163\n",
      "          4       0.45      0.99      0.62       158\n",
      "          5       0.41      0.97      0.58       156\n",
      "          6       0.37      0.99      0.53       160\n",
      "          7       0.42      0.96      0.59       150\n",
      "          8       0.52      0.96      0.67       162\n",
      "          9       0.48      0.94      0.64       143\n",
      "         10       0.54      0.97      0.70       155\n",
      "         11       0.48      0.98      0.65       148\n",
      "         12       0.64      0.95      0.77       163\n",
      "         13       0.58      0.94      0.72       154\n",
      "         14       0.83      0.96      0.89       160\n",
      "         15       0.83      0.99      0.90       169\n",
      "         16       0.54      0.97      0.70       166\n",
      "         17       0.61      0.95      0.74       153\n",
      "         18       0.76      0.97      0.85       152\n",
      "         19       0.76      0.93      0.84       166\n",
      "         20       0.95      0.89      0.92       157\n",
      "         21       0.57      0.93      0.70       159\n",
      "         22       0.65      0.93      0.77       159\n",
      "         23       0.54      0.93      0.68       163\n",
      "         24       0.83      0.95      0.89       149\n",
      "         25       0.54      0.90      0.67       155\n",
      "         26       0.52      0.93      0.66       164\n",
      "         27       0.59      0.89      0.71       159\n",
      "         28       0.35      0.93      0.50       163\n",
      "         29       0.78      0.94      0.85       161\n",
      "         30       0.75      0.83      0.79       152\n",
      "         31       0.48      0.94      0.63       150\n",
      "         32       0.63      0.93      0.75       149\n",
      "         33       0.73      0.92      0.81       160\n",
      "         34       0.76      0.92      0.83       169\n",
      "         35       0.51      0.92      0.66       164\n",
      "         36       0.66      0.93      0.77       154\n",
      "         37       0.89      0.85      0.87       150\n",
      "         38       0.70      0.90      0.79       159\n",
      "         39       0.76      0.92      0.83       156\n",
      "\n",
      "avg / total       0.62      0.94      0.73      6293\n",
      "\n"
     ]
    }
   ],
   "source": [
    "print(classification_report(y_train, predictions))"
   ]
  }
 ],
 "metadata": {
  "kernelspec": {
   "display_name": "Python 3",
   "language": "python",
   "name": "python3"
  },
  "language_info": {
   "codemirror_mode": {
    "name": "ipython",
    "version": 3
   },
   "file_extension": ".py",
   "mimetype": "text/x-python",
   "name": "python",
   "nbconvert_exporter": "python",
   "pygments_lexer": "ipython3",
   "version": "3.6.3"
  }
 },
 "nbformat": 4,
 "nbformat_minor": 2
}
