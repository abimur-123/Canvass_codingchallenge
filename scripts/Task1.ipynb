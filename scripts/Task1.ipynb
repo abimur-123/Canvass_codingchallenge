{
 "cells": [
  {
   "cell_type": "markdown",
   "metadata": {},
   "source": [
    "# Task 1\n",
    "\n",
    "`predictive_maintenance_dataset.csv` is a file that contains parameters and settings (`operational_setting_1`, `operational_setting_2`, `sensor_measurement_1`, `sensor_measurement_2`, etc.) for many wind turbines. There is a column called `unit_number` which specifies which turbine it is, and one called `status`, in which a value of 1 means the turbine broke down that day, and 0 means it didn't. Your task is to create a model that, when fed with operational settings and sensor measurements (`unit_number` and `time_stamp` will *not* be fed in), outputs 1 if the turbine will break down within the next 40 days, and 0 if not."
   ]
  },
  {
   "cell_type": "markdown",
   "metadata": {},
   "source": [
    "## Ideas\n"
   ]
  },
  {
   "cell_type": "markdown",
   "metadata": {},
   "source": [
    "1. **Feature engineering** -- create a column that says `possible_failure`, and mark it as 1 if there is failure within a 40 day window prior to the current observation for a turbine. This might make it easy to predict if the model might fail within 40 days.\n",
    "1. LSTM using keras\n",
    "2. Basic multi-label ensemble models using sci-kit learn  (https://arxiv.org/pdf/1609.08349.pdf) - Explore hamming distance to evaluate models and scikit learn functions (http://scikit.ml/api/classify.html#ensemble-approaches)\n",
    "2. Survival analysis - Kaplan meir estimates"
   ]
  },
  {
   "cell_type": "markdown",
   "metadata": {},
   "source": [
    "## Assumptions\n",
    "1. For few turbines there are readings beyond today's date (18th July 2018). For the interest of this analysis, I am going to assume these are valid readings\n",
    "2. Dealing with NAs in the dataset - Mean value imputation?\n",
    "2. Date range isn't continuous. **Should I assume that the unit does not fail in that period, or, should I be ignoring the gap in the range of days? (right censored data)**\n",
    "4. If the window length of 40 isn't satisfied, is padding with 0's the best approach?\n",
    "3. Dataset is imbalanced. Not certain if creating a balanced set is the best approach in this case. Might end up losing information from sensor data when I try undersampling, and oversampling will cause sensor value distribution to become skewed. Maybe trying ensemble might help (explore if you have time)"
   ]
  },
  {
   "cell_type": "markdown",
   "metadata": {},
   "source": [
    "## Yet to do\n",
    "\n",
    "1. Mean value imputation for missing values\n",
    "2. More hyperparameter optimization"
   ]
  },
  {
   "cell_type": "markdown",
   "metadata": {},
   "source": [
    "## Importing libraries and dataset"
   ]
  },
  {
   "cell_type": "code",
   "execution_count": 135,
   "metadata": {},
   "outputs": [],
   "source": [
    "import pandas as pd\n",
    "import numpy as np\n",
    "import os\n",
    "import matplotlib.pyplot as plt\n",
    "import seaborn as sns\n",
    "import math\n",
    "from time import time\n",
    "\n",
    "# scikit learn models\n",
    "from sklearn.model_selection import train_test_split\n",
    "from sklearn.tree import DecisionTreeClassifier\n",
    "from sklearn.model_selection import cross_val_score\n",
    "from sklearn.metrics import f1_score\n",
    "from sklearn.metrics import roc_auc_score\n",
    "from sklearn.preprocessing import StandardScaler\n",
    "from sklearn.neural_network import MLPClassifier\n",
    "from sklearn.linear_model import LogisticRegression\n",
    "from sklearn.neighbors import KNeighborsClassifier\n",
    "from sklearn.svm import LinearSVC\n",
    "from sklearn.gaussian_process import GaussianProcessClassifier\n",
    "from sklearn.gaussian_process.kernels import RBF\n",
    "from sklearn.tree import DecisionTreeClassifier\n",
    "from sklearn.ensemble import RandomForestClassifier, AdaBoostClassifier\n",
    "from sklearn.naive_bayes import GaussianNB\n",
    "from xgboost import XGBClassifier\n",
    "from sklearn.metrics import classification_report\n",
    "\n",
    "import imblearn.over_sampling as oversample\n",
    "\n",
    "#keras models\n",
    "import keras\n",
    "from keras.layers import *\n",
    "from keras.models import *\n",
    "from keras.optimizers import *\n",
    "%matplotlib inline"
   ]
  },
  {
   "cell_type": "code",
   "execution_count": 2,
   "metadata": {
    "collapsed": true
   },
   "outputs": [],
   "source": [
    "os.getcwd()\n",
    "# define path to save model\n",
    "model_path = 'task1_pm_model.h5'"
   ]
  },
  {
   "cell_type": "code",
   "execution_count": 3,
   "metadata": {},
   "outputs": [
    {
     "name": "stdout",
     "output_type": "stream",
     "text": [
      "(144203, 27)\n"
     ]
    },
    {
     "data": {
      "text/html": [
       "<div>\n",
       "<style>\n",
       "    .dataframe thead tr:only-child th {\n",
       "        text-align: right;\n",
       "    }\n",
       "\n",
       "    .dataframe thead th {\n",
       "        text-align: left;\n",
       "    }\n",
       "\n",
       "    .dataframe tbody tr th {\n",
       "        vertical-align: top;\n",
       "    }\n",
       "</style>\n",
       "<table border=\"1\" class=\"dataframe\">\n",
       "  <thead>\n",
       "    <tr style=\"text-align: right;\">\n",
       "      <th></th>\n",
       "      <th>unit_number</th>\n",
       "      <th>time_stamp</th>\n",
       "      <th>status</th>\n",
       "      <th>operational_setting_1</th>\n",
       "      <th>operational_setting_2</th>\n",
       "      <th>operational_setting_3</th>\n",
       "      <th>sensor_measurement_1</th>\n",
       "      <th>sensor_measurement_2</th>\n",
       "      <th>sensor_measurement_3</th>\n",
       "      <th>sensor_measurement_4</th>\n",
       "      <th>...</th>\n",
       "      <th>sensor_measurement_12</th>\n",
       "      <th>sensor_measurement_13</th>\n",
       "      <th>sensor_measurement_14</th>\n",
       "      <th>sensor_measurement_15</th>\n",
       "      <th>sensor_measurement_16</th>\n",
       "      <th>sensor_measurement_17</th>\n",
       "      <th>sensor_measurement_18</th>\n",
       "      <th>sensor_measurement_19</th>\n",
       "      <th>sensor_measurement_20</th>\n",
       "      <th>sensor_measurement_21</th>\n",
       "    </tr>\n",
       "  </thead>\n",
       "  <tbody>\n",
       "    <tr>\n",
       "      <th>0</th>\n",
       "      <td>540</td>\n",
       "      <td>2017-02-19 12:00:00</td>\n",
       "      <td>0</td>\n",
       "      <td>42.0007</td>\n",
       "      <td>0.8415</td>\n",
       "      <td>High</td>\n",
       "      <td>445.00</td>\n",
       "      <td>NaN</td>\n",
       "      <td>1362.47</td>\n",
       "      <td>1143.17</td>\n",
       "      <td>...</td>\n",
       "      <td>133.75</td>\n",
       "      <td>2388.50</td>\n",
       "      <td>8129.92</td>\n",
       "      <td>9.1182</td>\n",
       "      <td>NaN</td>\n",
       "      <td>332.0</td>\n",
       "      <td>2212.0</td>\n",
       "      <td>100.00</td>\n",
       "      <td>10.77</td>\n",
       "      <td>6.5717</td>\n",
       "    </tr>\n",
       "    <tr>\n",
       "      <th>1</th>\n",
       "      <td>396</td>\n",
       "      <td>2017-11-21 12:00:00</td>\n",
       "      <td>0</td>\n",
       "      <td>-0.0023</td>\n",
       "      <td>0.0004</td>\n",
       "      <td>High</td>\n",
       "      <td>518.67</td>\n",
       "      <td>642.33</td>\n",
       "      <td>1581.03</td>\n",
       "      <td>1400.06</td>\n",
       "      <td>...</td>\n",
       "      <td>522.19</td>\n",
       "      <td>2388.00</td>\n",
       "      <td>8135.70</td>\n",
       "      <td>8.3817</td>\n",
       "      <td>0.03</td>\n",
       "      <td>393.0</td>\n",
       "      <td>2388.0</td>\n",
       "      <td>100.00</td>\n",
       "      <td>39.07</td>\n",
       "      <td>23.3958</td>\n",
       "    </tr>\n",
       "    <tr>\n",
       "      <th>2</th>\n",
       "      <td>513</td>\n",
       "      <td>2017-02-12 12:00:00</td>\n",
       "      <td>0</td>\n",
       "      <td>NaN</td>\n",
       "      <td>0.6216</td>\n",
       "      <td>Low</td>\n",
       "      <td>462.54</td>\n",
       "      <td>536.71</td>\n",
       "      <td>1250.87</td>\n",
       "      <td>1037.52</td>\n",
       "      <td>...</td>\n",
       "      <td>163.11</td>\n",
       "      <td>2028.06</td>\n",
       "      <td>7867.90</td>\n",
       "      <td>10.8827</td>\n",
       "      <td>NaN</td>\n",
       "      <td>306.0</td>\n",
       "      <td>1915.0</td>\n",
       "      <td>84.93</td>\n",
       "      <td>14.33</td>\n",
       "      <td>8.6202</td>\n",
       "    </tr>\n",
       "    <tr>\n",
       "      <th>3</th>\n",
       "      <td>211</td>\n",
       "      <td>2014-06-05 12:00:00</td>\n",
       "      <td>0</td>\n",
       "      <td>42.0006</td>\n",
       "      <td>NaN</td>\n",
       "      <td>High</td>\n",
       "      <td>NaN</td>\n",
       "      <td>549.28</td>\n",
       "      <td>1349.42</td>\n",
       "      <td>1114.02</td>\n",
       "      <td>...</td>\n",
       "      <td>130.58</td>\n",
       "      <td>2387.71</td>\n",
       "      <td>8074.81</td>\n",
       "      <td>9.3776</td>\n",
       "      <td>0.02</td>\n",
       "      <td>NaN</td>\n",
       "      <td>2212.0</td>\n",
       "      <td>100.00</td>\n",
       "      <td>10.60</td>\n",
       "      <td>6.2614</td>\n",
       "    </tr>\n",
       "    <tr>\n",
       "      <th>4</th>\n",
       "      <td>460</td>\n",
       "      <td>2014-11-27 12:00:00</td>\n",
       "      <td>0</td>\n",
       "      <td>-0.0016</td>\n",
       "      <td>0.0004</td>\n",
       "      <td>High</td>\n",
       "      <td>518.67</td>\n",
       "      <td>643.84</td>\n",
       "      <td>1604.53</td>\n",
       "      <td>1431.41</td>\n",
       "      <td>...</td>\n",
       "      <td>519.44</td>\n",
       "      <td>2388.24</td>\n",
       "      <td>8135.95</td>\n",
       "      <td>8.5223</td>\n",
       "      <td>0.03</td>\n",
       "      <td>396.0</td>\n",
       "      <td>2388.0</td>\n",
       "      <td>100.00</td>\n",
       "      <td>38.39</td>\n",
       "      <td>23.0682</td>\n",
       "    </tr>\n",
       "  </tbody>\n",
       "</table>\n",
       "<p>5 rows × 27 columns</p>\n",
       "</div>"
      ],
      "text/plain": [
       "   unit_number           time_stamp  status  operational_setting_1  \\\n",
       "0          540  2017-02-19 12:00:00       0                42.0007   \n",
       "1          396  2017-11-21 12:00:00       0                -0.0023   \n",
       "2          513  2017-02-12 12:00:00       0                    NaN   \n",
       "3          211  2014-06-05 12:00:00       0                42.0006   \n",
       "4          460  2014-11-27 12:00:00       0                -0.0016   \n",
       "\n",
       "   operational_setting_2 operational_setting_3  sensor_measurement_1  \\\n",
       "0                 0.8415                  High                445.00   \n",
       "1                 0.0004                  High                518.67   \n",
       "2                 0.6216                   Low                462.54   \n",
       "3                    NaN                  High                   NaN   \n",
       "4                 0.0004                  High                518.67   \n",
       "\n",
       "   sensor_measurement_2  sensor_measurement_3  sensor_measurement_4  \\\n",
       "0                   NaN               1362.47               1143.17   \n",
       "1                642.33               1581.03               1400.06   \n",
       "2                536.71               1250.87               1037.52   \n",
       "3                549.28               1349.42               1114.02   \n",
       "4                643.84               1604.53               1431.41   \n",
       "\n",
       "           ...            sensor_measurement_12  sensor_measurement_13  \\\n",
       "0          ...                           133.75                2388.50   \n",
       "1          ...                           522.19                2388.00   \n",
       "2          ...                           163.11                2028.06   \n",
       "3          ...                           130.58                2387.71   \n",
       "4          ...                           519.44                2388.24   \n",
       "\n",
       "   sensor_measurement_14  sensor_measurement_15  sensor_measurement_16  \\\n",
       "0                8129.92                 9.1182                    NaN   \n",
       "1                8135.70                 8.3817                   0.03   \n",
       "2                7867.90                10.8827                    NaN   \n",
       "3                8074.81                 9.3776                   0.02   \n",
       "4                8135.95                 8.5223                   0.03   \n",
       "\n",
       "   sensor_measurement_17  sensor_measurement_18  sensor_measurement_19  \\\n",
       "0                  332.0                 2212.0                 100.00   \n",
       "1                  393.0                 2388.0                 100.00   \n",
       "2                  306.0                 1915.0                  84.93   \n",
       "3                    NaN                 2212.0                 100.00   \n",
       "4                  396.0                 2388.0                 100.00   \n",
       "\n",
       "   sensor_measurement_20  sensor_measurement_21  \n",
       "0                  10.77                 6.5717  \n",
       "1                  39.07                23.3958  \n",
       "2                  14.33                 8.6202  \n",
       "3                  10.60                 6.2614  \n",
       "4                  38.39                23.0682  \n",
       "\n",
       "[5 rows x 27 columns]"
      ]
     },
     "execution_count": 3,
     "metadata": {},
     "output_type": "execute_result"
    }
   ],
   "source": [
    "pm_data = pd.read_csv('../data/predictive_maintenance_dataset.csv')\n",
    "print(pm_data.shape)\n",
    "pm_data.head()"
   ]
  },
  {
   "cell_type": "code",
   "execution_count": 4,
   "metadata": {},
   "outputs": [
    {
     "data": {
      "text/plain": [
       "unit_number                 0\n",
       "time_stamp                  0\n",
       "status                      0\n",
       "operational_setting_1    7141\n",
       "operational_setting_2    7196\n",
       "operational_setting_3    7227\n",
       "sensor_measurement_1     7209\n",
       "sensor_measurement_2     7198\n",
       "sensor_measurement_3     7190\n",
       "sensor_measurement_4     7335\n",
       "sensor_measurement_5     7244\n",
       "sensor_measurement_6     7444\n",
       "sensor_measurement_7     7213\n",
       "sensor_measurement_8     7276\n",
       "sensor_measurement_9     7207\n",
       "sensor_measurement_10    7191\n",
       "sensor_measurement_11    7180\n",
       "sensor_measurement_12    7227\n",
       "sensor_measurement_13    7115\n",
       "sensor_measurement_14    7068\n",
       "sensor_measurement_15    7257\n",
       "sensor_measurement_16    7059\n",
       "sensor_measurement_17    7167\n",
       "sensor_measurement_18    7265\n",
       "sensor_measurement_19    7195\n",
       "sensor_measurement_20    7018\n",
       "sensor_measurement_21    7165\n",
       "dtype: int64"
      ]
     },
     "execution_count": 4,
     "metadata": {},
     "output_type": "execute_result"
    }
   ],
   "source": [
    "pm_data.isnull().sum(axis=0)"
   ]
  },
  {
   "cell_type": "code",
   "execution_count": 5,
   "metadata": {},
   "outputs": [
    {
     "data": {
      "text/plain": [
       "(42076, 27)"
      ]
     },
     "execution_count": 5,
     "metadata": {},
     "output_type": "execute_result"
    }
   ],
   "source": [
    "# removing NAs drastically drops count. Try imputation with mean value of sensor\n",
    "# check if operation needs to be performed. Losing out on valuable information\n",
    "pm_data.dropna(inplace = True)\n",
    "pm_data.shape"
   ]
  },
  {
   "cell_type": "code",
   "execution_count": 6,
   "metadata": {},
   "outputs": [
    {
     "data": {
      "text/plain": [
       "0    41880\n",
       "1      196\n",
       "Name: status, dtype: int64"
      ]
     },
     "execution_count": 6,
     "metadata": {},
     "output_type": "execute_result"
    }
   ],
   "source": [
    "# check if dataset is imbalanced\n",
    "pm_data.dropna(inplace=True)\n",
    "pm_data.status.value_counts()"
   ]
  },
  {
   "cell_type": "markdown",
   "metadata": {},
   "source": [
    "## Feature engineering"
   ]
  },
  {
   "cell_type": "markdown",
   "metadata": {},
   "source": [
    "#### Calculate lag dates"
   ]
  },
  {
   "cell_type": "code",
   "execution_count": 7,
   "metadata": {
    "collapsed": true
   },
   "outputs": [],
   "source": [
    "pm_data['time_stamp'] = pd.to_datetime(pm_data.time_stamp)\n",
    "pm_data.sort_values(['unit_number','time_stamp'], inplace=True)\n",
    "pm_data.reset_index(inplace=True)"
   ]
  },
  {
   "cell_type": "code",
   "execution_count": 8,
   "metadata": {
    "collapsed": true
   },
   "outputs": [],
   "source": [
    "# feature engineering of categorical variable\n",
    "pm_data = pd.concat([pm_data.drop('operational_setting_3', axis = 1),\n",
    "                    pd.get_dummies(pm_data.operational_setting_3,\n",
    "                                   prefix = 'operational_setting_3')[['operational_setting_3_High']]],\n",
    "                    axis = 1).drop('index', axis = 1)"
   ]
  },
  {
   "cell_type": "code",
   "execution_count": 9,
   "metadata": {
    "collapsed": true
   },
   "outputs": [],
   "source": [
    "# take 2 dates and compute the difference\n",
    "pm_data.sort_values(['unit_number','time_stamp'], inplace=True)\n",
    "def get_date(date):\n",
    "    \n",
    "    date1 = date['time_stamp']\n",
    "    date2 = date['time_stamp_lag']\n",
    "    \n",
    "    # first day\n",
    "    if str(date2) == 'NaT':\n",
    "        return 1\n",
    "    \n",
    "    # change of year\n",
    "    if date1 < date2:\n",
    "        return (date1 + 365) - date2\n",
    "    \n",
    "    return (date1 - date2).days"
   ]
  },
  {
   "cell_type": "code",
   "execution_count": 10,
   "metadata": {
    "collapsed": true
   },
   "outputs": [],
   "source": [
    "# record observation count for each sensor\n",
    "pm_data = pd.concat([pm_data,\n",
    "                     pd.DataFrame(pm_data.groupby('unit_number').cumcount(), columns = ['obs_count'])]\n",
    "                    , axis = 1)"
   ]
  },
  {
   "cell_type": "code",
   "execution_count": 11,
   "metadata": {
    "collapsed": true
   },
   "outputs": [],
   "source": [
    "# create lag dates\n",
    "lag_dates = (pm_data[['unit_number','time_stamp']]\n",
    "             .groupby('unit_number')\n",
    "             .shift(1))\n",
    "lag_dates = pm_data.join(lag_dates.rename(columns=lambda x: x+\"_lag\"))\n",
    "\n",
    "# compute difference in days\n",
    "time_diff = pd.DataFrame(lag_dates[['time_stamp','time_stamp_lag']].apply(get_date, axis = 1),\n",
    "                         columns = ['obs_date'])\n",
    "\n",
    "# append lag_dates to actual data\n",
    "pm_data = pd.concat([pm_data, time_diff], axis = 1)"
   ]
  },
  {
   "cell_type": "code",
   "execution_count": 12,
   "metadata": {
    "scrolled": false
   },
   "outputs": [
    {
     "data": {
      "text/html": [
       "<div>\n",
       "<style>\n",
       "    .dataframe thead tr:only-child th {\n",
       "        text-align: right;\n",
       "    }\n",
       "\n",
       "    .dataframe thead th {\n",
       "        text-align: left;\n",
       "    }\n",
       "\n",
       "    .dataframe tbody tr th {\n",
       "        vertical-align: top;\n",
       "    }\n",
       "</style>\n",
       "<table border=\"1\" class=\"dataframe\">\n",
       "  <thead>\n",
       "    <tr style=\"text-align: right;\">\n",
       "      <th></th>\n",
       "      <th>obs_date</th>\n",
       "      <th>unit_number</th>\n",
       "      <th>time_stamp</th>\n",
       "      <th>status</th>\n",
       "      <th>operational_setting_1</th>\n",
       "      <th>operational_setting_2</th>\n",
       "      <th>sensor_measurement_1</th>\n",
       "      <th>sensor_measurement_2</th>\n",
       "      <th>sensor_measurement_3</th>\n",
       "      <th>sensor_measurement_4</th>\n",
       "      <th>...</th>\n",
       "      <th>sensor_measurement_15</th>\n",
       "      <th>sensor_measurement_16</th>\n",
       "      <th>sensor_measurement_17</th>\n",
       "      <th>sensor_measurement_18</th>\n",
       "      <th>sensor_measurement_19</th>\n",
       "      <th>sensor_measurement_20</th>\n",
       "      <th>sensor_measurement_21</th>\n",
       "      <th>operational_setting_3_High</th>\n",
       "      <th>obs_count</th>\n",
       "      <th>date_bw_obs</th>\n",
       "    </tr>\n",
       "  </thead>\n",
       "  <tbody>\n",
       "    <tr>\n",
       "      <th>0</th>\n",
       "      <td>1</td>\n",
       "      <td>2</td>\n",
       "      <td>2017-04-01 12:00:00</td>\n",
       "      <td>0</td>\n",
       "      <td>-0.0018</td>\n",
       "      <td>0.0006</td>\n",
       "      <td>518.67</td>\n",
       "      <td>641.89</td>\n",
       "      <td>1583.84</td>\n",
       "      <td>1391.28</td>\n",
       "      <td>...</td>\n",
       "      <td>8.3905</td>\n",
       "      <td>0.03</td>\n",
       "      <td>391.0</td>\n",
       "      <td>2388.0</td>\n",
       "      <td>100.0</td>\n",
       "      <td>38.94</td>\n",
       "      <td>23.4585</td>\n",
       "      <td>1</td>\n",
       "      <td>0</td>\n",
       "      <td>1</td>\n",
       "    </tr>\n",
       "    <tr>\n",
       "      <th>1</th>\n",
       "      <td>3</td>\n",
       "      <td>2</td>\n",
       "      <td>2017-04-03 12:00:00</td>\n",
       "      <td>0</td>\n",
       "      <td>0.0018</td>\n",
       "      <td>0.0003</td>\n",
       "      <td>518.67</td>\n",
       "      <td>641.55</td>\n",
       "      <td>1588.32</td>\n",
       "      <td>1398.96</td>\n",
       "      <td>...</td>\n",
       "      <td>8.3802</td>\n",
       "      <td>0.03</td>\n",
       "      <td>391.0</td>\n",
       "      <td>2388.0</td>\n",
       "      <td>100.0</td>\n",
       "      <td>39.11</td>\n",
       "      <td>23.4250</td>\n",
       "      <td>1</td>\n",
       "      <td>1</td>\n",
       "      <td>2</td>\n",
       "    </tr>\n",
       "    <tr>\n",
       "      <th>2</th>\n",
       "      <td>4</td>\n",
       "      <td>2</td>\n",
       "      <td>2017-04-04 12:00:00</td>\n",
       "      <td>0</td>\n",
       "      <td>0.0035</td>\n",
       "      <td>-0.0004</td>\n",
       "      <td>518.67</td>\n",
       "      <td>641.68</td>\n",
       "      <td>1584.15</td>\n",
       "      <td>1396.08</td>\n",
       "      <td>...</td>\n",
       "      <td>8.4018</td>\n",
       "      <td>0.03</td>\n",
       "      <td>391.0</td>\n",
       "      <td>2388.0</td>\n",
       "      <td>100.0</td>\n",
       "      <td>39.13</td>\n",
       "      <td>23.5027</td>\n",
       "      <td>1</td>\n",
       "      <td>2</td>\n",
       "      <td>1</td>\n",
       "    </tr>\n",
       "    <tr>\n",
       "      <th>3</th>\n",
       "      <td>9</td>\n",
       "      <td>2</td>\n",
       "      <td>2017-04-09 12:00:00</td>\n",
       "      <td>0</td>\n",
       "      <td>0.0017</td>\n",
       "      <td>-0.0004</td>\n",
       "      <td>518.67</td>\n",
       "      <td>641.98</td>\n",
       "      <td>1581.99</td>\n",
       "      <td>1395.01</td>\n",
       "      <td>...</td>\n",
       "      <td>8.3868</td>\n",
       "      <td>0.03</td>\n",
       "      <td>390.0</td>\n",
       "      <td>2388.0</td>\n",
       "      <td>100.0</td>\n",
       "      <td>39.06</td>\n",
       "      <td>23.4875</td>\n",
       "      <td>1</td>\n",
       "      <td>3</td>\n",
       "      <td>5</td>\n",
       "    </tr>\n",
       "    <tr>\n",
       "      <th>4</th>\n",
       "      <td>11</td>\n",
       "      <td>2</td>\n",
       "      <td>2017-04-11 12:00:00</td>\n",
       "      <td>0</td>\n",
       "      <td>0.0006</td>\n",
       "      <td>0.0004</td>\n",
       "      <td>518.67</td>\n",
       "      <td>642.26</td>\n",
       "      <td>1589.21</td>\n",
       "      <td>1401.29</td>\n",
       "      <td>...</td>\n",
       "      <td>8.4188</td>\n",
       "      <td>0.03</td>\n",
       "      <td>392.0</td>\n",
       "      <td>2388.0</td>\n",
       "      <td>100.0</td>\n",
       "      <td>39.23</td>\n",
       "      <td>23.3888</td>\n",
       "      <td>1</td>\n",
       "      <td>4</td>\n",
       "      <td>2</td>\n",
       "    </tr>\n",
       "    <tr>\n",
       "      <th>5</th>\n",
       "      <td>16</td>\n",
       "      <td>2</td>\n",
       "      <td>2017-04-16 12:00:00</td>\n",
       "      <td>0</td>\n",
       "      <td>-0.0010</td>\n",
       "      <td>0.0003</td>\n",
       "      <td>518.67</td>\n",
       "      <td>641.81</td>\n",
       "      <td>1581.99</td>\n",
       "      <td>1393.46</td>\n",
       "      <td>...</td>\n",
       "      <td>8.3805</td>\n",
       "      <td>0.03</td>\n",
       "      <td>392.0</td>\n",
       "      <td>2388.0</td>\n",
       "      <td>100.0</td>\n",
       "      <td>39.01</td>\n",
       "      <td>23.4462</td>\n",
       "      <td>1</td>\n",
       "      <td>5</td>\n",
       "      <td>5</td>\n",
       "    </tr>\n",
       "    <tr>\n",
       "      <th>6</th>\n",
       "      <td>20</td>\n",
       "      <td>2</td>\n",
       "      <td>2017-04-20 12:00:00</td>\n",
       "      <td>0</td>\n",
       "      <td>0.0042</td>\n",
       "      <td>-0.0004</td>\n",
       "      <td>518.67</td>\n",
       "      <td>642.34</td>\n",
       "      <td>1582.94</td>\n",
       "      <td>1394.38</td>\n",
       "      <td>...</td>\n",
       "      <td>8.3698</td>\n",
       "      <td>0.03</td>\n",
       "      <td>391.0</td>\n",
       "      <td>2388.0</td>\n",
       "      <td>100.0</td>\n",
       "      <td>39.02</td>\n",
       "      <td>23.3821</td>\n",
       "      <td>1</td>\n",
       "      <td>6</td>\n",
       "      <td>4</td>\n",
       "    </tr>\n",
       "    <tr>\n",
       "      <th>7</th>\n",
       "      <td>21</td>\n",
       "      <td>2</td>\n",
       "      <td>2017-04-21 12:00:00</td>\n",
       "      <td>0</td>\n",
       "      <td>-0.0023</td>\n",
       "      <td>0.0001</td>\n",
       "      <td>518.67</td>\n",
       "      <td>642.05</td>\n",
       "      <td>1579.51</td>\n",
       "      <td>1392.28</td>\n",
       "      <td>...</td>\n",
       "      <td>8.3954</td>\n",
       "      <td>0.03</td>\n",
       "      <td>391.0</td>\n",
       "      <td>2388.0</td>\n",
       "      <td>100.0</td>\n",
       "      <td>39.24</td>\n",
       "      <td>23.5014</td>\n",
       "      <td>1</td>\n",
       "      <td>7</td>\n",
       "      <td>1</td>\n",
       "    </tr>\n",
       "    <tr>\n",
       "      <th>8</th>\n",
       "      <td>23</td>\n",
       "      <td>2</td>\n",
       "      <td>2017-04-23 12:00:00</td>\n",
       "      <td>0</td>\n",
       "      <td>-0.0013</td>\n",
       "      <td>0.0003</td>\n",
       "      <td>518.67</td>\n",
       "      <td>642.37</td>\n",
       "      <td>1580.89</td>\n",
       "      <td>1387.50</td>\n",
       "      <td>...</td>\n",
       "      <td>8.3937</td>\n",
       "      <td>0.03</td>\n",
       "      <td>393.0</td>\n",
       "      <td>2388.0</td>\n",
       "      <td>100.0</td>\n",
       "      <td>39.10</td>\n",
       "      <td>23.2867</td>\n",
       "      <td>1</td>\n",
       "      <td>8</td>\n",
       "      <td>2</td>\n",
       "    </tr>\n",
       "    <tr>\n",
       "      <th>9</th>\n",
       "      <td>24</td>\n",
       "      <td>2</td>\n",
       "      <td>2017-04-24 12:00:00</td>\n",
       "      <td>0</td>\n",
       "      <td>-0.0019</td>\n",
       "      <td>-0.0000</td>\n",
       "      <td>518.67</td>\n",
       "      <td>641.99</td>\n",
       "      <td>1580.97</td>\n",
       "      <td>1398.67</td>\n",
       "      <td>...</td>\n",
       "      <td>8.3866</td>\n",
       "      <td>0.03</td>\n",
       "      <td>391.0</td>\n",
       "      <td>2388.0</td>\n",
       "      <td>100.0</td>\n",
       "      <td>39.18</td>\n",
       "      <td>23.3981</td>\n",
       "      <td>1</td>\n",
       "      <td>9</td>\n",
       "      <td>1</td>\n",
       "    </tr>\n",
       "    <tr>\n",
       "      <th>10</th>\n",
       "      <td>27</td>\n",
       "      <td>2</td>\n",
       "      <td>2017-04-27 12:00:00</td>\n",
       "      <td>0</td>\n",
       "      <td>0.0006</td>\n",
       "      <td>0.0005</td>\n",
       "      <td>518.67</td>\n",
       "      <td>642.12</td>\n",
       "      <td>1585.44</td>\n",
       "      <td>1402.31</td>\n",
       "      <td>...</td>\n",
       "      <td>8.4077</td>\n",
       "      <td>0.03</td>\n",
       "      <td>392.0</td>\n",
       "      <td>2388.0</td>\n",
       "      <td>100.0</td>\n",
       "      <td>38.96</td>\n",
       "      <td>23.4275</td>\n",
       "      <td>1</td>\n",
       "      <td>10</td>\n",
       "      <td>3</td>\n",
       "    </tr>\n",
       "    <tr>\n",
       "      <th>11</th>\n",
       "      <td>31</td>\n",
       "      <td>2</td>\n",
       "      <td>2017-05-01 12:00:00</td>\n",
       "      <td>0</td>\n",
       "      <td>-0.0009</td>\n",
       "      <td>0.0005</td>\n",
       "      <td>518.67</td>\n",
       "      <td>641.97</td>\n",
       "      <td>1579.86</td>\n",
       "      <td>1390.94</td>\n",
       "      <td>...</td>\n",
       "      <td>8.4393</td>\n",
       "      <td>0.03</td>\n",
       "      <td>391.0</td>\n",
       "      <td>2388.0</td>\n",
       "      <td>100.0</td>\n",
       "      <td>39.17</td>\n",
       "      <td>23.4154</td>\n",
       "      <td>1</td>\n",
       "      <td>11</td>\n",
       "      <td>4</td>\n",
       "    </tr>\n",
       "    <tr>\n",
       "      <th>12</th>\n",
       "      <td>32</td>\n",
       "      <td>2</td>\n",
       "      <td>2017-05-02 12:00:00</td>\n",
       "      <td>0</td>\n",
       "      <td>0.0013</td>\n",
       "      <td>-0.0001</td>\n",
       "      <td>518.67</td>\n",
       "      <td>641.58</td>\n",
       "      <td>1584.52</td>\n",
       "      <td>1391.11</td>\n",
       "      <td>...</td>\n",
       "      <td>8.3783</td>\n",
       "      <td>0.03</td>\n",
       "      <td>390.0</td>\n",
       "      <td>2388.0</td>\n",
       "      <td>100.0</td>\n",
       "      <td>38.97</td>\n",
       "      <td>23.4006</td>\n",
       "      <td>1</td>\n",
       "      <td>12</td>\n",
       "      <td>1</td>\n",
       "    </tr>\n",
       "  </tbody>\n",
       "</table>\n",
       "<p>13 rows × 30 columns</p>\n",
       "</div>"
      ],
      "text/plain": [
       "    obs_date  unit_number          time_stamp  status  operational_setting_1  \\\n",
       "0          1            2 2017-04-01 12:00:00       0                -0.0018   \n",
       "1          3            2 2017-04-03 12:00:00       0                 0.0018   \n",
       "2          4            2 2017-04-04 12:00:00       0                 0.0035   \n",
       "3          9            2 2017-04-09 12:00:00       0                 0.0017   \n",
       "4         11            2 2017-04-11 12:00:00       0                 0.0006   \n",
       "5         16            2 2017-04-16 12:00:00       0                -0.0010   \n",
       "6         20            2 2017-04-20 12:00:00       0                 0.0042   \n",
       "7         21            2 2017-04-21 12:00:00       0                -0.0023   \n",
       "8         23            2 2017-04-23 12:00:00       0                -0.0013   \n",
       "9         24            2 2017-04-24 12:00:00       0                -0.0019   \n",
       "10        27            2 2017-04-27 12:00:00       0                 0.0006   \n",
       "11        31            2 2017-05-01 12:00:00       0                -0.0009   \n",
       "12        32            2 2017-05-02 12:00:00       0                 0.0013   \n",
       "\n",
       "    operational_setting_2  sensor_measurement_1  sensor_measurement_2  \\\n",
       "0                  0.0006                518.67                641.89   \n",
       "1                  0.0003                518.67                641.55   \n",
       "2                 -0.0004                518.67                641.68   \n",
       "3                 -0.0004                518.67                641.98   \n",
       "4                  0.0004                518.67                642.26   \n",
       "5                  0.0003                518.67                641.81   \n",
       "6                 -0.0004                518.67                642.34   \n",
       "7                  0.0001                518.67                642.05   \n",
       "8                  0.0003                518.67                642.37   \n",
       "9                 -0.0000                518.67                641.99   \n",
       "10                 0.0005                518.67                642.12   \n",
       "11                 0.0005                518.67                641.97   \n",
       "12                -0.0001                518.67                641.58   \n",
       "\n",
       "    sensor_measurement_3  sensor_measurement_4     ...       \\\n",
       "0                1583.84               1391.28     ...        \n",
       "1                1588.32               1398.96     ...        \n",
       "2                1584.15               1396.08     ...        \n",
       "3                1581.99               1395.01     ...        \n",
       "4                1589.21               1401.29     ...        \n",
       "5                1581.99               1393.46     ...        \n",
       "6                1582.94               1394.38     ...        \n",
       "7                1579.51               1392.28     ...        \n",
       "8                1580.89               1387.50     ...        \n",
       "9                1580.97               1398.67     ...        \n",
       "10               1585.44               1402.31     ...        \n",
       "11               1579.86               1390.94     ...        \n",
       "12               1584.52               1391.11     ...        \n",
       "\n",
       "    sensor_measurement_15  sensor_measurement_16  sensor_measurement_17  \\\n",
       "0                  8.3905                   0.03                  391.0   \n",
       "1                  8.3802                   0.03                  391.0   \n",
       "2                  8.4018                   0.03                  391.0   \n",
       "3                  8.3868                   0.03                  390.0   \n",
       "4                  8.4188                   0.03                  392.0   \n",
       "5                  8.3805                   0.03                  392.0   \n",
       "6                  8.3698                   0.03                  391.0   \n",
       "7                  8.3954                   0.03                  391.0   \n",
       "8                  8.3937                   0.03                  393.0   \n",
       "9                  8.3866                   0.03                  391.0   \n",
       "10                 8.4077                   0.03                  392.0   \n",
       "11                 8.4393                   0.03                  391.0   \n",
       "12                 8.3783                   0.03                  390.0   \n",
       "\n",
       "    sensor_measurement_18  sensor_measurement_19  sensor_measurement_20  \\\n",
       "0                  2388.0                  100.0                  38.94   \n",
       "1                  2388.0                  100.0                  39.11   \n",
       "2                  2388.0                  100.0                  39.13   \n",
       "3                  2388.0                  100.0                  39.06   \n",
       "4                  2388.0                  100.0                  39.23   \n",
       "5                  2388.0                  100.0                  39.01   \n",
       "6                  2388.0                  100.0                  39.02   \n",
       "7                  2388.0                  100.0                  39.24   \n",
       "8                  2388.0                  100.0                  39.10   \n",
       "9                  2388.0                  100.0                  39.18   \n",
       "10                 2388.0                  100.0                  38.96   \n",
       "11                 2388.0                  100.0                  39.17   \n",
       "12                 2388.0                  100.0                  38.97   \n",
       "\n",
       "    sensor_measurement_21  operational_setting_3_High  obs_count  date_bw_obs  \n",
       "0                 23.4585                           1          0            1  \n",
       "1                 23.4250                           1          1            2  \n",
       "2                 23.5027                           1          2            1  \n",
       "3                 23.4875                           1          3            5  \n",
       "4                 23.3888                           1          4            2  \n",
       "5                 23.4462                           1          5            5  \n",
       "6                 23.3821                           1          6            4  \n",
       "7                 23.5014                           1          7            1  \n",
       "8                 23.2867                           1          8            2  \n",
       "9                 23.3981                           1          9            1  \n",
       "10                23.4275                           1         10            3  \n",
       "11                23.4154                           1         11            4  \n",
       "12                23.4006                           1         12            1  \n",
       "\n",
       "[13 rows x 30 columns]"
      ]
     },
     "execution_count": 12,
     "metadata": {},
     "output_type": "execute_result"
    }
   ],
   "source": [
    "pm_final = pd.concat([\n",
    "            (pm_data[['unit_number','time_stamp','obs_date']]\n",
    "            .groupby(['unit_number','time_stamp'])\n",
    "            .sum()\n",
    "            .groupby(level=[0])\n",
    "            .cumsum()\n",
    "            .reset_index()[['obs_date']]),\n",
    "            pm_data.rename(columns = {'obs_date':'date_bw_obs'}).reset_index().drop('index', axis = 1)\n",
    "          ], axis = 1\n",
    "         )\n",
    "pm_final.head(13)"
   ]
  },
  {
   "cell_type": "markdown",
   "metadata": {},
   "source": [
    "#### Generate label `status_within_40days`"
   ]
  },
  {
   "cell_type": "code",
   "execution_count": 13,
   "metadata": {
    "collapsed": true
   },
   "outputs": [],
   "source": [
    "# Check if there is a better method to generate this label..3 loops seems like overkill!\n",
    "# Sample case: pm_final[pm_final.unit_number == 4]\n",
    "window_size = 40\n",
    "Status = [] # hold status\n",
    "for i,j in pm_final[['unit_number','obs_date','status']].groupby('unit_number'):\n",
    "\n",
    "    status = j['status'].values # store status for every turbine\n",
    "    date_bw_obs = j['obs_date'].values # store observed date for a reading\n",
    "    failure_status = status.copy() # update to 1 if it obs has occured within 40 days of failure\n",
    "    failures = np.where(status)[0].tolist() # retrieve position of status = 1\n",
    "    \n",
    "    if any(failures):\n",
    "        # in case of multiple failures, loop through all failures. set indicator of last failure and only \n",
    "        # start from there. Avoid overlapping!\n",
    "        for i in failures:\n",
    "            # Loop through dates between observations to check if it falls within 40 days of failure. \n",
    "            for date in range(min(i,window_size)):\n",
    "                    if (date_bw_obs[i] - date_bw_obs[i - date]) < window_size:\n",
    "                        failure_status[i - date] = 1\n",
    "            \n",
    "    Status = Status + failure_status.tolist()"
   ]
  },
  {
   "cell_type": "code",
   "execution_count": 14,
   "metadata": {},
   "outputs": [
    {
     "data": {
      "text/html": [
       "<div>\n",
       "<style>\n",
       "    .dataframe thead tr:only-child th {\n",
       "        text-align: right;\n",
       "    }\n",
       "\n",
       "    .dataframe thead th {\n",
       "        text-align: left;\n",
       "    }\n",
       "\n",
       "    .dataframe tbody tr th {\n",
       "        vertical-align: top;\n",
       "    }\n",
       "</style>\n",
       "<table border=\"1\" class=\"dataframe\">\n",
       "  <thead>\n",
       "    <tr style=\"text-align: right;\">\n",
       "      <th></th>\n",
       "      <th>obs_date</th>\n",
       "      <th>unit_number</th>\n",
       "      <th>time_stamp</th>\n",
       "      <th>status</th>\n",
       "      <th>operational_setting_1</th>\n",
       "      <th>operational_setting_2</th>\n",
       "      <th>sensor_measurement_1</th>\n",
       "      <th>sensor_measurement_2</th>\n",
       "      <th>sensor_measurement_3</th>\n",
       "      <th>sensor_measurement_4</th>\n",
       "      <th>...</th>\n",
       "      <th>sensor_measurement_16</th>\n",
       "      <th>sensor_measurement_17</th>\n",
       "      <th>sensor_measurement_18</th>\n",
       "      <th>sensor_measurement_19</th>\n",
       "      <th>sensor_measurement_20</th>\n",
       "      <th>sensor_measurement_21</th>\n",
       "      <th>operational_setting_3_High</th>\n",
       "      <th>obs_count</th>\n",
       "      <th>date_bw_obs</th>\n",
       "      <th>status_within_40</th>\n",
       "    </tr>\n",
       "  </thead>\n",
       "  <tbody>\n",
       "    <tr>\n",
       "      <th>0</th>\n",
       "      <td>1</td>\n",
       "      <td>2</td>\n",
       "      <td>2017-04-01 12:00:00</td>\n",
       "      <td>0</td>\n",
       "      <td>-0.0018</td>\n",
       "      <td>0.0006</td>\n",
       "      <td>518.67</td>\n",
       "      <td>641.89</td>\n",
       "      <td>1583.84</td>\n",
       "      <td>1391.28</td>\n",
       "      <td>...</td>\n",
       "      <td>0.03</td>\n",
       "      <td>391.0</td>\n",
       "      <td>2388.0</td>\n",
       "      <td>100.0</td>\n",
       "      <td>38.94</td>\n",
       "      <td>23.4585</td>\n",
       "      <td>1</td>\n",
       "      <td>0</td>\n",
       "      <td>1</td>\n",
       "      <td>0</td>\n",
       "    </tr>\n",
       "    <tr>\n",
       "      <th>1</th>\n",
       "      <td>3</td>\n",
       "      <td>2</td>\n",
       "      <td>2017-04-03 12:00:00</td>\n",
       "      <td>0</td>\n",
       "      <td>0.0018</td>\n",
       "      <td>0.0003</td>\n",
       "      <td>518.67</td>\n",
       "      <td>641.55</td>\n",
       "      <td>1588.32</td>\n",
       "      <td>1398.96</td>\n",
       "      <td>...</td>\n",
       "      <td>0.03</td>\n",
       "      <td>391.0</td>\n",
       "      <td>2388.0</td>\n",
       "      <td>100.0</td>\n",
       "      <td>39.11</td>\n",
       "      <td>23.4250</td>\n",
       "      <td>1</td>\n",
       "      <td>1</td>\n",
       "      <td>2</td>\n",
       "      <td>0</td>\n",
       "    </tr>\n",
       "    <tr>\n",
       "      <th>2</th>\n",
       "      <td>4</td>\n",
       "      <td>2</td>\n",
       "      <td>2017-04-04 12:00:00</td>\n",
       "      <td>0</td>\n",
       "      <td>0.0035</td>\n",
       "      <td>-0.0004</td>\n",
       "      <td>518.67</td>\n",
       "      <td>641.68</td>\n",
       "      <td>1584.15</td>\n",
       "      <td>1396.08</td>\n",
       "      <td>...</td>\n",
       "      <td>0.03</td>\n",
       "      <td>391.0</td>\n",
       "      <td>2388.0</td>\n",
       "      <td>100.0</td>\n",
       "      <td>39.13</td>\n",
       "      <td>23.5027</td>\n",
       "      <td>1</td>\n",
       "      <td>2</td>\n",
       "      <td>1</td>\n",
       "      <td>0</td>\n",
       "    </tr>\n",
       "    <tr>\n",
       "      <th>3</th>\n",
       "      <td>9</td>\n",
       "      <td>2</td>\n",
       "      <td>2017-04-09 12:00:00</td>\n",
       "      <td>0</td>\n",
       "      <td>0.0017</td>\n",
       "      <td>-0.0004</td>\n",
       "      <td>518.67</td>\n",
       "      <td>641.98</td>\n",
       "      <td>1581.99</td>\n",
       "      <td>1395.01</td>\n",
       "      <td>...</td>\n",
       "      <td>0.03</td>\n",
       "      <td>390.0</td>\n",
       "      <td>2388.0</td>\n",
       "      <td>100.0</td>\n",
       "      <td>39.06</td>\n",
       "      <td>23.4875</td>\n",
       "      <td>1</td>\n",
       "      <td>3</td>\n",
       "      <td>5</td>\n",
       "      <td>0</td>\n",
       "    </tr>\n",
       "    <tr>\n",
       "      <th>4</th>\n",
       "      <td>11</td>\n",
       "      <td>2</td>\n",
       "      <td>2017-04-11 12:00:00</td>\n",
       "      <td>0</td>\n",
       "      <td>0.0006</td>\n",
       "      <td>0.0004</td>\n",
       "      <td>518.67</td>\n",
       "      <td>642.26</td>\n",
       "      <td>1589.21</td>\n",
       "      <td>1401.29</td>\n",
       "      <td>...</td>\n",
       "      <td>0.03</td>\n",
       "      <td>392.0</td>\n",
       "      <td>2388.0</td>\n",
       "      <td>100.0</td>\n",
       "      <td>39.23</td>\n",
       "      <td>23.3888</td>\n",
       "      <td>1</td>\n",
       "      <td>4</td>\n",
       "      <td>2</td>\n",
       "      <td>0</td>\n",
       "    </tr>\n",
       "  </tbody>\n",
       "</table>\n",
       "<p>5 rows × 31 columns</p>\n",
       "</div>"
      ],
      "text/plain": [
       "   obs_date  unit_number          time_stamp  status  operational_setting_1  \\\n",
       "0         1            2 2017-04-01 12:00:00       0                -0.0018   \n",
       "1         3            2 2017-04-03 12:00:00       0                 0.0018   \n",
       "2         4            2 2017-04-04 12:00:00       0                 0.0035   \n",
       "3         9            2 2017-04-09 12:00:00       0                 0.0017   \n",
       "4        11            2 2017-04-11 12:00:00       0                 0.0006   \n",
       "\n",
       "   operational_setting_2  sensor_measurement_1  sensor_measurement_2  \\\n",
       "0                 0.0006                518.67                641.89   \n",
       "1                 0.0003                518.67                641.55   \n",
       "2                -0.0004                518.67                641.68   \n",
       "3                -0.0004                518.67                641.98   \n",
       "4                 0.0004                518.67                642.26   \n",
       "\n",
       "   sensor_measurement_3  sensor_measurement_4        ...         \\\n",
       "0               1583.84               1391.28        ...          \n",
       "1               1588.32               1398.96        ...          \n",
       "2               1584.15               1396.08        ...          \n",
       "3               1581.99               1395.01        ...          \n",
       "4               1589.21               1401.29        ...          \n",
       "\n",
       "   sensor_measurement_16  sensor_measurement_17  sensor_measurement_18  \\\n",
       "0                   0.03                  391.0                 2388.0   \n",
       "1                   0.03                  391.0                 2388.0   \n",
       "2                   0.03                  391.0                 2388.0   \n",
       "3                   0.03                  390.0                 2388.0   \n",
       "4                   0.03                  392.0                 2388.0   \n",
       "\n",
       "   sensor_measurement_19  sensor_measurement_20  sensor_measurement_21  \\\n",
       "0                  100.0                  38.94                23.4585   \n",
       "1                  100.0                  39.11                23.4250   \n",
       "2                  100.0                  39.13                23.5027   \n",
       "3                  100.0                  39.06                23.4875   \n",
       "4                  100.0                  39.23                23.3888   \n",
       "\n",
       "   operational_setting_3_High  obs_count  date_bw_obs  status_within_40  \n",
       "0                           1          0            1                 0  \n",
       "1                           1          1            2                 0  \n",
       "2                           1          2            1                 0  \n",
       "3                           1          3            5                 0  \n",
       "4                           1          4            2                 0  \n",
       "\n",
       "[5 rows x 31 columns]"
      ]
     },
     "execution_count": 14,
     "metadata": {},
     "output_type": "execute_result"
    }
   ],
   "source": [
    "pm_final['status_within_40'] = Status\n",
    "pm_final.head()"
   ]
  },
  {
   "cell_type": "markdown",
   "metadata": {},
   "source": [
    "## Feature scaling"
   ]
  },
  {
   "cell_type": "code",
   "execution_count": 15,
   "metadata": {},
   "outputs": [
    {
     "name": "stdout",
     "output_type": "stream",
     "text": [
      "['operational_setting_1', 'operational_setting_2', 'sensor_measurement_1', 'sensor_measurement_2', 'sensor_measurement_3', 'sensor_measurement_4', 'sensor_measurement_5', 'sensor_measurement_6', 'sensor_measurement_7', 'sensor_measurement_8', 'sensor_measurement_9', 'sensor_measurement_10', 'sensor_measurement_11', 'sensor_measurement_12', 'sensor_measurement_13', 'sensor_measurement_14', 'sensor_measurement_15', 'sensor_measurement_16', 'sensor_measurement_17', 'sensor_measurement_18', 'sensor_measurement_19', 'sensor_measurement_20', 'sensor_measurement_21']\n",
      "\n",
      "['obs_date', 'unit_number', 'time_stamp', 'operational_setting_3_High', 'obs_count', 'date_bw_obs']\n"
     ]
    }
   ],
   "source": [
    "# pick the feature columns \n",
    "source = ['operational', 'sensor']\n",
    "target = list(pm_final.columns)\n",
    "feature_names = [colname for colname in target \n",
    "                    if any(i in colname for i in source)] # check if there is a better way of doing this\n",
    "\n",
    "scaling_features = feature_names.copy()\n",
    "if 'operational_setting_3_High' in scaling_features: scaling_features.remove('operational_setting_3_High')\n",
    "\n",
    "unscaled_features = [col for col in target if col not in scaling_features + ['status','status_within_40']]\n",
    "print(scaling_features)\n",
    "print()\n",
    "print(unscaled_features)\n",
    "        \n",
    "stdsc = StandardScaler() # fit this on training data when encountered"
   ]
  },
  {
   "cell_type": "markdown",
   "metadata": {},
   "source": [
    "## Basic EDA"
   ]
  },
  {
   "cell_type": "code",
   "execution_count": 16,
   "metadata": {},
   "outputs": [
    {
     "data": {
      "text/plain": [
       "Text(0.5,1,'Pairwise correlation')"
      ]
     },
     "execution_count": 16,
     "metadata": {},
     "output_type": "execute_result"
    },
    {
     "data": {
      "image/png": "[encoded data removed]",
      "text/plain": [
       "<matplotlib.figure.Figure at 0x7fc2f57840b8>"
      ]
     },
     "metadata": {},
     "output_type": "display_data"
    }
   ],
   "source": [
    "# source for code: https://seaborn.pydata.org/examples/many_pairwise_correlations.html\n",
    "d = pm_final.loc[:,feature_names]\n",
    "corr = d.corr()\n",
    "\n",
    "# Generate a mask for the upper triangle\n",
    "mask = np.zeros_like(corr, dtype=np.bool)\n",
    "mask[np.triu_indices_from(mask)] = True\n",
    "\n",
    "# Set up the matplotlib figure\n",
    "f, ax = plt.subplots(figsize=(11, 9))\n",
    "\n",
    "# Generate a custom diverging colormap\n",
    "cmap = sns.diverging_palette(220, 10, as_cmap=True)\n",
    "\n",
    "# Draw the heatmap with the mask and correct aspect ratio\n",
    "sns.heatmap(corr, mask=mask, cmap=cmap, vmax=.3, center=0,\n",
    "            square=True, linewidths=.5, cbar_kws={\"shrink\": .5}).set_title('Pairwise correlation')"
   ]
  },
  {
   "cell_type": "code",
   "execution_count": 17,
   "metadata": {
    "scrolled": false
   },
   "outputs": [
    {
     "data": {
      "text/plain": [
       "Text(0.5,1,'Gap between observations for failure event')"
      ]
     },
     "execution_count": 17,
     "metadata": {},
     "output_type": "execute_result"
    },
    {
     "data": {
      "image/png": "[encoded data removed]",
      "text/plain": [
       "<matplotlib.figure.Figure at 0x7fc33f11ff60>"
      ]
     },
     "metadata": {},
     "output_type": "display_data"
    }
   ],
   "source": [
    "(sns.kdeplot(pm_final.date_bw_obs[pm_final.status == 1], shade = True)\n",
    "    .set_title('Gap between observations for failure event')\n",
    ")"
   ]
  },
  {
   "cell_type": "code",
   "execution_count": 18,
   "metadata": {},
   "outputs": [
    {
     "data": {
      "text/plain": [
       "Text(0.5,1,'Distribution of cumulative date for readings')"
      ]
     },
     "execution_count": 18,
     "metadata": {},
     "output_type": "execute_result"
    },
    {
     "data": {
      "image/png": "[encoded data removed]",
      "text/plain": [
       "<matplotlib.figure.Figure at 0x7fc2f47734a8>"
      ]
     },
     "metadata": {},
     "output_type": "display_data"
    }
   ],
   "source": [
    "(sns.kdeplot(pm_final['obs_date'], shade=True)\n",
    "    .set_title(\"Distribution of cumulative date for readings\")\n",
    ")"
   ]
  },
  {
   "cell_type": "code",
   "execution_count": 19,
   "metadata": {},
   "outputs": [
    {
     "data": {
      "text/plain": [
       "Text(0.5,1,'Distribution of reading counts for turbines')"
      ]
     },
     "execution_count": 19,
     "metadata": {},
     "output_type": "execute_result"
    },
    {
     "data": {
      "image/png": "[encoded data removed]",
      "text/plain": [
       "<matplotlib.figure.Figure at 0x7fc2f4610128>"
      ]
     },
     "metadata": {},
     "output_type": "display_data"
    }
   ],
   "source": [
    "(sns.kdeplot(pm_final['obs_count'], shade=True)\n",
    "   .set_title(\"Distribution of reading counts for turbines\")\n",
    ")"
   ]
  },
  {
   "cell_type": "code",
   "execution_count": 20,
   "metadata": {},
   "outputs": [
    {
     "data": {
      "text/html": [
       "<div>\n",
       "<style>\n",
       "    .dataframe thead tr:only-child th {\n",
       "        text-align: right;\n",
       "    }\n",
       "\n",
       "    .dataframe thead th {\n",
       "        text-align: left;\n",
       "    }\n",
       "\n",
       "    .dataframe tbody tr th {\n",
       "        vertical-align: top;\n",
       "    }\n",
       "</style>\n",
       "<table border=\"1\" class=\"dataframe\">\n",
       "  <thead>\n",
       "    <tr style=\"text-align: right;\">\n",
       "      <th></th>\n",
       "      <th>obs_date</th>\n",
       "      <th>unit_number</th>\n",
       "      <th>time_stamp</th>\n",
       "      <th>status</th>\n",
       "      <th>operational_setting_1</th>\n",
       "      <th>operational_setting_2</th>\n",
       "      <th>sensor_measurement_1</th>\n",
       "      <th>sensor_measurement_2</th>\n",
       "      <th>sensor_measurement_3</th>\n",
       "      <th>sensor_measurement_4</th>\n",
       "      <th>...</th>\n",
       "      <th>sensor_measurement_16</th>\n",
       "      <th>sensor_measurement_17</th>\n",
       "      <th>sensor_measurement_18</th>\n",
       "      <th>sensor_measurement_19</th>\n",
       "      <th>sensor_measurement_20</th>\n",
       "      <th>sensor_measurement_21</th>\n",
       "      <th>operational_setting_3_High</th>\n",
       "      <th>obs_count</th>\n",
       "      <th>date_bw_obs</th>\n",
       "      <th>status_within_40</th>\n",
       "    </tr>\n",
       "  </thead>\n",
       "  <tbody>\n",
       "  </tbody>\n",
       "</table>\n",
       "<p>0 rows × 31 columns</p>\n",
       "</div>"
      ],
      "text/plain": [
       "Empty DataFrame\n",
       "Columns: [obs_date, unit_number, time_stamp, status, operational_setting_1, operational_setting_2, sensor_measurement_1, sensor_measurement_2, sensor_measurement_3, sensor_measurement_4, sensor_measurement_5, sensor_measurement_6, sensor_measurement_7, sensor_measurement_8, sensor_measurement_9, sensor_measurement_10, sensor_measurement_11, sensor_measurement_12, sensor_measurement_13, sensor_measurement_14, sensor_measurement_15, sensor_measurement_16, sensor_measurement_17, sensor_measurement_18, sensor_measurement_19, sensor_measurement_20, sensor_measurement_21, operational_setting_3_High, obs_count, date_bw_obs, status_within_40]\n",
       "Index: []\n",
       "\n",
       "[0 rows x 31 columns]"
      ]
     },
     "execution_count": 20,
     "metadata": {},
     "output_type": "execute_result"
    }
   ],
   "source": [
    "pm_final[(pm_final.obs_date < 40) & (pm_final.status == 1)]"
   ]
  },
  {
   "cell_type": "code",
   "execution_count": 21,
   "metadata": {},
   "outputs": [
    {
     "data": {
      "image/png": "[encoded data removed]",
      "text/plain": [
       "<matplotlib.figure.Figure at 0x7fc2f45de400>"
      ]
     },
     "metadata": {},
     "output_type": "display_data"
    }
   ],
   "source": [
    "plt.scatter(\"obs_date\",\"status\", data=pm_final,marker='o', alpha = 0.25)\n",
    "plt.xlabel(\"Cumulative date for readings\")\n",
    "plt.ylabel(\"Status\")\n",
    "plt.title('Failure over time')\n",
    "plt.show()"
   ]
  },
  {
   "cell_type": "code",
   "execution_count": 22,
   "metadata": {},
   "outputs": [
    {
     "data": {
      "image/png": "[encoded data removed]",
      "text/plain": [
       "<matplotlib.figure.Figure at 0x7fc2f455e7f0>"
      ]
     },
     "metadata": {},
     "output_type": "display_data"
    }
   ],
   "source": [
    "plt.scatter(\"obs_count\",\"status\", data=pm_final,marker='o', alpha = 0.25)\n",
    "plt.xlabel(\"Cumulative number of readings\")\n",
    "plt.ylabel(\"Status\")\n",
    "plt.title('Failure over time')\n",
    "plt.show()"
   ]
  },
  {
   "cell_type": "markdown",
   "metadata": {},
   "source": [
    "### Findings\n",
    "1. From the `Pairwise correlation` graph, there seems to be high correlation with sensor measurement 15 and the other sensor values\n",
    "2. Operation setting 1 and 2 seem to be correlated with all the sensor values as well. Might be expected as these settings could probably influence sensor readings.\n",
    "3. From the `gap between observations for failure` graph we notice that usually a sensor fails within 5 days of the previous measurement of the sensor. This seems to follow a Poisson distribution as well\n",
    "4. The `Failure Over time` graph suggests that all failures occur 100 days after the first measurement was recorded, and most of them fail within 100-300 days of the first reading of the sensor."
   ]
  },
  {
   "cell_type": "markdown",
   "metadata": {},
   "source": [
    "**In this case, failure to predict a status of 1 could be detrimental. Hence trying to design a model with a high Recall score (false positives)**"
   ]
  },
  {
   "cell_type": "markdown",
   "metadata": {},
   "source": [
    "# Should I be balancing the set? -- maybe later"
   ]
  },
  {
   "cell_type": "code",
   "execution_count": 23,
   "metadata": {
    "collapsed": true
   },
   "outputs": [],
   "source": [
    "from imblearn.over_sampling import SMOTE"
   ]
  },
  {
   "cell_type": "code",
   "execution_count": 24,
   "metadata": {
    "collapsed": true
   },
   "outputs": [],
   "source": [
    "# # Apply SMOTE's\n",
    "# X = pm_data.drop('time_stamp', axis = 1)\n",
    "# y = np.asarray(pm_data.drop('time_stamp', axis = 1)['status'])\n",
    "# kind = 'regular'\n",
    "# sm = SMOTE(kind='regular')\n",
    "# #X.shape\n",
    "# X_res, y_res = sm.fit_sample(X, y)\n",
    "# X_res.shape"
   ]
  },
  {
   "cell_type": "code",
   "execution_count": 25,
   "metadata": {
    "collapsed": true
   },
   "outputs": [],
   "source": [
    "# pm_bal = pd.DataFrame(X_res, columns= pm_data.drop(['time_stamp'], axis = 1).columns)\n",
    "# pm_bal[['status','unit_number']].groupby('status').agg('count')"
   ]
  },
  {
   "cell_type": "markdown",
   "metadata": {},
   "source": [
    "## Dataset for model selection\n",
    "\n",
    "1. For LSTM, create a 3d array for the input - (samples x window_size x features) and a 2d array for the label\n",
    "2. For other ensemble models, check if using `status_within_40` or creating a sequence of `status` yields better results"
   ]
  },
  {
   "cell_type": "code",
   "execution_count": 145,
   "metadata": {
    "collapsed": true
   },
   "outputs": [],
   "source": [
    "# Make a train/test split using 20% test size\n",
    "X_train_valid, X_test, y_train_valid, y_test = train_test_split(pm_final.drop(['status','status_within_40','time_stamp'], axis = 1)\n",
    "                                                    ,pm_final[['status']],\n",
    "                                                    test_size=0.20)"
   ]
  },
  {
   "cell_type": "code",
   "execution_count": 160,
   "metadata": {},
   "outputs": [
    {
     "data": {
      "text/plain": [
       "(67030, 28)"
      ]
     },
     "execution_count": 160,
     "metadata": {},
     "output_type": "execute_result"
    }
   ],
   "source": [
    "# Balance dataset\n",
    "sm=oversample.SMOTE(random_state=42)\n",
    "X_resampled, y_resampled = sm.fit_sample(X_train_valid, y_train_valid.values.ravel())\n",
    "X_resampled = pd.DataFrame(X_resampled, columns=X_train_valid.columns)\n",
    "y_resampled = pd.DataFrame(y_resampled, columns=y_train_valid.columns)\n",
    "X_resampled.shape"
   ]
  },
  {
   "cell_type": "code",
   "execution_count": 161,
   "metadata": {
    "collapsed": true
   },
   "outputs": [],
   "source": [
    "X_train, X_valid, y_train, y_valid = train_test_split(X_resampled\n",
    "                                                    , y_resampled\n",
    "                                                    , test_size=0.20)"
   ]
  },
  {
   "cell_type": "code",
   "execution_count": 102,
   "metadata": {},
   "outputs": [
    {
     "name": "stdout",
     "output_type": "stream",
     "text": [
      "(26928, 29)\n",
      "(6732, 29)\n",
      "(8416, 29)\n"
     ]
    }
   ],
   "source": [
    "print(X_train.shape)\n",
    "print(X_valid.shape)\n",
    "print(X_test.shape)"
   ]
  },
  {
   "cell_type": "code",
   "execution_count": 103,
   "metadata": {
    "scrolled": false
   },
   "outputs": [
    {
     "name": "stdout",
     "output_type": "stream",
     "text": [
      "0    26802\n",
      "1      126\n",
      "Name: status, dtype: int64\n",
      "0    6695\n",
      "1      37\n",
      "Name: status, dtype: int64\n",
      "0    8383\n",
      "1      33\n",
      "Name: status, dtype: int64\n"
     ]
    }
   ],
   "source": [
    "print(y_train.status.value_counts())\n",
    "print(y_valid.status.value_counts())\n",
    "print(y_test.status.value_counts())"
   ]
  },
  {
   "cell_type": "code",
   "execution_count": 104,
   "metadata": {
    "collapsed": true
   },
   "outputs": [],
   "source": [
    "def bind_scaled_non_scaled(data, scaled_feat, unscaled_feat, model):\n",
    "    \"\"\"\n",
    "    This function scales numeric features and binds other features to the matrix\n",
    "    \n",
    "    Args:\n",
    "        data: Features and label data\n",
    "        scaled_feat: Feature column names to be scaled\n",
    "        unscaled_feat: Columns which do not have to be scaled \n",
    "        model: Method to be used for scaling numeric values (default is Standard scaler)\n",
    "    \n",
    "    Output:\n",
    "        bind_data: pandas dataframe\n",
    "            Data frame consisting of scaled and unscaled features for model\n",
    "    \n",
    "    \"\"\"\n",
    "   \n",
    "    scaled_data = model.transform(data.loc[:,scaled_feat])\n",
    "    bind_data =  pd.concat([pd.DataFrame(scaled_data, columns = scaled_feat), \n",
    "                            data.loc[:,unscaled_feat].reset_index().drop(data.loc[:,unscaled_feat].columns[0], axis = 1)],\n",
    "                           axis = 1\n",
    "                          )\n",
    "    return bind_data"
   ]
  },
  {
   "cell_type": "code",
   "execution_count": 105,
   "metadata": {
    "collapsed": true,
    "scrolled": true
   },
   "outputs": [],
   "source": [
    "stdsc.fit(X_train.loc[:,scaling_features])\n",
    "\n",
    "X_train = bind_scaled_non_scaled(X_train, scaling_features, unscaled_features, stdsc)\n",
    "X_valid = bind_scaled_non_scaled(X_valid, scaling_features, unscaled_features, stdsc)\n",
    "X_test = bind_scaled_non_scaled(X_test, scaling_features, unscaled_features, stdsc)"
   ]
  },
  {
   "cell_type": "code",
   "execution_count": 106,
   "metadata": {
    "collapsed": true
   },
   "outputs": [],
   "source": [
    "def make_y_series(data, groupby_col, target_col, window_size):\n",
    "    \"\"\"\n",
    "    This function creates a 40 window time sequence of labels (status). Pads with 0s if length < window_size\n",
    "    \n",
    "    Args:\n",
    "        data: input dataset\n",
    "        groupby_col: Column to group by labels\n",
    "        target_col: Label column\n",
    "        window_size: Size of time series window\n",
    "    \n",
    "    Output:\n",
    "        Y: numpy 2d matrix\n",
    "            Matrix consisting of time series labels for each observation\n",
    "    \n",
    "    \"\"\"\n",
    "    Y = []\n",
    "    \n",
    "    # loop through each turbine data and append next 40 values\n",
    "    for unit, value in data[[groupby_col,target_col]].groupby(groupby_col):\n",
    "        data = value.status.values.tolist()\n",
    "        \n",
    "        for i in range(len(data)):\n",
    "            Y_blocks = data[i: i + window_size]\n",
    "\n",
    "            if len(Y_blocks) < window_size: # if the next 40 values aren't present, pad with 0s. Check if this approach is the best?\n",
    "                Y_blocks[len(Y_blocks):(window_size - 1)] = [0] * (window_size - len(Y_blocks))\n",
    "            Y.append(Y_blocks)\n",
    "\n",
    "    return np.array(Y)"
   ]
  },
  {
   "cell_type": "code",
   "execution_count": 107,
   "metadata": {},
   "outputs": [
    {
     "data": {
      "text/plain": [
       "(42076, 40)"
      ]
     },
     "execution_count": 107,
     "metadata": {},
     "output_type": "execute_result"
    }
   ],
   "source": [
    "Y = make_y_series(pm_final, 'unit_number', 'status', 40)\n",
    "Y.shape"
   ]
  },
  {
   "cell_type": "markdown",
   "metadata": {},
   "source": [
    "## Fit LSTM with a 40 layer output to predict the failure event for the next 40 days"
   ]
  },
  {
   "cell_type": "markdown",
   "metadata": {},
   "source": [
    "LSTM design\n",
    "1. Input dim -- input shape is equal to the window size and features(24) for this window size(40).\n",
    "2. Output dim -- probabilities of failure for 40 future days. If prob > 0.5 it can classified as 1 else 0."
   ]
  },
  {
   "cell_type": "code",
   "execution_count": 108,
   "metadata": {
    "collapsed": true
   },
   "outputs": [],
   "source": [
    "# slide a window of 40 and capture feature and status information\n",
    "# do this for total number of rows in data - size of window(40)\n",
    "# check if this should be done, or the window itself has to move by 40 per iteration\n",
    "def pre_process_data_LSTM(data, feature_columns, target_label, window_size, resample = False):\n",
    "    X,Y = [],[]\n",
    "#     data = data.reset_index()\n",
    "    for i in range(data.shape[0]-window_size-1): \n",
    "        X_block = np.array(data.loc[i:(i+window_size-1),feature_columns])\n",
    "        Y_block = np.array(data.loc[i:(i+window_size-1),target_label])\n",
    "        \n",
    "        if X_block.shape[1] < (window_size - 1):\n",
    "            X_block[X_block.shape[1]:window_size-1] = 0\n",
    "            Y_block[X_block.shape[1]:window_size-1] = 0\n",
    "\n",
    "        X.append(X_block)\n",
    "        Y.append(Y_block)\n",
    "    return np.array(X),np.array(Y)"
   ]
  },
  {
   "cell_type": "code",
   "execution_count": 164,
   "metadata": {
    "collapsed": true
   },
   "outputs": [
    {
     "name": "stdout",
     "output_type": "stream",
     "text": [
      "time taken: 95.20971131324768\n"
     ]
    }
   ],
   "source": [
    "window_size = 40\n",
    "t0 = time()\n",
    "\n",
    "X_tr_ls, y_tr_ls = pre_process_data_LSTM(pd.concat([X_train.reset_index(drop = True),\n",
    "                                                      y_train.reset_index(drop = True)], axis = 1), \n",
    "                                                     feature_names,\n",
    "                                                     'status',\n",
    "                                                     window_size)\n",
    "X_val_ls, y_val_ls = pre_process_data_LSTM(pd.concat([X_valid.reset_index(drop = True),\n",
    "                                                      y_valid.reset_index(drop = True)], axis = 1), \n",
    "                                                     feature_names,\n",
    "                                                     'status',\n",
    "                                                     window_size)\n",
    "X_test_ls, y_test_ls = pre_process_data_LSTM(pd.concat([X_test.reset_index(drop = True),\n",
    "                                                      y_test.reset_index(drop = True)], axis = 1), \n",
    "                                                     feature_names,\n",
    "                                                     'status',\n",
    "                                                     window_size)\n",
    "print(\"time taken:\", (time() - t0))"
   ]
  },
  {
   "cell_type": "code",
   "execution_count": 165,
   "metadata": {},
   "outputs": [
    {
     "name": "stdout",
     "output_type": "stream",
     "text": [
      "Shape of input (53583, 40, 24)\n",
      "Shape of output (53583, 40)\n"
     ]
    }
   ],
   "source": [
    "print(\"Shape of input\",X_tr_ls.shape)\n",
    "print(\"Shape of output\",y_tr_ls.shape)"
   ]
  },
  {
   "cell_type": "code",
   "execution_count": 170,
   "metadata": {
    "collapsed": true
   },
   "outputs": [],
   "source": [
    "# define roc_callback, inspired by https://github.com/keras-team/keras/issues/6050#issuecomment-329996505\n",
    "# precision and recall were removed from keras, here's the commit https://github.com/keras-team/keras/commit/a56b1a55182acf061b1eb2e2c86b48193a0e88f7\n",
    "def auc_roc(y_true, y_pred):\n",
    "    # any tensorflow metric\n",
    "    value, update_op = tf.contrib.metrics.streaming_auc(y_pred, y_true)\n",
    "\n",
    "    # find all variables created for this metric\n",
    "    metric_vars = [i for i in tf.local_variables() if 'auc_roc' in i.name.split('/')[1]]\n",
    "\n",
    "    # Add metric variables to GLOBAL_VARIABLES collection.\n",
    "    # They will be initialized for new session.\n",
    "    for v in metric_vars:\n",
    "        tf.add_to_collection(tf.GraphKeys.GLOBAL_VARIABLES, v)\n",
    "\n",
    "    # force to update metric values\n",
    "    with tf.control_dependencies([update_op]):\n",
    "        value = tf.identity(value)\n",
    "        return value\n",
    "\n",
    "def precision(y_true, y_pred):\n",
    "    \"\"\"Precision metric.\n",
    "\n",
    "    Only computes a batch-wise average of precision.\n",
    "\n",
    "    Computes the precision, a metric for multi-label classification of\n",
    "    how many selected items are relevant.\n",
    "    \"\"\"\n",
    "    true_positives = K.sum(K.round(K.clip(y_true * y_pred, 0, 1)))\n",
    "    predicted_positives = K.sum(K.round(K.clip(y_pred, 0, 1)))\n",
    "    precision = true_positives / (predicted_positives + K.epsilon())\n",
    "    return precision\n",
    "\n",
    "\n",
    "def recall(y_true, y_pred):\n",
    "    \"\"\"Recall metric.\n",
    "\n",
    "    Only computes a batch-wise average of recall.\n",
    "\n",
    "    Computes the recall, a metric for multi-label classification of\n",
    "    how many relevant items are selected.\n",
    "    \"\"\"\n",
    "    true_positives = K.sum(K.round(K.clip(y_true * y_pred, 0, 1)))\n",
    "    possible_positives = K.sum(K.round(K.clip(y_true, 0, 1)))\n",
    "    recall = true_positives / (possible_positives + K.epsilon())\n",
    "    return recall"
   ]
  },
  {
   "cell_type": "code",
   "execution_count": 114,
   "metadata": {},
   "outputs": [],
   "source": [
    "#https://stackoverflow.com/questions/45411902/how-to-use-f1-score-with-keras-model"
   ]
  },
  {
   "cell_type": "code",
   "execution_count": 175,
   "metadata": {
    "scrolled": false
   },
   "outputs": [
    {
     "name": "stdout",
     "output_type": "stream",
     "text": [
      "_________________________________________________________________\n",
      "Layer (type)                 Output Shape              Param #   \n",
      "=================================================================\n",
      "lstm_29 (LSTM)               (None, 40, 50)            15000     \n",
      "_________________________________________________________________\n",
      "dropout_29 (Dropout)         (None, 40, 50)            0         \n",
      "_________________________________________________________________\n",
      "lstm_30 (LSTM)               (None, 50)                20200     \n",
      "_________________________________________________________________\n",
      "dropout_30 (Dropout)         (None, 50)                0         \n",
      "_________________________________________________________________\n",
      "dense_15 (Dense)             (None, 40)                2040      \n",
      "=================================================================\n",
      "Total params: 37,240\n",
      "Trainable params: 37,240\n",
      "Non-trainable params: 0\n",
      "_________________________________________________________________\n",
      "None\n",
      "Train on 56905 samples, validate on 10043 samples\n",
      "Epoch 1/10\n",
      "56905/56905 [==============================] - 78s 1ms/step - loss: 0.5008 - acc: 0.6796 - recall: 0.4780 - precision: 0.4883 - auc_roc: 0.6892 - val_loss: 0.4386 - val_acc: 0.6874 - val_recall: 0.4638 - val_precision: 0.4973 - val_auc_roc: 0.7501\n",
      "Epoch 2/10\n",
      "56905/56905 [==============================] - 74s 1ms/step - loss: 0.4467 - acc: 0.6872 - recall: 0.5016 - precision: 0.5001 - auc_roc: 0.7580 - val_loss: 0.4358 - val_acc: 0.6872 - val_recall: 0.6000 - val_precision: 0.4976 - val_auc_roc: 0.7625\n",
      "Epoch 3/10\n",
      "56905/56905 [==============================] - 74s 1ms/step - loss: 0.4410 - acc: 0.6875 - recall: 0.5014 - precision: 0.5005 - auc_roc: 0.7648 - val_loss: 0.4348 - val_acc: 0.6873 - val_recall: 0.5600 - val_precision: 0.4975 - val_auc_roc: 0.7664\n",
      "Epoch 4/10\n",
      "56905/56905 [==============================] - 75s 1ms/step - loss: 0.4381 - acc: 0.6878 - recall: 0.5061 - precision: 0.5009 - auc_roc: 0.7675 - val_loss: 0.4343 - val_acc: 0.6876 - val_recall: 0.4800 - val_precision: 0.4976 - val_auc_roc: 0.7683\n",
      "Epoch 5/10\n",
      "56905/56905 [==============================] - 79s 1ms/step - loss: 0.4365 - acc: 0.6875 - recall: 0.5055 - precision: 0.5004 - auc_roc: 0.7689 - val_loss: 0.4340 - val_acc: 0.6872 - val_recall: 0.5357 - val_precision: 0.4973 - val_auc_roc: 0.7694\n",
      "Epoch 6/10\n",
      "56905/56905 [==============================] - 75s 1ms/step - loss: 0.4354 - acc: 0.6877 - recall: 0.5052 - precision: 0.5008 - auc_roc: 0.7697 - val_loss: 0.4338 - val_acc: 0.6874 - val_recall: 0.5200 - val_precision: 0.4975 - val_auc_roc: 0.7701\n",
      "Epoch 7/10\n",
      "56905/56905 [==============================] - 79s 1ms/step - loss: 0.4348 - acc: 0.6876 - recall: 0.5076 - precision: 0.5006 - auc_roc: 0.7703 - val_loss: 0.4337 - val_acc: 0.6871 - val_recall: 0.6400 - val_precision: 0.4975 - val_auc_roc: 0.7705\n",
      "Epoch 8/10\n",
      "56905/56905 [==============================] - 80s 1ms/step - loss: 0.4343 - acc: 0.6875 - recall: 0.5117 - precision: 0.5005 - auc_roc: 0.7707 - val_loss: 0.4336 - val_acc: 0.6874 - val_recall: 0.5601 - val_precision: 0.4976 - val_auc_roc: 0.7709\n",
      "Epoch 9/10\n",
      "56905/56905 [==============================] - 80s 1ms/step - loss: 0.4340 - acc: 0.6873 - recall: 0.5064 - precision: 0.5002 - auc_roc: 0.7710 - val_loss: 0.4336 - val_acc: 0.6869 - val_recall: 0.6800 - val_precision: 0.4976 - val_auc_roc: 0.7711\n",
      "Epoch 10/10\n",
      "56905/56905 [==============================] - 82s 1ms/step - loss: 0.4339 - acc: 0.6872 - recall: 0.5149 - precision: 0.5001 - auc_roc: 0.7712 - val_loss: 0.4336 - val_acc: 0.6874 - val_recall: 0.5200 - val_precision: 0.4976 - val_auc_roc: 0.7713\n",
      "Total time to run model 779.2569658756256\n"
     ]
    }
   ],
   "source": [
    "# Dropout is also applied after each LSTM layer to control overfitting. \n",
    "# Final layer is a Dense output layer with single unit and sigmoid activation since this is a binary classification problem.\n",
    "t0 = time()\n",
    "nb_features = X_tr_ls.shape[2]\n",
    "nb_out = y_tr_ls.shape[1]\n",
    "window_size = 40\n",
    "\n",
    "model = Sequential()\n",
    "\n",
    "model.add(LSTM(\n",
    "         input_shape=(window_size, nb_features),\n",
    "         units=50,\n",
    "         return_sequences=True))\n",
    "model.add(Dropout(0.2))\n",
    "\n",
    "model.add(LSTM(\n",
    "          units=50,\n",
    "          return_sequences=False))\n",
    "model.add(Dropout(0.2))\n",
    "\n",
    "model.add(Dense(units=nb_out, activation='sigmoid'))\n",
    "model.compile(loss='binary_crossentropy', optimizer='adam', metrics=['accuracy',recall,precision,auc_roc])\n",
    "\n",
    "print(model.summary())\n",
    "\n",
    "# fit the network\n",
    "X_tr_val = np.concatenate((X_tr_ls,X_val_ls), axis = 0)\n",
    "y_tr_val = np.concatenate((y_tr_ls,y_val_ls), axis = 0)\n",
    "\n",
    "model.fit(X_tr_val, y_tr_val, epochs=10, batch_size=500, verbose=1, validation_split = 0.15, \n",
    "          callbacks = [keras.callbacks.EarlyStopping(monitor='recall', patience=5, verbose=1, mode='max')]\n",
    "          )\n",
    "\n",
    "print(\"Total time to run model\", (time() - t0))"
   ]
  },
  {
   "cell_type": "code",
   "execution_count": 190,
   "metadata": {},
   "outputs": [
    {
     "name": "stdout",
     "output_type": "stream",
     "text": [
      "Saved model to disk\n"
     ]
    }
   ],
   "source": [
    "from keras.models import model_from_json\n",
    "# serialize model to JSON\n",
    "model_json = model.to_json()\n",
    "with open(\"../models/model_Task1_LSTM.json\", \"w\") as json_file:\n",
    "    json_file.write(model_json)\n",
    "# serialize weights to HDF5\n",
    "model.save_weights(\"../models/model_Task1_LSTM.h5\")\n",
    "print(\"Saved model to disk\")"
   ]
  },
  {
   "cell_type": "code",
   "execution_count": null,
   "metadata": {},
   "outputs": [],
   "source": [
    "# # load json and create model\n",
    "# json_file = open('model.json', 'r')\n",
    "# loaded_model_json = json_file.read()\n",
    "# json_file.close()\n",
    "# loaded_model = model_from_json(loaded_model_json)\n",
    "# # load weights into new model\n",
    "# loaded_model.load_weights(\"model.h5\")\n",
    "# print(\"Loaded model from disk\")"
   ]
  },
  {
   "cell_type": "code",
   "execution_count": 186,
   "metadata": {},
   "outputs": [
    {
     "data": {
      "text/plain": [
       "0.687504481089801"
      ]
     },
     "execution_count": 186,
     "metadata": {},
     "output_type": "execute_result"
    }
   ],
   "source": [
    "preds = model.predict(X_tr_val)\n",
    "\n",
    "preds[preds>=0.5] = 1\n",
    "preds[preds<0.5] = 0\n",
    "\n",
    "np.mean(preds == y_tr_val)"
   ]
  },
  {
   "cell_type": "markdown",
   "metadata": {},
   "source": [
    "## Trying Linear models, trees..."
   ]
  },
  {
   "cell_type": "markdown",
   "metadata": {},
   "source": [
    "For `status_within_40` try Basic linear models/trees\n",
    "\n",
    "Try balancing dataset using undersampling,oversampling and both. Then try fitting the models again"
   ]
  },
  {
   "cell_type": "code",
   "execution_count": 23,
   "metadata": {
    "collapsed": true
   },
   "outputs": [],
   "source": [
    "# Make a train/test split using 20% test size\n",
    "X_train_valid, X_test, y_train_valid_40, y_test_40 = train_test_split(pm_final.drop(['status','status_within_40'], axis = 1)\n",
    "                                                    ,pm_final[['status_within_40']],\n",
    "                                                    test_size=0.20)"
   ]
  },
  {
   "cell_type": "code",
   "execution_count": 24,
   "metadata": {
    "collapsed": true
   },
   "outputs": [],
   "source": [
    "X_train, X_valid, y_train_40, y_valid_40 = train_test_split(X_train_valid\n",
    "                                                    , y_train_valid_40\n",
    "                                                    , test_size=0.20)"
   ]
  },
  {
   "cell_type": "code",
   "execution_count": 25,
   "metadata": {},
   "outputs": [
    {
     "name": "stdout",
     "output_type": "stream",
     "text": [
      "(26928, 29)\n",
      "(6732, 29)\n",
      "(8416, 29)\n"
     ]
    }
   ],
   "source": [
    "print(X_train.shape)\n",
    "print(X_valid.shape)\n",
    "print(X_test.shape)"
   ]
  },
  {
   "cell_type": "code",
   "execution_count": 26,
   "metadata": {
    "collapsed": true
   },
   "outputs": [],
   "source": [
    "X_tr = X_train.loc[:,feature_names]\n",
    "X_val = X_valid.loc[:,feature_names]\n",
    "X_te = X_test.loc[:,feature_names]\n",
    "y_tr = np.array(y_train_40.iloc[:,0])\n",
    "y_val = np.array(y_valid_40.iloc[:,0])\n",
    "y_te = np.array(y_test_40.iloc[:,0])"
   ]
  },
  {
   "cell_type": "code",
   "execution_count": 28,
   "metadata": {
    "collapsed": true
   },
   "outputs": [],
   "source": [
    "names = [\"Nearest Neighbors\", \"Linear SVC\", \"Decision Tree\", \n",
    "         \"Random Forest\", \"Neural Net\", \"AdaBoost\",\n",
    "         \"Naive Bayes\", \"XG Boost\"]"
   ]
  },
  {
   "cell_type": "code",
   "execution_count": 29,
   "metadata": {
    "collapsed": true
   },
   "outputs": [],
   "source": [
    "classifiers = [\n",
    "    KNeighborsClassifier(n_neighbors= 3,n_jobs= -1),\n",
    "    LinearSVC(C=0.02, class_weight='balanced'),\n",
    "    DecisionTreeClassifier(max_depth=7, class_weight='balanced'),\n",
    "    RandomForestClassifier(max_depth=10, n_estimators=20, max_features=1, class_weight='balanced'),\n",
    "    MLPClassifier(hidden_layer_sizes = (50,100,100),activation = 'logistic', alpha=0.01),\n",
    "    AdaBoostClassifier(algorithm=\"SAMME\"),\n",
    "    GaussianNB(),\n",
    "    XGBClassifier(max_depth=10,min_child_weight=1, gamma=0, scale_pos_weight=1,objective= 'binary:logistic')]"
   ]
  },
  {
   "cell_type": "code",
   "execution_count": 41,
   "metadata": {
    "scrolled": true
   },
   "outputs": [
    {
     "name": "stdout",
     "output_type": "stream",
     "text": [
      "Model name: Nearest Neighbors\n",
      "             precision    recall  f1-score   support\n",
      "\n",
      "    Running       0.95      0.99      0.97      6354\n",
      "    Failure       0.46      0.20      0.28       378\n",
      "\n",
      "avg / total       0.93      0.94      0.93      6732\n",
      "\n",
      "Model name: Linear SVM\n",
      "             precision    recall  f1-score   support\n",
      "\n",
      "    Running       0.99      0.72      0.84      6354\n",
      "    Failure       0.16      0.90      0.28       378\n",
      "\n",
      "avg / total       0.95      0.73      0.81      6732\n",
      "\n",
      "Model name: Decision Tree\n",
      "             precision    recall  f1-score   support\n",
      "\n",
      "    Running       0.98      0.86      0.92      6354\n",
      "    Failure       0.24      0.76      0.37       378\n",
      "\n",
      "avg / total       0.94      0.85      0.89      6732\n",
      "\n",
      "Model name: Random Forest\n",
      "             precision    recall  f1-score   support\n",
      "\n",
      "    Running       0.99      0.87      0.93      6354\n",
      "    Failure       0.27      0.81      0.41       378\n",
      "\n",
      "avg / total       0.95      0.87      0.90      6732\n",
      "\n",
      "Model name: Neural Net\n",
      "             precision    recall  f1-score   support\n",
      "\n",
      "    Running       0.94      1.00      0.97      6354\n",
      "    Failure       0.00      0.00      0.00       378\n",
      "\n",
      "avg / total       0.89      0.94      0.92      6732\n",
      "\n",
      "Model name: AdaBoost\n",
      "             precision    recall  f1-score   support\n",
      "\n",
      "    Running       0.95      0.99      0.97      6354\n",
      "    Failure       0.32      0.07      0.11       378\n",
      "\n",
      "avg / total       0.91      0.94      0.92      6732\n",
      "\n",
      "Model name: Naive Bayes\n",
      "             precision    recall  f1-score   support\n",
      "\n",
      "    Running       0.94      1.00      0.97      6354\n",
      "    Failure       0.00      0.00      0.00       378\n",
      "\n",
      "avg / total       0.89      0.94      0.92      6732\n",
      "\n",
      "Model name: XG Boost\n",
      "             precision    recall  f1-score   support\n",
      "\n",
      "    Running       0.95      0.99      0.97      6354\n",
      "    Failure       0.46      0.16      0.24       378\n",
      "\n",
      "avg / total       0.92      0.94      0.93      6732\n",
      "\n"
     ]
    }
   ],
   "source": [
    "import warnings\n",
    "warnings.filterwarnings('ignore')\n",
    "for name, clf in zip(names, classifiers):\n",
    "    clf.fit(X_tr, y_train_40)\n",
    "    y_pred = clf.predict(X_val)\n",
    "    print('Model name:', name)\n",
    "    target_names = ['Running', 'Failure']\n",
    "    print(classification_report(y_valid_40, y_pred, target_names=target_names))"
   ]
  },
  {
   "cell_type": "markdown",
   "metadata": {},
   "source": [
    "### Findings\n",
    "\n",
    "- All the models seem to perform poorly while predicting the failure class (low F1-score). I'm confident that this has to do with the imbalanced dataset. Try proceeding with Random forest after balancing the classes. Linear SVM and Random forest with `class_weights` parameter seems to yield a **high Recall**, at the cost of precision. This is better than the other models\n",
    "- Random forest without balancing classes yields an average F1-score of `.45`"
   ]
  },
  {
   "cell_type": "code",
   "execution_count": 63,
   "metadata": {},
   "outputs": [
    {
     "name": "stdout",
     "output_type": "stream",
     "text": [
      "Fitting...\n",
      "iter 1\n",
      "Fitting...\n",
      "iter 2\n",
      "Fitting...\n",
      "iter 3\n",
      "Fitting...\n",
      "iter 4\n",
      "Fitting...\n",
      "iter 5\n",
      "Fitting...\n",
      "iter 6\n"
     ]
    }
   ],
   "source": [
    "val_scores=[]\n",
    "for trees in range(5,35,5):\n",
    "    print(\"Fitting...\")\n",
    "    print(\"iter\", trees//5)\n",
    "    clf = RandomForestClassifier(max_depth=15, \n",
    "                                 n_estimators= trees,\n",
    "                                 class_weight='balanced')\n",
    "    validated = cross_val_score(clf, \n",
    "                                X_train_valid.loc[:,feature_names],\n",
    "                                y_train_valid_40, \n",
    "                                cv = 10, \n",
    "                                scoring = 'f1')\n",
    "    val_scores.append(validated)"
   ]
  },
  {
   "cell_type": "code",
   "execution_count": 65,
   "metadata": {
    "collapsed": true
   },
   "outputs": [],
   "source": [
    "val_scores = pd.DataFrame(val_scores, index= [i for i in range(5,35,5)] )"
   ]
  },
  {
   "cell_type": "code",
   "execution_count": 66,
   "metadata": {},
   "outputs": [
    {
     "data": {
      "image/png": "[encoded data removed]",
      "text/plain": [
       "<matplotlib.figure.Figure at 0x7f3727629080>"
      ]
     },
     "metadata": {},
     "output_type": "display_data"
    }
   ],
   "source": [
    "ax = sns.boxplot(data = val_scores.T)\n",
    "ax.set(xlabel='Trees', ylabel='F1-score')\n",
    "plt.show()"
   ]
  },
  {
   "cell_type": "markdown",
   "metadata": {},
   "source": [
    "### Using a balanced dataset"
   ]
  },
  {
   "cell_type": "code",
   "execution_count": 68,
   "metadata": {
    "collapsed": true
   },
   "outputs": [],
   "source": [
    "# source: http://contrib.scikit-learn.org/imbalanced-learn/stable/auto_examples/evaluation/plot_classification_report.html#sphx-glr-auto-examples-evaluation-plot-classification-report-py"
   ]
  },
  {
   "cell_type": "code",
   "execution_count": 29,
   "metadata": {
    "collapsed": true
   },
   "outputs": [],
   "source": [
    "from imblearn import over_sampling as os\n",
    "from imblearn.under_sampling import (ClusterCentroids, RandomUnderSampler,\n",
    "                                     NearMiss,\n",
    "                                     InstanceHardnessThreshold,\n",
    "                                     CondensedNearestNeighbour,\n",
    "                                     EditedNearestNeighbours,\n",
    "                                     RepeatedEditedNearestNeighbours,\n",
    "                                     AllKNN,\n",
    "                                     NeighbourhoodCleaningRule,\n",
    "                                     OneSidedSelection)\n",
    "from imblearn import pipeline as pl\n",
    "from imblearn.metrics import classification_report_imbalanced"
   ]
  },
  {
   "cell_type": "code",
   "execution_count": 73,
   "metadata": {
    "collapsed": true
   },
   "outputs": [
    {
     "name": "stdout",
     "output_type": "stream",
     "text": [
      "Using <class 'imblearn.under_sampling.prototype_selection.random_under_sampler.RandomUnderSampler'>\n",
      "Predicting for RandomUnderSampler(random_state=1234, ratio='auto', replacement=False,\n",
      "          return_indices=False)\n",
      "                   pre       rec       spe        f1       geo       iba       sup\n",
      "\n",
      "          0       0.99      0.83      0.88      0.90      0.86      0.73      6354\n",
      "          1       0.24      0.88      0.83      0.37      0.86      0.74       378\n",
      "\n",
      "avg / total       0.95      0.83      0.88      0.87      0.86      0.73      6732\n",
      "\n",
      "Time elapsed: 0.15831232070922852\n",
      "Using <class 'imblearn.under_sampling.prototype_selection.nearmiss.NearMiss'>\n",
      "Predicting for NearMiss(n_jobs=1, n_neighbors=3, n_neighbors_ver3=3, random_state=1234,\n",
      "     ratio='auto', return_indices=False, size_ngh=None, ver3_samp_ngh=None,\n",
      "     version=1)\n",
      "                   pre       rec       spe        f1       geo       iba       sup\n",
      "\n",
      "          0       0.97      0.63      0.70      0.76      0.67      0.44      6354\n",
      "          1       0.10      0.70      0.63      0.18      0.67      0.45       378\n",
      "\n",
      "avg / total       0.92      0.63      0.70      0.73      0.67      0.44      6732\n",
      "\n",
      "Time elapsed: 0.44641661643981934\n",
      "Using <class 'imblearn.under_sampling.prototype_selection.instance_hardness_threshold.InstanceHardnessThreshold'>\n",
      "Predicting for InstanceHardnessThreshold(cv=5, estimator=None, n_jobs=1, random_state=1234,\n",
      "             ratio='auto', return_indices=False)\n",
      "                   pre       rec       spe        f1       geo       iba       sup\n",
      "\n",
      "          0       0.98      0.89      0.74      0.94      0.81      0.67      6354\n",
      "          1       0.29      0.74      0.89      0.42      0.81      0.65       378\n",
      "\n",
      "avg / total       0.94      0.89      0.75      0.91      0.81      0.67      6732\n",
      "\n",
      "Time elapsed: 3.7944753170013428\n",
      "Using <class 'imblearn.under_sampling.prototype_selection.edited_nearest_neighbours.EditedNearestNeighbours'>\n",
      "Predicting for EditedNearestNeighbours(kind_sel='all', n_jobs=1, n_neighbors=3,\n",
      "            random_state=1234, ratio='auto', return_indices=False,\n",
      "            size_ngh=None)\n",
      "                   pre       rec       spe        f1       geo       iba       sup\n",
      "\n",
      "          0       0.97      0.95      0.44      0.96      0.65      0.44      6354\n",
      "          1       0.36      0.44      0.95      0.40      0.65      0.40       378\n",
      "\n",
      "avg / total       0.93      0.92      0.47      0.93      0.65      0.44      6732\n",
      "\n",
      "Time elapsed: 2.292475461959839\n",
      "Using <class 'imblearn.under_sampling.prototype_selection.one_sided_selection.OneSidedSelection'>\n"
     ]
    },
    {
     "name": "stderr",
     "output_type": "stream",
     "text": [
      "/home/mojo/anaconda3/lib/python3.6/site-packages/imblearn/under_sampling/prototype_selection/one_sided_selection.py:197: DeprecationWarning: in the future out of bounds indices will raise an error instead of being ignored by `numpy.delete`.\n",
      "  idx_maj_extracted = np.delete(idx_maj, idx_maj_sample, axis=0)\n"
     ]
    },
    {
     "name": "stdout",
     "output_type": "stream",
     "text": [
      "Predicting for OneSidedSelection(n_jobs=1, n_neighbors=None, n_seeds_S=1, random_state=1234,\n",
      "         ratio='auto', return_indices=False, size_ngh=None)\n",
      "                   pre       rec       spe        f1       geo       iba       sup\n",
      "\n",
      "          0       0.95      0.98      0.22      0.97      0.46      0.23      6354\n",
      "          1       0.44      0.22      0.98      0.29      0.46      0.20       378\n",
      "\n",
      "avg / total       0.93      0.94      0.26      0.93      0.46      0.23      6732\n",
      "\n",
      "Time elapsed: 2.461308002471924\n",
      "Completed evaluation\n"
     ]
    }
   ],
   "source": [
    "RANDOM_STATE = 1234\n",
    "from time import time\n",
    "samplers = [RandomUnderSampler,\n",
    "             NearMiss,\n",
    "             InstanceHardnessThreshold,\n",
    "             EditedNearestNeighbours,\n",
    "             OneSidedSelection]\n",
    "\n",
    "for sampler in samplers:\n",
    "    t0 = time()\n",
    "    print(\"Using \" + str(sampler))\n",
    "    sampler = sampler(random_state= RANDOM_STATE)\n",
    "    clf = pl.make_pipeline(sampler, \n",
    "                           LogisticRegression(random_state=RANDOM_STATE))\n",
    "    clf.fit(X_tr, y_tr)\n",
    "    \n",
    "    print(\"Predicting for \" + str(sampler))\n",
    "    # Test the classifier and get the prediction\n",
    "    y_pred_val = clf.predict(X_val)\n",
    "\n",
    "    # Show the classification report\n",
    "    print(classification_report_imbalanced(y_val, y_pred_val))\n",
    "    print(\"Time elapsed:\", (time() - t0))\n",
    "\n",
    "print(\"Completed evaluation\")"
   ]
  },
  {
   "cell_type": "markdown",
   "metadata": {},
   "source": [
    "**Achieved highest recall and F1-score using Random under sampling** "
   ]
  },
  {
   "cell_type": "code",
   "execution_count": 70,
   "metadata": {
    "collapsed": true
   },
   "outputs": [
    {
     "name": "stdout",
     "output_type": "stream",
     "text": [
      "Using SMOTE(k=None, k_neighbors=5, kind='regular', m=None, m_neighbors=10, n_jobs=1,\n",
      "   out_step=0.5, random_state=1234, ratio='auto', svm_estimator=None)\n",
      "Predicting for SMOTE(k=None, k_neighbors=5, kind='regular', m=None, m_neighbors=10, n_jobs=1,\n",
      "   out_step=0.5, random_state=1234, ratio='auto', svm_estimator=None)\n",
      "                   pre       rec       spe        f1       geo       iba       sup\n",
      "\n",
      "          0       0.99      0.85      0.85      0.91      0.85      0.72      6354\n",
      "          1       0.25      0.85      0.85      0.39      0.85      0.73       378\n",
      "\n",
      "avg / total       0.95      0.85      0.85      0.88      0.85      0.72      6732\n",
      "\n",
      "Time elapsed: 3.657618284225464\n"
     ]
    }
   ],
   "source": [
    "RANDOM_STATE = 1234\n",
    "t0 = time()\n",
    "print(\"Using \" + str(sampler))\n",
    "sampler =os.SMOTE(random_state=RANDOM_STATE)\n",
    "clf = pl.make_pipeline(sampler, \n",
    "                       LogisticRegression(random_state=RANDOM_STATE))\n",
    "clf.fit(X_tr, y_tr)\n",
    "\n",
    "print(\"Predicting for \" + str(sampler))\n",
    "# Test the classifier and get the prediction\n",
    "y_pred_bal =clf.predict(X_val)\n",
    "\n",
    "# Show the classification report\n",
    "print(classification_report_imbalanced(y_val, y_pred_bal))\n",
    "print(\"Time elapsed:\", (time() - t0))"
   ]
  },
  {
   "cell_type": "markdown",
   "metadata": {},
   "source": [
    "**Achieved a recall of 0.85 and f-1 score of 0.4 on the validation set using Over-sampling**"
   ]
  }
 ],
 "metadata": {
  "kernelspec": {
   "display_name": "Python 3",
   "language": "python",
   "name": "python3"
  },
  "language_info": {
   "codemirror_mode": {
    "name": "ipython",
    "version": 3
   },
   "file_extension": ".py",
   "mimetype": "text/x-python",
   "name": "python",
   "nbconvert_exporter": "python",
   "pygments_lexer": "ipython3",
   "version": "3.6.3"
  }
 },
 "nbformat": 4,
 "nbformat_minor": 2
}
